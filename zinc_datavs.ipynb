{
  "cells": [
    {
      "cell_type": "code",
      "execution_count": null,
      "metadata": {
        "colab": {
          "base_uri": "https://localhost:8080/"
        },
        "id": "Jz5ZMykQziqb",
        "outputId": "8dd84394-5261-4135-aea4-e067d2cc2fde"
      },
      "outputs": [
        {
          "name": "stdout",
          "output_type": "stream",
          "text": [
            "Looking in indexes: https://pypi.org/simple, https://us-python.pkg.dev/colab-wheels/public/simple/\n",
            "Requirement already satisfied: pandas in /usr/local/lib/python3.9/dist-packages (1.4.4)\n",
            "Requirement already satisfied: pytz>=2020.1 in /usr/local/lib/python3.9/dist-packages (from pandas) (2022.7.1)\n",
            "Requirement already satisfied: python-dateutil>=2.8.1 in /usr/local/lib/python3.9/dist-packages (from pandas) (2.8.2)\n",
            "Requirement already satisfied: numpy>=1.18.5 in /usr/local/lib/python3.9/dist-packages (from pandas) (1.22.4)\n",
            "Requirement already satisfied: six>=1.5 in /usr/local/lib/python3.9/dist-packages (from python-dateutil>=2.8.1->pandas) (1.16.0)\n",
            "Looking in indexes: https://pypi.org/simple, https://us-python.pkg.dev/colab-wheels/public/simple/\n",
            "Requirement already satisfied: numpy in /usr/local/lib/python3.9/dist-packages (1.22.4)\n",
            "Looking in indexes: https://pypi.org/simple, https://us-python.pkg.dev/colab-wheels/public/simple/\n",
            "Requirement already satisfied: matplotlib in /usr/local/lib/python3.9/dist-packages (3.7.1)\n",
            "Requirement already satisfied: contourpy>=1.0.1 in /usr/local/lib/python3.9/dist-packages (from matplotlib) (1.0.7)\n",
            "Requirement already satisfied: pillow>=6.2.0 in /usr/local/lib/python3.9/dist-packages (from matplotlib) (8.4.0)\n",
            "Requirement already satisfied: kiwisolver>=1.0.1 in /usr/local/lib/python3.9/dist-packages (from matplotlib) (1.4.4)\n",
            "Requirement already satisfied: pyparsing>=2.3.1 in /usr/local/lib/python3.9/dist-packages (from matplotlib) (3.0.9)\n",
            "Requirement already satisfied: fonttools>=4.22.0 in /usr/local/lib/python3.9/dist-packages (from matplotlib) (4.39.3)\n",
            "Requirement already satisfied: packaging>=20.0 in /usr/local/lib/python3.9/dist-packages (from matplotlib) (23.0)\n",
            "Requirement already satisfied: python-dateutil>=2.7 in /usr/local/lib/python3.9/dist-packages (from matplotlib) (2.8.2)\n",
            "Requirement already satisfied: numpy>=1.20 in /usr/local/lib/python3.9/dist-packages (from matplotlib) (1.22.4)\n",
            "Requirement already satisfied: cycler>=0.10 in /usr/local/lib/python3.9/dist-packages (from matplotlib) (0.11.0)\n",
            "Requirement already satisfied: importlib-resources>=3.2.0 in /usr/local/lib/python3.9/dist-packages (from matplotlib) (5.12.0)\n",
            "Requirement already satisfied: zipp>=3.1.0 in /usr/local/lib/python3.9/dist-packages (from importlib-resources>=3.2.0->matplotlib) (3.15.0)\n",
            "Requirement already satisfied: six>=1.5 in /usr/local/lib/python3.9/dist-packages (from python-dateutil>=2.7->matplotlib) (1.16.0)\n",
            "Looking in indexes: https://pypi.org/simple, https://us-python.pkg.dev/colab-wheels/public/simple/\n",
            "Requirement already satisfied: scipy in /usr/local/lib/python3.9/dist-packages (1.10.1)\n",
            "Requirement already satisfied: numpy<1.27.0,>=1.19.5 in /usr/local/lib/python3.9/dist-packages (from scipy) (1.22.4)\n",
            "Looking in indexes: https://pypi.org/simple, https://us-python.pkg.dev/colab-wheels/public/simple/\n",
            "Collecting peakutils\n",
            "  Downloading PeakUtils-1.3.4-py3-none-any.whl (7.7 kB)\n",
            "Requirement already satisfied: scipy in /usr/local/lib/python3.9/dist-packages (from peakutils) (1.10.1)\n",
            "Requirement already satisfied: numpy in /usr/local/lib/python3.9/dist-packages (from peakutils) (1.22.4)\n",
            "Installing collected packages: peakutils\n",
            "Successfully installed peakutils-1.3.4\n"
          ]
        }
      ],
      "source": [
        "#Requirements\n",
        "!pip install pandas\n",
        "!pip install numpy\n",
        "!pip install matplotlib\n",
        "!pip install scipy\n",
        "!pip install peakutils"
      ]
    },
    {
      "attachments": {},
      "cell_type": "markdown",
      "metadata": {},
      "source": [
        "Import required libraries:"
      ]
    },
    {
      "cell_type": "code",
      "execution_count": 1,
      "metadata": {
        "id": "kDSKCyR1Uipg"
      },
      "outputs": [],
      "source": [
        "#import libraries in environment\n",
        "import pandas as pd\n",
        "import numpy as np\n",
        "import matplotlib.pyplot as plt\n",
        "from scipy.signal import find_peaks\n"
      ]
    },
    {
      "attachments": {},
      "cell_type": "markdown",
      "metadata": {},
      "source": [
        "Read the xrd data by pandas"
      ]
    },
    {
      "cell_type": "code",
      "execution_count": 188,
      "metadata": {
        "colab": {
          "base_uri": "https://localhost:8080/",
          "height": 423
        },
        "id": "O3kIeAoHEm4f",
        "outputId": "de28916f-0f2f-43af-c21a-ecd9a68f164b"
      },
      "outputs": [
        {
          "data": {
            "text/html": [
              "<div>\n",
              "<style scoped>\n",
              "    .dataframe tbody tr th:only-of-type {\n",
              "        vertical-align: middle;\n",
              "    }\n",
              "\n",
              "    .dataframe tbody tr th {\n",
              "        vertical-align: top;\n",
              "    }\n",
              "\n",
              "    .dataframe thead th {\n",
              "        text-align: right;\n",
              "    }\n",
              "</style>\n",
              "<table border=\"1\" class=\"dataframe\">\n",
              "  <thead>\n",
              "    <tr style=\"text-align: right;\">\n",
              "      <th></th>\n",
              "      <th>Angle (2theta)</th>\n",
              "      <th>Intensity (Counts)</th>\n",
              "    </tr>\n",
              "  </thead>\n",
              "  <tbody>\n",
              "    <tr>\n",
              "      <th>0</th>\n",
              "      <td>20.03</td>\n",
              "      <td>1</td>\n",
              "    </tr>\n",
              "    <tr>\n",
              "      <th>1</th>\n",
              "      <td>20.09</td>\n",
              "      <td>1</td>\n",
              "    </tr>\n",
              "    <tr>\n",
              "      <th>2</th>\n",
              "      <td>20.15</td>\n",
              "      <td>1</td>\n",
              "    </tr>\n",
              "    <tr>\n",
              "      <th>3</th>\n",
              "      <td>20.21</td>\n",
              "      <td>3</td>\n",
              "    </tr>\n",
              "    <tr>\n",
              "      <th>4</th>\n",
              "      <td>20.27</td>\n",
              "      <td>2</td>\n",
              "    </tr>\n",
              "    <tr>\n",
              "      <th>...</th>\n",
              "      <td>...</td>\n",
              "      <td>...</td>\n",
              "    </tr>\n",
              "    <tr>\n",
              "      <th>912</th>\n",
              "      <td>74.75</td>\n",
              "      <td>4</td>\n",
              "    </tr>\n",
              "    <tr>\n",
              "      <th>913</th>\n",
              "      <td>74.81</td>\n",
              "      <td>3</td>\n",
              "    </tr>\n",
              "    <tr>\n",
              "      <th>914</th>\n",
              "      <td>74.87</td>\n",
              "      <td>1</td>\n",
              "    </tr>\n",
              "    <tr>\n",
              "      <th>915</th>\n",
              "      <td>74.93</td>\n",
              "      <td>2</td>\n",
              "    </tr>\n",
              "    <tr>\n",
              "      <th>916</th>\n",
              "      <td>74.99</td>\n",
              "      <td>3</td>\n",
              "    </tr>\n",
              "  </tbody>\n",
              "</table>\n",
              "<p>917 rows × 2 columns</p>\n",
              "</div>"
            ],
            "text/plain": [
              "     Angle (2theta)  Intensity (Counts)\n",
              "0             20.03                   1\n",
              "1             20.09                   1\n",
              "2             20.15                   1\n",
              "3             20.21                   3\n",
              "4             20.27                   2\n",
              "..              ...                 ...\n",
              "912           74.75                   4\n",
              "913           74.81                   3\n",
              "914           74.87                   1\n",
              "915           74.93                   2\n",
              "916           74.99                   3\n",
              "\n",
              "[917 rows x 2 columns]"
            ]
          },
          "execution_count": 188,
          "metadata": {},
          "output_type": "execute_result"
        }
      ],
      "source": [
        "data = pd.read_csv('G:\\msc project sources\\XRD\\Group 1 - Zinc Powder.csv')\n",
        "data\n"
      ]
    },
    {
      "attachments": {},
      "cell_type": "markdown",
      "metadata": {},
      "source": [
        "Collecting information about dataset"
      ]
    },
    {
      "cell_type": "code",
      "execution_count": 4,
      "metadata": {
        "colab": {
          "base_uri": "https://localhost:8080/"
        },
        "id": "Eafmk-dSt3K5",
        "outputId": "a2024fa9-8515-42ce-dfbf-09fb4632b9c5"
      },
      "outputs": [
        {
          "name": "stdout",
          "output_type": "stream",
          "text": [
            "<class 'pandas.core.frame.DataFrame'>\n",
            "RangeIndex: 917 entries, 0 to 916\n",
            "Data columns (total 2 columns):\n",
            " #   Column              Non-Null Count  Dtype  \n",
            "---  ------              --------------  -----  \n",
            " 0   Angle (2theta)      917 non-null    float64\n",
            " 1   Intensity (Counts)  917 non-null    int64  \n",
            "dtypes: float64(1), int64(1)\n",
            "memory usage: 14.5 KB\n"
          ]
        }
      ],
      "source": [
        "data.info()"
      ]
    },
    {
      "cell_type": "code",
      "execution_count": 5,
      "metadata": {
        "colab": {
          "base_uri": "https://localhost:8080/"
        },
        "id": "ILs04gIku-p1",
        "outputId": "48892f07-d0c4-4201-e4d6-e49907f1bee5"
      },
      "outputs": [
        {
          "data": {
            "text/plain": [
              "Angle (2theta)        0\n",
              "Intensity (Counts)    0\n",
              "dtype: int64"
            ]
          },
          "execution_count": 5,
          "metadata": {},
          "output_type": "execute_result"
        }
      ],
      "source": [
        "#checking the data to filter out null spaces\n",
        "data.isnull().sum()"
      ]
    },
    {
      "cell_type": "code",
      "execution_count": 6,
      "metadata": {
        "id": "eCWm_jIIyW_5"
      },
      "outputs": [],
      "source": [
        "#setup data type as float for theta values to avoid errors in mathematical ops.\n",
        "data['Angle (2theta)'] = data['Angle (2theta)'].astype('float')"
      ]
    },
    {
      "attachments": {},
      "cell_type": "markdown",
      "metadata": {},
      "source": [
        "plot XRD data Intensity vs 2-Theta"
      ]
    },
    {
      "cell_type": "code",
      "execution_count": 7,
      "metadata": {
        "colab": {
          "base_uri": "https://localhost:8080/",
          "height": 472
        },
        "id": "odMQDNinEm4o",
        "outputId": "775cbc7f-b181-4923-ef57-2948bc636872"
      },
      "outputs": [
        {
          "data": {
            "image/png": "[encoded data removed]",
            "text/plain": [
              "<Figure size 640x480 with 1 Axes>"
            ]
          },
          "metadata": {},
          "output_type": "display_data"
        }
      ],
      "source": [
        "x=data['Angle (2theta)']\n",
        "y=data['Intensity (Counts)']\n",
        "plt.plot(data['Angle (2theta)'], data['Intensity (Counts)'])\n",
        "plt.xlabel('2-theta')\n",
        "plt.ylabel('Intensity')\n",
        "plt.title('XRD pattern for Zinc powder')\n",
        "plt.show()"
      ]
    },
    {
      "cell_type": "code",
      "execution_count": 9,
      "metadata": {
        "id": "aGsdhj41Em4p"
      },
      "outputs": [],
      "source": [
        "#to detect the maximum intensity peaks\n",
        "peaks, _ = find_peaks(data['Intensity (Counts)'], height=60, distance=5)\n"
      ]
    },
    {
      "cell_type": "code",
      "execution_count": 10,
      "metadata": {
        "colab": {
          "base_uri": "https://localhost:8080/",
          "height": 449
        },
        "id": "_4F6nI10Em4p",
        "outputId": "3f6fb87f-1ce8-4fb8-a38d-767629945298"
      },
      "outputs": [
        {
          "data": {
            "image/png": "[encoded data removed]",
            "text/plain": [
              "<Figure size 640x480 with 1 Axes>"
            ]
          },
          "metadata": {},
          "output_type": "display_data"
        }
      ],
      "source": [
        "#mark the detected peak and plot data\n",
        "plt.plot(data['Angle (2theta)'], data['Intensity (Counts)'])\n",
        "plt.plot(data['Angle (2theta)'][peaks], data['Intensity (Counts)'][peaks], '*')\n",
        "plt.xlabel('2-theta')\n",
        "plt.ylabel('Intensity')\n",
        "plt.show()"
      ]
    },
    {
      "attachments": {},
      "cell_type": "markdown",
      "metadata": {},
      "source": [
        "Save the 2-theta values of detected peaks:"
      ]
    },
    {
      "cell_type": "code",
      "execution_count": 11,
      "metadata": {
        "id": "ujszVNi2Em4r"
      },
      "outputs": [],
      "source": [
        "# Save the coordinates of the detected peaks in a new file\n",
        "\n",
        "peak_coords = np.column_stack((x[peaks], y[peaks])).astype(float)\n",
        "np.savetxt('peak_file.csv', peak_coords, delimiter=',', header='Theta,Intensity', comments='')\n",
        "\n",
        "# Show the plot\n",
        "\n",
        "plt.show()\n",
        "#detection of Theta w.r.t detected peak"
      ]
    },
    {
      "attachments": {},
      "cell_type": "markdown",
      "metadata": {},
      "source": [
        "Read the detected peak 2-theta values and save for further ops:"
      ]
    },
    {
      "cell_type": "code",
      "execution_count": 134,
      "metadata": {
        "colab": {
          "base_uri": "https://localhost:8080/",
          "height": 269
        },
        "id": "yWqm6yyowukT",
        "outputId": "7c844be2-48a2-47ff-a637-795cc82df9c6"
      },
      "outputs": [],
      "source": [
        "detected_peak=pd.read_csv('peak_file.csv')\n",
        "x1=detected_peak['Theta'].tolist()\n",
        "y1=detected_peak['Intensity'].tolist()"
      ]
    },
    {
      "attachments": {},
      "cell_type": "markdown",
      "metadata": {},
      "source": [
        "Read the jcpds data:"
      ]
    },
    {
      "cell_type": "code",
      "execution_count": 201,
      "metadata": {},
      "outputs": [
        {
          "data": {
            "text/html": [
              "<div>\n",
              "<style scoped>\n",
              "    .dataframe tbody tr th:only-of-type {\n",
              "        vertical-align: middle;\n",
              "    }\n",
              "\n",
              "    .dataframe tbody tr th {\n",
              "        vertical-align: top;\n",
              "    }\n",
              "\n",
              "    .dataframe thead th {\n",
              "        text-align: right;\n",
              "    }\n",
              "</style>\n",
              "<table border=\"1\" class=\"dataframe\">\n",
              "  <thead>\n",
              "    <tr style=\"text-align: right;\">\n",
              "      <th></th>\n",
              "      <th>No.</th>\n",
              "      <th>Pos. [°2Th.]</th>\n",
              "      <th>d-spacing [Å]</th>\n",
              "      <th>Rel. Int. [%]</th>\n",
              "    </tr>\n",
              "  </thead>\n",
              "  <tbody>\n",
              "    <tr>\n",
              "      <th>0</th>\n",
              "      <td>1</td>\n",
              "      <td>36.6591</td>\n",
              "      <td>2.44942</td>\n",
              "      <td>24.10</td>\n",
              "    </tr>\n",
              "    <tr>\n",
              "      <th>1</th>\n",
              "      <td>2</td>\n",
              "      <td>36.8004</td>\n",
              "      <td>2.44640</td>\n",
              "      <td>29.86</td>\n",
              "    </tr>\n",
              "    <tr>\n",
              "      <th>2</th>\n",
              "      <td>3</td>\n",
              "      <td>39.3476</td>\n",
              "      <td>2.28803</td>\n",
              "      <td>20.52</td>\n",
              "    </tr>\n",
              "    <tr>\n",
              "      <th>3</th>\n",
              "      <td>4</td>\n",
              "      <td>43.5474</td>\n",
              "      <td>2.07661</td>\n",
              "      <td>100.00</td>\n",
              "    </tr>\n",
              "    <tr>\n",
              "      <th>4</th>\n",
              "      <td>5</td>\n",
              "      <td>54.6254</td>\n",
              "      <td>1.67877</td>\n",
              "      <td>23.00</td>\n",
              "    </tr>\n",
              "    <tr>\n",
              "      <th>5</th>\n",
              "      <td>6</td>\n",
              "      <td>70.3455</td>\n",
              "      <td>1.33722</td>\n",
              "      <td>29.03</td>\n",
              "    </tr>\n",
              "    <tr>\n",
              "      <th>6</th>\n",
              "      <td>7</td>\n",
              "      <td>70.8643</td>\n",
              "      <td>1.32870</td>\n",
              "      <td>23.40</td>\n",
              "    </tr>\n",
              "  </tbody>\n",
              "</table>\n",
              "</div>"
            ],
            "text/plain": [
              "   No.  Pos. [°2Th.]  d-spacing [Å]  Rel. Int. [%]\n",
              "0    1       36.6591        2.44942          24.10\n",
              "1    2       36.8004        2.44640          29.86\n",
              "2    3       39.3476        2.28803          20.52\n",
              "3    4       43.5474        2.07661         100.00\n",
              "4    5       54.6254        1.67877          23.00\n",
              "5    6       70.3455        1.33722          29.03\n",
              "6    7       70.8643        1.32870          23.40"
            ]
          },
          "execution_count": 201,
          "metadata": {},
          "output_type": "execute_result"
        }
      ],
      "source": [
        "jcpds_data=pd.read_csv('G:\\msc project sources\\XRD\\zinc powder.csv', encoding='unicode_escape')\n",
        "#Theta=detected_peak.iloc.drop('Intensity',axis=1,inplace=False\n",
        "\n",
        "# drop the column at index 1 (i.e. 'age' column) from the dataframe\n",
        "jcpds_data1 = jcpds_data.drop(jcpds_data.columns[[2,3,4,5,6,7,8,9,10,11,12,13,15,16,17,18,20,21]], axis=1)\n",
        "\n",
        "x=jcpds_data.iloc[:,1].tolist()  #jspds_theta\n",
        "y=jcpds_data.iloc[:,15].tolist()  #jcpds intensity\n",
        "# print the resulting dataframe\n",
        "jcpds_data1\n",
        "\n"
      ]
    },
    {
      "attachments": {},
      "cell_type": "markdown",
      "metadata": {
        "id": "eJJz3qruG4S5"
      },
      "source": [
        "Comparison of jcpds data with experimetal data"
      ]
    },
    {
      "cell_type": "code",
      "execution_count": 202,
      "metadata": {},
      "outputs": [
        {
          "data": {
            "image/png": "[encoded data removed]",
            "text/plain": [
              "<Figure size 640x480 with 1 Axes>"
            ]
          },
          "metadata": {},
          "output_type": "display_data"
        }
      ],
      "source": [
        "# Plot the data\n",
        "plt.stem(x,y,'ro',label='jcpds')\n",
        "plt.stem(x1,y1,'green',label='Experimental')\n",
        "\n",
        "# Add x-coordinate values to the peak right\n",
        "for i, j in zip(x, y):\n",
        "    plt.annotate(str(i), xy=(i, j), xytext=(5, 0), textcoords=\"offset points\", ha='left', fontsize=8, color='red')\n",
        "\n",
        "for i, j in zip(x1, y1):\n",
        "    plt.annotate(str(i), xy=(i, j), xytext=(5, 0), textcoords=\"offset points\", ha='left', fontsize=6, color='green')\n",
        "\n",
        "# Add legend\n",
        "plt.legend()\n",
        "\n",
        "# Set x-axis and y-axis limits\n",
        "plt.xlim(36,72)\n",
        "plt.ylim(0,400)\n",
        "\n",
        "plt.xlabel('2-Theta')\n",
        "plt.ylabel('Intensity')\n",
        "# Add title to the figure\n",
        "plt.title('Comparison of jcpds and determined values')\n",
        "\n",
        "# Display the plot\n",
        "plt.show()\n"
      ]
    },
    {
      "attachments": {},
      "cell_type": "markdown",
      "metadata": {},
      "source": [
        "Calculation for d_spacing for detected peak theta value"
      ]
    },
    {
      "cell_type": "code",
      "execution_count": 206,
      "metadata": {
        "id": "s1ZfbPBGbmuw"
      },
      "outputs": [
        {
          "name": "stdout",
          "output_type": "stream",
          "text": [
            "2theta \t d-spacing \n"
          ]
        },
        {
          "data": {
            "text/html": [
              "<div>\n",
              "<style scoped>\n",
              "    .dataframe tbody tr th:only-of-type {\n",
              "        vertical-align: middle;\n",
              "    }\n",
              "\n",
              "    .dataframe tbody tr th {\n",
              "        vertical-align: top;\n",
              "    }\n",
              "\n",
              "    .dataframe thead th {\n",
              "        text-align: right;\n",
              "    }\n",
              "</style>\n",
              "<table border=\"1\" class=\"dataframe\">\n",
              "  <thead>\n",
              "    <tr style=\"text-align: right;\">\n",
              "      <th></th>\n",
              "      <th>2-Theta</th>\n",
              "      <th>d-spacing</th>\n",
              "    </tr>\n",
              "  </thead>\n",
              "  <tbody>\n",
              "    <tr>\n",
              "      <th>0</th>\n",
              "      <td>36.59</td>\n",
              "      <td>2.453891</td>\n",
              "    </tr>\n",
              "    <tr>\n",
              "      <th>1</th>\n",
              "      <td>36.95</td>\n",
              "      <td>2.430805</td>\n",
              "    </tr>\n",
              "    <tr>\n",
              "      <th>2</th>\n",
              "      <td>39.35</td>\n",
              "      <td>2.287899</td>\n",
              "    </tr>\n",
              "    <tr>\n",
              "      <th>3</th>\n",
              "      <td>43.55</td>\n",
              "      <td>2.076489</td>\n",
              "    </tr>\n",
              "    <tr>\n",
              "      <th>4</th>\n",
              "      <td>54.59</td>\n",
              "      <td>1.679780</td>\n",
              "    </tr>\n",
              "    <tr>\n",
              "      <th>5</th>\n",
              "      <td>70.37</td>\n",
              "      <td>1.336820</td>\n",
              "    </tr>\n",
              "    <tr>\n",
              "      <th>6</th>\n",
              "      <td>70.91</td>\n",
              "      <td>1.327958</td>\n",
              "    </tr>\n",
              "  </tbody>\n",
              "</table>\n",
              "</div>"
            ],
            "text/plain": [
              "   2-Theta  d-spacing\n",
              "0    36.59   2.453891\n",
              "1    36.95   2.430805\n",
              "2    39.35   2.287899\n",
              "3    43.55   2.076489\n",
              "4    54.59   1.679780\n",
              "5    70.37   1.336820\n",
              "6    70.91   1.327958"
            ]
          },
          "execution_count": 206,
          "metadata": {},
          "output_type": "execute_result"
        }
      ],
      "source": [
        "# max_indices = np.argmax(data['Intensity (Counts)'])\n",
        "# max_2theta = data['Angle (2theta)'][max_indices]\n",
        "wavelength = 1.5406  # Cu K-alpha radiation\n",
        "value=Theta['Theta'].to_numpy()#[36.59, 36.95, 39.35, 43.55, 54.59, 70.37, 70.91]\n",
        "print(\"{0} \\t {1} \".format(\"2theta\",\"d-spacing\"))\n",
        "d_list=[]\n",
        "theta_list=[]\n",
        "for i in value:\n",
        "  theta=i/2\n",
        "  #theta = 70.91 / 2\n",
        "  d_spacing = wavelength / (2 * np.sin(np.deg2rad(theta)))     #brags law\n",
        "  d_list.append(d_spacing)\n",
        "  theta_list.append(i)\n",
        "\n",
        "  #print(\"{0}   {1}   \".format(i,d_spacing))\n",
        "\n",
        "d_data={'2-Theta':theta_list,'d-spacing':d_list} \n",
        "dd=pd.DataFrame(d_data)\n",
        "dd"
      ]
    },
    {
      "attachments": {},
      "cell_type": "markdown",
      "metadata": {},
      "source": [
        "we take corresponding hkl planes and perform operations on it \n",
        " and\n",
        "calculate the abc values \n",
        "\n"
      ]
    },
    {
      "cell_type": "code",
      "execution_count": 235,
      "metadata": {
        "id": "dtBzikADfqvL"
      },
      "outputs": [],
      "source": [
        "import pandas as pd\n",
        "\n",
        "# hkl data from jspds\n",
        "\n",
        "hkl_data = ['002', '100', '101', '102', '110', '112', '201']\n",
        "\n",
        "# Create a dictionary to store the data for each column\n",
        "data1 = {'2theta':theta_list,'d_spacing':d_list,'h': [], 'k': [], 'l': [], '(h^2+k^2+l^2)': [],'root':[],'abc':abc}\n",
        "\n",
        "# Iterate over each three-digit number and split it into its individual digits, square each digit, and calculate the sum of the squares\n",
        "for num in hkl_data:\n",
        "    h, k, l = str(num)\n",
        "    h, k, l = int(h), int(k), int(l)\n",
        "    squared = h**2 + k**2 + l**2\n",
        "    root=(squared)**(0.5)\n",
        "    data1['h'].append(h)\n",
        "    data1['k'].append(k)\n",
        "    data1['l'].append(l)\n",
        "    data1['(h^2+k^2+l^2)'].append(squared)\n",
        "    data1['root'].append(root)\n",
        "\n",
        "# Create a DataFrame from the data dictionary\n",
        "df = pd.DataFrame(data1)\n",
        "\n",
        "# Save the DataFrame to a CSV file\n",
        "df.to_csv('output.csv', index=False)\n",
        "\n",
        "#calculation for appx. abc values\n",
        "d2=df['d_spacing'].tolist()\n",
        "root=df['root'].tolist()\n",
        "d2=np.array(d2)\n",
        "root=np.array(root)\n",
        "abc=np.multiply(d2,root).tolist()\n",
        "\n",
        "# highlight abc column\n",
        "highlight_abc = lambda x: 'background-color: pink'\n",
        "styled_df = df.style.applymap(highlight_abc, subset=['abc'])\n"
      ]
    },
    {
      "attachments": {},
      "cell_type": "markdown",
      "metadata": {},
      "source": [
        "dipak"
      ]
    },
    {
      "cell_type": "code",
      "execution_count": 236,
      "metadata": {},
      "outputs": [
        {
          "data": {
            "text/html": [
              "<style type=\"text/css\">\n",
              "#T_452a5_row0_col7, #T_452a5_row1_col7, #T_452a5_row2_col7, #T_452a5_row3_col7, #T_452a5_row4_col7, #T_452a5_row5_col7, #T_452a5_row6_col7 {\n",
              "  background-color: pink;\n",
              "}\n",
              "</style>\n",
              "<table id=\"T_452a5\">\n",
              "  <thead>\n",
              "    <tr>\n",
              "      <th class=\"blank level0\" >&nbsp;</th>\n",
              "      <th id=\"T_452a5_level0_col0\" class=\"col_heading level0 col0\" >2theta</th>\n",
              "      <th id=\"T_452a5_level0_col1\" class=\"col_heading level0 col1\" >d_spacing</th>\n",
              "      <th id=\"T_452a5_level0_col2\" class=\"col_heading level0 col2\" >h</th>\n",
              "      <th id=\"T_452a5_level0_col3\" class=\"col_heading level0 col3\" >k</th>\n",
              "      <th id=\"T_452a5_level0_col4\" class=\"col_heading level0 col4\" >l</th>\n",
              "      <th id=\"T_452a5_level0_col5\" class=\"col_heading level0 col5\" >(h^2+k^2+l^2)</th>\n",
              "      <th id=\"T_452a5_level0_col6\" class=\"col_heading level0 col6\" >root</th>\n",
              "      <th id=\"T_452a5_level0_col7\" class=\"col_heading level0 col7\" >abc</th>\n",
              "    </tr>\n",
              "  </thead>\n",
              "  <tbody>\n",
              "    <tr>\n",
              "      <th id=\"T_452a5_level0_row0\" class=\"row_heading level0 row0\" >0</th>\n",
              "      <td id=\"T_452a5_row0_col0\" class=\"data row0 col0\" >36.590000</td>\n",
              "      <td id=\"T_452a5_row0_col1\" class=\"data row0 col1\" >2.453891</td>\n",
              "      <td id=\"T_452a5_row0_col2\" class=\"data row0 col2\" >0</td>\n",
              "      <td id=\"T_452a5_row0_col3\" class=\"data row0 col3\" >0</td>\n",
              "      <td id=\"T_452a5_row0_col4\" class=\"data row0 col4\" >2</td>\n",
              "      <td id=\"T_452a5_row0_col5\" class=\"data row0 col5\" >4</td>\n",
              "      <td id=\"T_452a5_row0_col6\" class=\"data row0 col6\" >2.000000</td>\n",
              "      <td id=\"T_452a5_row0_col7\" class=\"data row0 col7\" >4.907782</td>\n",
              "    </tr>\n",
              "    <tr>\n",
              "      <th id=\"T_452a5_level0_row1\" class=\"row_heading level0 row1\" >1</th>\n",
              "      <td id=\"T_452a5_row1_col0\" class=\"data row1 col0\" >36.950000</td>\n",
              "      <td id=\"T_452a5_row1_col1\" class=\"data row1 col1\" >2.430805</td>\n",
              "      <td id=\"T_452a5_row1_col2\" class=\"data row1 col2\" >1</td>\n",
              "      <td id=\"T_452a5_row1_col3\" class=\"data row1 col3\" >0</td>\n",
              "      <td id=\"T_452a5_row1_col4\" class=\"data row1 col4\" >0</td>\n",
              "      <td id=\"T_452a5_row1_col5\" class=\"data row1 col5\" >1</td>\n",
              "      <td id=\"T_452a5_row1_col6\" class=\"data row1 col6\" >1.000000</td>\n",
              "      <td id=\"T_452a5_row1_col7\" class=\"data row1 col7\" >2.430805</td>\n",
              "    </tr>\n",
              "    <tr>\n",
              "      <th id=\"T_452a5_level0_row2\" class=\"row_heading level0 row2\" >2</th>\n",
              "      <td id=\"T_452a5_row2_col0\" class=\"data row2 col0\" >39.350000</td>\n",
              "      <td id=\"T_452a5_row2_col1\" class=\"data row2 col1\" >2.287899</td>\n",
              "      <td id=\"T_452a5_row2_col2\" class=\"data row2 col2\" >1</td>\n",
              "      <td id=\"T_452a5_row2_col3\" class=\"data row2 col3\" >0</td>\n",
              "      <td id=\"T_452a5_row2_col4\" class=\"data row2 col4\" >1</td>\n",
              "      <td id=\"T_452a5_row2_col5\" class=\"data row2 col5\" >2</td>\n",
              "      <td id=\"T_452a5_row2_col6\" class=\"data row2 col6\" >1.414214</td>\n",
              "      <td id=\"T_452a5_row2_col7\" class=\"data row2 col7\" >3.235578</td>\n",
              "    </tr>\n",
              "    <tr>\n",
              "      <th id=\"T_452a5_level0_row3\" class=\"row_heading level0 row3\" >3</th>\n",
              "      <td id=\"T_452a5_row3_col0\" class=\"data row3 col0\" >43.550000</td>\n",
              "      <td id=\"T_452a5_row3_col1\" class=\"data row3 col1\" >2.076489</td>\n",
              "      <td id=\"T_452a5_row3_col2\" class=\"data row3 col2\" >1</td>\n",
              "      <td id=\"T_452a5_row3_col3\" class=\"data row3 col3\" >0</td>\n",
              "      <td id=\"T_452a5_row3_col4\" class=\"data row3 col4\" >2</td>\n",
              "      <td id=\"T_452a5_row3_col5\" class=\"data row3 col5\" >5</td>\n",
              "      <td id=\"T_452a5_row3_col6\" class=\"data row3 col6\" >2.236068</td>\n",
              "      <td id=\"T_452a5_row3_col7\" class=\"data row3 col7\" >4.643171</td>\n",
              "    </tr>\n",
              "    <tr>\n",
              "      <th id=\"T_452a5_level0_row4\" class=\"row_heading level0 row4\" >4</th>\n",
              "      <td id=\"T_452a5_row4_col0\" class=\"data row4 col0\" >54.590000</td>\n",
              "      <td id=\"T_452a5_row4_col1\" class=\"data row4 col1\" >1.679780</td>\n",
              "      <td id=\"T_452a5_row4_col2\" class=\"data row4 col2\" >1</td>\n",
              "      <td id=\"T_452a5_row4_col3\" class=\"data row4 col3\" >1</td>\n",
              "      <td id=\"T_452a5_row4_col4\" class=\"data row4 col4\" >0</td>\n",
              "      <td id=\"T_452a5_row4_col5\" class=\"data row4 col5\" >2</td>\n",
              "      <td id=\"T_452a5_row4_col6\" class=\"data row4 col6\" >1.414214</td>\n",
              "      <td id=\"T_452a5_row4_col7\" class=\"data row4 col7\" >2.375567</td>\n",
              "    </tr>\n",
              "    <tr>\n",
              "      <th id=\"T_452a5_level0_row5\" class=\"row_heading level0 row5\" >5</th>\n",
              "      <td id=\"T_452a5_row5_col0\" class=\"data row5 col0\" >70.370000</td>\n",
              "      <td id=\"T_452a5_row5_col1\" class=\"data row5 col1\" >1.336820</td>\n",
              "      <td id=\"T_452a5_row5_col2\" class=\"data row5 col2\" >1</td>\n",
              "      <td id=\"T_452a5_row5_col3\" class=\"data row5 col3\" >1</td>\n",
              "      <td id=\"T_452a5_row5_col4\" class=\"data row5 col4\" >2</td>\n",
              "      <td id=\"T_452a5_row5_col5\" class=\"data row5 col5\" >6</td>\n",
              "      <td id=\"T_452a5_row5_col6\" class=\"data row5 col6\" >2.449490</td>\n",
              "      <td id=\"T_452a5_row5_col7\" class=\"data row5 col7\" >3.274526</td>\n",
              "    </tr>\n",
              "    <tr>\n",
              "      <th id=\"T_452a5_level0_row6\" class=\"row_heading level0 row6\" >6</th>\n",
              "      <td id=\"T_452a5_row6_col0\" class=\"data row6 col0\" >70.910000</td>\n",
              "      <td id=\"T_452a5_row6_col1\" class=\"data row6 col1\" >1.327958</td>\n",
              "      <td id=\"T_452a5_row6_col2\" class=\"data row6 col2\" >2</td>\n",
              "      <td id=\"T_452a5_row6_col3\" class=\"data row6 col3\" >0</td>\n",
              "      <td id=\"T_452a5_row6_col4\" class=\"data row6 col4\" >1</td>\n",
              "      <td id=\"T_452a5_row6_col5\" class=\"data row6 col5\" >5</td>\n",
              "      <td id=\"T_452a5_row6_col6\" class=\"data row6 col6\" >2.236068</td>\n",
              "      <td id=\"T_452a5_row6_col7\" class=\"data row6 col7\" >2.969405</td>\n",
              "    </tr>\n",
              "  </tbody>\n",
              "</table>\n"
            ],
            "text/plain": [
              "<pandas.io.formats.style.Styler at 0x283eeb425f0>"
            ]
          },
          "execution_count": 236,
          "metadata": {},
          "output_type": "execute_result"
        }
      ],
      "source": [
        "styled_df"
      ]
    },
    {
      "attachments": {},
      "cell_type": "markdown",
      "metadata": {},
      "source": [
        "**To calculate FWHM and Grain size (D)**"
      ]
    },
    {
      "cell_type": "code",
      "execution_count": 237,
      "metadata": {},
      "outputs": [
        {
          "data": {
            "image/png": "[encoded data removed]",
            "text/plain": [
              "<Figure size 640x480 with 1 Axes>"
            ]
          },
          "metadata": {},
          "output_type": "display_data"
        },
        {
          "data": {
            "text/html": [
              "<style type=\"text/css\">\n",
              "#T_cc548_row0_col2, #T_cc548_row0_col3, #T_cc548_row1_col2, #T_cc548_row1_col3, #T_cc548_row2_col2, #T_cc548_row2_col3, #T_cc548_row3_col2, #T_cc548_row3_col3, #T_cc548_row4_col2, #T_cc548_row4_col3, #T_cc548_row5_col2, #T_cc548_row5_col3, #T_cc548_row6_col2, #T_cc548_row6_col3 {\n",
              "  background-color: yellow;\n",
              "}\n",
              "</style>\n",
              "<table id=\"T_cc548\">\n",
              "  <thead>\n",
              "    <tr>\n",
              "      <th class=\"blank level0\" >&nbsp;</th>\n",
              "      <th id=\"T_cc548_level0_col0\" class=\"col_heading level0 col0\" >2theta</th>\n",
              "      <th id=\"T_cc548_level0_col1\" class=\"col_heading level0 col1\" >d_spacing</th>\n",
              "      <th id=\"T_cc548_level0_col2\" class=\"col_heading level0 col2\" >FWHM</th>\n",
              "      <th id=\"T_cc548_level0_col3\" class=\"col_heading level0 col3\" >Grain_size (D)</th>\n",
              "      <th id=\"T_cc548_level0_col4\" class=\"col_heading level0 col4\" >h</th>\n",
              "      <th id=\"T_cc548_level0_col5\" class=\"col_heading level0 col5\" >k</th>\n",
              "      <th id=\"T_cc548_level0_col6\" class=\"col_heading level0 col6\" >l</th>\n",
              "      <th id=\"T_cc548_level0_col7\" class=\"col_heading level0 col7\" >(h^2+k^2+l^2)</th>\n",
              "      <th id=\"T_cc548_level0_col8\" class=\"col_heading level0 col8\" >root</th>\n",
              "      <th id=\"T_cc548_level0_col9\" class=\"col_heading level0 col9\" >abc</th>\n",
              "    </tr>\n",
              "  </thead>\n",
              "  <tbody>\n",
              "    <tr>\n",
              "      <th id=\"T_cc548_level0_row0\" class=\"row_heading level0 row0\" >0</th>\n",
              "      <td id=\"T_cc548_row0_col0\" class=\"data row0 col0\" >36.590000</td>\n",
              "      <td id=\"T_cc548_row0_col1\" class=\"data row0 col1\" >2.453891</td>\n",
              "      <td id=\"T_cc548_row0_col2\" class=\"data row0 col2\" >0.240000</td>\n",
              "      <td id=\"T_cc548_row0_col3\" class=\"data row0 col3\" >7.195286</td>\n",
              "      <td id=\"T_cc548_row0_col4\" class=\"data row0 col4\" >0</td>\n",
              "      <td id=\"T_cc548_row0_col5\" class=\"data row0 col5\" >0</td>\n",
              "      <td id=\"T_cc548_row0_col6\" class=\"data row0 col6\" >2</td>\n",
              "      <td id=\"T_cc548_row0_col7\" class=\"data row0 col7\" >4</td>\n",
              "      <td id=\"T_cc548_row0_col8\" class=\"data row0 col8\" >2.000000</td>\n",
              "      <td id=\"T_cc548_row0_col9\" class=\"data row0 col9\" >4.907782</td>\n",
              "    </tr>\n",
              "    <tr>\n",
              "      <th id=\"T_cc548_level0_row1\" class=\"row_heading level0 row1\" >1</th>\n",
              "      <td id=\"T_cc548_row1_col0\" class=\"data row1 col0\" >36.950000</td>\n",
              "      <td id=\"T_cc548_row1_col1\" class=\"data row1 col1\" >2.430805</td>\n",
              "      <td id=\"T_cc548_row1_col2\" class=\"data row1 col2\" >0.120000</td>\n",
              "      <td id=\"T_cc548_row1_col3\" class=\"data row1 col3\" >14.458299</td>\n",
              "      <td id=\"T_cc548_row1_col4\" class=\"data row1 col4\" >1</td>\n",
              "      <td id=\"T_cc548_row1_col5\" class=\"data row1 col5\" >0</td>\n",
              "      <td id=\"T_cc548_row1_col6\" class=\"data row1 col6\" >0</td>\n",
              "      <td id=\"T_cc548_row1_col7\" class=\"data row1 col7\" >1</td>\n",
              "      <td id=\"T_cc548_row1_col8\" class=\"data row1 col8\" >1.000000</td>\n",
              "      <td id=\"T_cc548_row1_col9\" class=\"data row1 col9\" >2.430805</td>\n",
              "    </tr>\n",
              "    <tr>\n",
              "      <th id=\"T_cc548_level0_row2\" class=\"row_heading level0 row2\" >2</th>\n",
              "      <td id=\"T_cc548_row2_col0\" class=\"data row2 col0\" >39.350000</td>\n",
              "      <td id=\"T_cc548_row2_col1\" class=\"data row2 col1\" >2.287899</td>\n",
              "      <td id=\"T_cc548_row2_col2\" class=\"data row2 col2\" >0.300000</td>\n",
              "      <td id=\"T_cc548_row2_col3\" class=\"data row2 col3\" >5.976822</td>\n",
              "      <td id=\"T_cc548_row2_col4\" class=\"data row2 col4\" >1</td>\n",
              "      <td id=\"T_cc548_row2_col5\" class=\"data row2 col5\" >0</td>\n",
              "      <td id=\"T_cc548_row2_col6\" class=\"data row2 col6\" >1</td>\n",
              "      <td id=\"T_cc548_row2_col7\" class=\"data row2 col7\" >2</td>\n",
              "      <td id=\"T_cc548_row2_col8\" class=\"data row2 col8\" >1.414214</td>\n",
              "      <td id=\"T_cc548_row2_col9\" class=\"data row2 col9\" >3.235578</td>\n",
              "    </tr>\n",
              "    <tr>\n",
              "      <th id=\"T_cc548_level0_row3\" class=\"row_heading level0 row3\" >3</th>\n",
              "      <td id=\"T_cc548_row3_col0\" class=\"data row3 col0\" >43.550000</td>\n",
              "      <td id=\"T_cc548_row3_col1\" class=\"data row3 col1\" >2.076489</td>\n",
              "      <td id=\"T_cc548_row3_col2\" class=\"data row3 col2\" >0.300000</td>\n",
              "      <td id=\"T_cc548_row3_col3\" class=\"data row3 col3\" >6.376890</td>\n",
              "      <td id=\"T_cc548_row3_col4\" class=\"data row3 col4\" >1</td>\n",
              "      <td id=\"T_cc548_row3_col5\" class=\"data row3 col5\" >0</td>\n",
              "      <td id=\"T_cc548_row3_col6\" class=\"data row3 col6\" >2</td>\n",
              "      <td id=\"T_cc548_row3_col7\" class=\"data row3 col7\" >5</td>\n",
              "      <td id=\"T_cc548_row3_col8\" class=\"data row3 col8\" >2.236068</td>\n",
              "      <td id=\"T_cc548_row3_col9\" class=\"data row3 col9\" >4.643171</td>\n",
              "    </tr>\n",
              "    <tr>\n",
              "      <th id=\"T_cc548_level0_row4\" class=\"row_heading level0 row4\" >4</th>\n",
              "      <td id=\"T_cc548_row4_col0\" class=\"data row4 col0\" >54.590000</td>\n",
              "      <td id=\"T_cc548_row4_col1\" class=\"data row4 col1\" >1.679780</td>\n",
              "      <td id=\"T_cc548_row4_col2\" class=\"data row4 col2\" >0.300000</td>\n",
              "      <td id=\"T_cc548_row4_col3\" class=\"data row4 col3\" >7.976550</td>\n",
              "      <td id=\"T_cc548_row4_col4\" class=\"data row4 col4\" >1</td>\n",
              "      <td id=\"T_cc548_row4_col5\" class=\"data row4 col5\" >1</td>\n",
              "      <td id=\"T_cc548_row4_col6\" class=\"data row4 col6\" >0</td>\n",
              "      <td id=\"T_cc548_row4_col7\" class=\"data row4 col7\" >2</td>\n",
              "      <td id=\"T_cc548_row4_col8\" class=\"data row4 col8\" >1.414214</td>\n",
              "      <td id=\"T_cc548_row4_col9\" class=\"data row4 col9\" >2.375567</td>\n",
              "    </tr>\n",
              "    <tr>\n",
              "      <th id=\"T_cc548_level0_row5\" class=\"row_heading level0 row5\" >5</th>\n",
              "      <td id=\"T_cc548_row5_col0\" class=\"data row5 col0\" >70.370000</td>\n",
              "      <td id=\"T_cc548_row5_col1\" class=\"data row5 col1\" >1.336820</td>\n",
              "      <td id=\"T_cc548_row5_col2\" class=\"data row5 col2\" >0.240000</td>\n",
              "      <td id=\"T_cc548_row5_col3\" class=\"data row5 col3\" >17.197022</td>\n",
              "      <td id=\"T_cc548_row5_col4\" class=\"data row5 col4\" >1</td>\n",
              "      <td id=\"T_cc548_row5_col5\" class=\"data row5 col5\" >1</td>\n",
              "      <td id=\"T_cc548_row5_col6\" class=\"data row5 col6\" >2</td>\n",
              "      <td id=\"T_cc548_row5_col7\" class=\"data row5 col7\" >6</td>\n",
              "      <td id=\"T_cc548_row5_col8\" class=\"data row5 col8\" >2.449490</td>\n",
              "      <td id=\"T_cc548_row5_col9\" class=\"data row5 col9\" >3.274526</td>\n",
              "    </tr>\n",
              "    <tr>\n",
              "      <th id=\"T_cc548_level0_row6\" class=\"row_heading level0 row6\" >6</th>\n",
              "      <td id=\"T_cc548_row6_col0\" class=\"data row6 col0\" >70.910000</td>\n",
              "      <td id=\"T_cc548_row6_col1\" class=\"data row6 col1\" >1.327958</td>\n",
              "      <td id=\"T_cc548_row6_col2\" class=\"data row6 col2\" >0.240000</td>\n",
              "      <td id=\"T_cc548_row6_col3\" class=\"data row6 col3\" >17.664570</td>\n",
              "      <td id=\"T_cc548_row6_col4\" class=\"data row6 col4\" >2</td>\n",
              "      <td id=\"T_cc548_row6_col5\" class=\"data row6 col5\" >0</td>\n",
              "      <td id=\"T_cc548_row6_col6\" class=\"data row6 col6\" >1</td>\n",
              "      <td id=\"T_cc548_row6_col7\" class=\"data row6 col7\" >5</td>\n",
              "      <td id=\"T_cc548_row6_col8\" class=\"data row6 col8\" >2.236068</td>\n",
              "      <td id=\"T_cc548_row6_col9\" class=\"data row6 col9\" >2.969405</td>\n",
              "    </tr>\n",
              "  </tbody>\n",
              "</table>\n"
            ],
            "text/plain": [
              "<pandas.io.formats.style.Styler at 0x283eeb085b0>"
            ]
          },
          "metadata": {},
          "output_type": "display_data"
        }
      ],
      "source": [
        "from scipy.signal import find_peaks\n",
        "from math import pi, cos\n",
        "\n",
        "# Load XRD data from CSV file\n",
        "xrd_data = data\n",
        "\n",
        "# Plot XRD pattern\n",
        "plt.plot(xrd_data['Angle (2theta)'], xrd_data['Intensity (Counts)'])\n",
        "plt.xlabel('2-theta (°)')\n",
        "plt.ylabel('Intensity')\n",
        "\n",
        "# Find peaks\n",
        "peaks, _ = find_peaks(xrd_data['Intensity (Counts)'], height=70)\n",
        "\n",
        "#save fwhm and grain size in new list\n",
        "FWHM=[]\n",
        "Grain_size_D=[]\n",
        "\n",
        "for peak_index in peaks:\n",
        "    # Find left and right indices where intensity drops to half of the maximum\n",
        "    half_max_height = xrd_data['Intensity (Counts)'][peak_index] / 2\n",
        "    left_index = peak_index - 1\n",
        "    while xrd_data['Intensity (Counts)'][left_index] > half_max_height:\n",
        "        left_index -= 1\n",
        "    right_index = peak_index + 1\n",
        "    while xrd_data['Intensity (Counts)'][right_index] > half_max_height:\n",
        "        right_index += 1\n",
        "    \n",
        "    # Calculate FWHM\n",
        "    fwhm = xrd_data['Angle (2theta)'][right_index] - xrd_data['Angle (2theta)'][left_index]\n",
        "    #print('Peak at', xrd_data['Angle (2theta)'][peak_index], 'degrees')\n",
        "    FWHM.append(fwhm)\n",
        "    #print('FWHM:', fwhm)\n",
        "    \n",
        "    # Calculate grain size using Scherrer's formula\n",
        "    k = 0.9 # shape factor\n",
        "    lambda_ = 1.5406 # wavelength of X-ray (in Angstrom)\n",
        "    theta = xrd_data['Angle (2theta)'][peak_index] * pi / 180 # convert to radians\n",
        "    grain_size = k * lambda_ / (cos(theta) * fwhm) # in nanometers\n",
        "    Grain_size_D.append(grain_size)\n",
        "    #print('Grain size:', grain_size, 'nm')\n",
        "    \n",
        "    # Highlight peak on XRD plot\n",
        "    plt.axvspan(xrd_data['Angle (2theta)'][left_index], xrd_data['Angle (2theta)'][right_index], alpha=0.2)\n",
        "    \n",
        "plt.show()\n",
        "df.insert(loc=2,column='FWHM',value=FWHM)\n",
        "df.insert(loc=3,column='Grain_size (D)',value=Grain_size_D)\n",
        "# Define the style for index column\n",
        "styled_df = df.style.set_properties(subset=pd.IndexSlice[:, ['FWHM','Grain_size (D)']], \n",
        "                                     **{'background-color': 'yellow'})\n",
        "\n",
        "# Display the formatted dataframe\n",
        "display(styled_df)\n"
      ]
    },
    {
      "cell_type": "markdown",
      "metadata": {},
      "source": []
    },
    {
      "cell_type": "markdown",
      "metadata": {
        "id": "tXVUWkb5Ux2B"
      },
      "source": [
        "**Baseline correction**"
      ]
    },
    {
      "cell_type": "code",
      "execution_count": 255,
      "metadata": {
        "id": "MLMz6kl35lcD"
      },
      "outputs": [
        {
          "name": "stdout",
          "output_type": "stream",
          "text": [
            "         20  286\n",
            "0     20.02  286\n",
            "1     20.04  281\n",
            "2     20.06  276\n",
            "3     20.08  305\n",
            "4     20.10  302\n",
            "...     ...  ...\n",
            "2995  79.92  233\n",
            "2996  79.94  219\n",
            "2997  79.96  240\n",
            "2998  79.98  254\n",
            "2999  80.00  212\n",
            "\n",
            "[3000 rows x 2 columns]\n"
          ]
        }
      ],
      "source": [
        "import pandas as pd\n",
        "\n",
        "# Read the CSV file and store it in a dataframe\n",
        "df = pd.read_csv(r'C:\\Users\\HP\\Downloads\\bfo_xrd1.csv')\n"
      ]
    },
    {
      "cell_type": "code",
      "execution_count": 274,
      "metadata": {
        "id": "wJDfiKAlPbXB"
      },
      "outputs": [],
      "source": [
        "import numpy as np\n",
        "import matplotlib.pyplot as plt\n",
        "from scipy.signal import savgol_filter\n",
        "from scipy import sparse\n",
        "from scipy.sparse.linalg import spsolve\n",
        "import pandas as pd"
      ]
    },
    {
      "cell_type": "code",
      "execution_count": 287,
      "metadata": {
        "id": "NxaPEOkFQwx2"
      },
      "outputs": [],
      "source": [
        "\n",
        "# Load the XRD data from a CSV file\n",
        "xrd_data = data\n",
        "x = data.iloc[:,0]\n",
        "y = data.iloc[:,1]\n",
        "\n",
        "# Extract the X and Y data from the CSV file\n",
        "\n",
        "# Apply the Savitzky-Golay filter to smooth the data and estimate the baseline\n",
        "baseline = savgol_filter(y, 100, 2)\n",
        "\n",
        "# Subtract the baseline from the original data to obtain the adjusted data\n",
        "adjusted_data = y - baseline\n",
        "\n",
        "# Save the adjusted data to a new CSV file\n",
        "adjusted_data_df = pd.DataFrame({'X': x, 'Y': adjusted_data})\n",
        "adjusted_data_df.to_csv('adjusted_xrd_data.csv', index=False)\n"
      ]
    },
    {
      "cell_type": "code",
      "execution_count": 276,
      "metadata": {
        "id": "SeTkoWbdenqI"
      },
      "outputs": [
        {
          "data": {
            "text/html": [
              "<div>\n",
              "<style scoped>\n",
              "    .dataframe tbody tr th:only-of-type {\n",
              "        vertical-align: middle;\n",
              "    }\n",
              "\n",
              "    .dataframe tbody tr th {\n",
              "        vertical-align: top;\n",
              "    }\n",
              "\n",
              "    .dataframe thead th {\n",
              "        text-align: right;\n",
              "    }\n",
              "</style>\n",
              "<table border=\"1\" class=\"dataframe\">\n",
              "  <thead>\n",
              "    <tr style=\"text-align: right;\">\n",
              "      <th></th>\n",
              "      <th>X</th>\n",
              "      <th>Y</th>\n",
              "    </tr>\n",
              "  </thead>\n",
              "  <tbody>\n",
              "    <tr>\n",
              "      <th>0</th>\n",
              "      <td>20.02</td>\n",
              "      <td>-31.074438</td>\n",
              "    </tr>\n",
              "    <tr>\n",
              "      <th>1</th>\n",
              "      <td>20.04</td>\n",
              "      <td>-36.611751</td>\n",
              "    </tr>\n",
              "    <tr>\n",
              "      <th>2</th>\n",
              "      <td>20.06</td>\n",
              "      <td>-42.138685</td>\n",
              "    </tr>\n",
              "    <tr>\n",
              "      <th>3</th>\n",
              "      <td>20.08</td>\n",
              "      <td>-13.655242</td>\n",
              "    </tr>\n",
              "    <tr>\n",
              "      <th>4</th>\n",
              "      <td>20.10</td>\n",
              "      <td>-17.161420</td>\n",
              "    </tr>\n",
              "    <tr>\n",
              "      <th>...</th>\n",
              "      <td>...</td>\n",
              "      <td>...</td>\n",
              "    </tr>\n",
              "    <tr>\n",
              "      <th>2995</th>\n",
              "      <td>79.92</td>\n",
              "      <td>7.370522</td>\n",
              "    </tr>\n",
              "    <tr>\n",
              "      <th>2996</th>\n",
              "      <td>79.94</td>\n",
              "      <td>-6.487265</td>\n",
              "    </tr>\n",
              "    <tr>\n",
              "      <th>2997</th>\n",
              "      <td>79.96</td>\n",
              "      <td>14.658339</td>\n",
              "    </tr>\n",
              "    <tr>\n",
              "      <th>2998</th>\n",
              "      <td>79.98</td>\n",
              "      <td>28.807334</td>\n",
              "    </tr>\n",
              "    <tr>\n",
              "      <th>2999</th>\n",
              "      <td>80.00</td>\n",
              "      <td>-13.040280</td>\n",
              "    </tr>\n",
              "  </tbody>\n",
              "</table>\n",
              "<p>3000 rows × 2 columns</p>\n",
              "</div>"
            ],
            "text/plain": [
              "          X          Y\n",
              "0     20.02 -31.074438\n",
              "1     20.04 -36.611751\n",
              "2     20.06 -42.138685\n",
              "3     20.08 -13.655242\n",
              "4     20.10 -17.161420\n",
              "...     ...        ...\n",
              "2995  79.92   7.370522\n",
              "2996  79.94  -6.487265\n",
              "2997  79.96  14.658339\n",
              "2998  79.98  28.807334\n",
              "2999  80.00 -13.040280\n",
              "\n",
              "[3000 rows x 2 columns]"
            ]
          },
          "execution_count": 276,
          "metadata": {},
          "output_type": "execute_result"
        }
      ],
      "source": [
        "base_data=pd.read_csv(r'C:\\Users\\HP\\Downloads\\adjusted_xrd_data.csv')\n",
        "base_data"
      ]
    },
    {
      "cell_type": "code",
      "execution_count": 291,
      "metadata": {
        "id": "3vIvZbkVfw3H"
      },
      "outputs": [
        {
          "data": {
            "image/png": "[encoded data removed]",
            "text/plain": [
              "<Figure size 640x480 with 1 Axes>"
            ]
          },
          "metadata": {},
          "output_type": "display_data"
        }
      ],
      "source": [
        "\n",
        "# Apply Savitzky-Golay filter to smooth the data\n",
        "y_smooth = savgol_filter(y, window_length=21, polyorder=2)\n",
        "\n",
        "# Subtract the smoothed signal from the original signal to obtain the baseline\n",
        "baseline = y - y_smooth\n",
        "\n",
        "# Plot the original signal and the baseline-corrected signal\n",
        "import matplotlib.pyplot as plt\n",
        "plt.plot(x, y, label='Original signal')\n",
        "plt.plot(x, y_smooth, label='Smoothed signal')\n",
        "plt.plot(x, baseline, label='Baseline')\n",
        "plt.legend()\n",
        "plt.show()\n",
        "\n",
        "# Save the baseline-corrected data to a new CSV file\n",
        "data['Baseline'] = baseline\n",
        "data['y_smooth']=y_smooth\n",
        "data.to_csv('xrd_data_baseline_corrected.csv', index=False)\n"
      ]
    },
    {
      "cell_type": "code",
      "execution_count": 292,
      "metadata": {},
      "outputs": [],
      "source": [
        "peaks, _ = find_peaks(y, height=230, distance=50)\n",
        "baseline = savgol_filter(y, window_length=51, polyorder=3)\n",
        "y_flat = y - baseline\n"
      ]
    },
    {
      "cell_type": "markdown",
      "metadata": {
        "id": "faBCJSb9WxXc"
      },
      "source": [
        "**Data plot after correction of baseline**"
      ]
    },
    {
      "cell_type": "code",
      "execution_count": 325,
      "metadata": {
        "id": "t26PLQL-jXhj"
      },
      "outputs": [
        {
          "data": {
            "image/png": "[encoded data removed]",
            "text/plain": [
              "<Figure size 640x480 with 1 Axes>"
            ]
          },
          "metadata": {},
          "output_type": "display_data"
        }
      ],
      "source": [
        "plt.plot(x, y_smooth, label='Smoothed signal')\n",
        "plt.title('xrd plot after baseline correction1')\n",
        "plt.xlabel(\"2Theta\")\n",
        "plt.ylabel(\"Intensity\")\n",
        "plt.show()\n",
        "baseline = savgol_filter(y_smooth, window_length=250, polyorder=2)\n",
        "y_data_corrected = y_smooth - baseline\n"
      ]
    },
    {
      "cell_type": "code",
      "execution_count": null,
      "metadata": {
        "colab": {
          "base_uri": "https://localhost:8080/"
        },
        "id": "c-GpZhsqOsWy",
        "outputId": "035cf4f4-9742-4941-daa4-c2d9528fc75c"
      },
      "outputs": [
        {
          "name": "stdout",
          "output_type": "stream",
          "text": [
            "Looking in indexes: https://pypi.org/simple, https://us-python.pkg.dev/colab-wheels/public/simple/\n",
            "Collecting pymatgen\n",
            "  Downloading pymatgen-2023.3.23-cp39-cp39-manylinux_2_17_x86_64.manylinux2014_x86_64.whl (12.4 MB)\n",
            "\u001b[2K     \u001b[90m━━━━━━━━━━━━━━━━━━━━━━━━━━━━━━━━━━━━━━━━\u001b[0m \u001b[32m12.4/12.4 MB\u001b[0m \u001b[31m9.6 MB/s\u001b[0m eta \u001b[36m0:00:00\u001b[0m\n",
            "\u001b[?25hRequirement already satisfied: palettable>=3.1.1 in /usr/local/lib/python3.9/dist-packages (from pymatgen) (3.3.1)\n",
            "Requirement already satisfied: pandas in /usr/local/lib/python3.9/dist-packages (from pymatgen) (1.5.3)\n",
            "Requirement already satisfied: tqdm in /usr/local/lib/python3.9/dist-packages (from pymatgen) (4.65.0)\n",
            "Requirement already satisfied: tabulate in /usr/local/lib/python3.9/dist-packages (from pymatgen) (0.8.10)\n",
            "Requirement already satisfied: scipy>=1.5.0 in /usr/local/lib/python3.9/dist-packages (from pymatgen) (1.10.1)\n",
            "Collecting uncertainties>=3.1.4\n",
            "  Downloading uncertainties-3.1.7-py2.py3-none-any.whl (98 kB)\n",
            "\u001b[2K     \u001b[90m━━━━━━━━━━━━━━━━━━━━━━━━━━━━━━━━━━━━━━━━\u001b[0m \u001b[32m98.4/98.4 kB\u001b[0m \u001b[31m11.0 MB/s\u001b[0m eta \u001b[36m0:00:00\u001b[0m\n",
            "\u001b[?25hRequirement already satisfied: requests in /usr/local/lib/python3.9/dist-packages (from pymatgen) (2.27.1)\n",
            "Collecting ruamel.yaml>=0.17.0\n",
            "  Downloading ruamel.yaml-0.17.21-py3-none-any.whl (109 kB)\n",
            "\u001b[2K     \u001b[90m━━━━━━━━━━━━━━━━━━━━━━━━━━━━━━━━━━━━━━\u001b[0m \u001b[32m109.5/109.5 kB\u001b[0m \u001b[31m11.7 MB/s\u001b[0m eta \u001b[36m0:00:00\u001b[0m\n",
            "\u001b[?25hRequirement already satisfied: matplotlib>=1.5 in /usr/local/lib/python3.9/dist-packages (from pymatgen) (3.7.1)\n",
            "Collecting mp-api>=0.27.3\n",
            "  Downloading mp_api-0.31.1-py3-none-any.whl (72 kB)\n",
            "\u001b[2K     \u001b[90m━━━━━━━━━━━━━━━━━━━━━━━━━━━━━━━━━━━━━━━━\u001b[0m \u001b[32m72.8/72.8 kB\u001b[0m \u001b[31m7.1 MB/s\u001b[0m eta \u001b[36m0:00:00\u001b[0m\n",
            "\u001b[?25hCollecting monty>=3.0.2\n",
            "  Downloading monty-2023.4.10-py3-none-any.whl (67 kB)\n",
            "\u001b[2K     \u001b[90m━━━━━━━━━━━━━━━━━━━━━━━━━━━━━━━━━━━━━━━━\u001b[0m \u001b[32m67.0/67.0 kB\u001b[0m \u001b[31m8.1 MB/s\u001b[0m eta \u001b[36m0:00:00\u001b[0m\n",
            "\u001b[?25hRequirement already satisfied: numpy>=1.20.1 in /usr/local/lib/python3.9/dist-packages (from pymatgen) (1.22.4)\n",
            "Requirement already satisfied: plotly>=4.5.0 in /usr/local/lib/python3.9/dist-packages (from pymatgen) (5.13.1)\n",
            "Collecting pybtex\n",
            "  Downloading pybtex-0.24.0-py2.py3-none-any.whl (561 kB)\n",
            "\u001b[2K     \u001b[90m━━━━━━━━━━━━━━━━━━━━━━━━━━━━━━━━━━━━━━\u001b[0m \u001b[32m561.4/561.4 kB\u001b[0m \u001b[31m45.3 MB/s\u001b[0m eta \u001b[36m0:00:00\u001b[0m\n",
            "\u001b[?25hCollecting spglib>=2.0.2\n",
            "  Downloading spglib-2.0.2-cp39-cp39-manylinux_2_17_x86_64.manylinux2014_x86_64.whl (515 kB)\n",
            "\u001b[2K     \u001b[90m━━━━━━━━━━━━━━━━━━━━━━━━━━━━━━━━━━━━━━\u001b[0m \u001b[32m515.0/515.0 kB\u001b[0m \u001b[31m40.9 MB/s\u001b[0m eta \u001b[36m0:00:00\u001b[0m\n",
            "\u001b[?25hRequirement already satisfied: sympy in /usr/local/lib/python3.9/dist-packages (from pymatgen) (1.11.1)\n",
            "Requirement already satisfied: networkx>=2.2 in /usr/local/lib/python3.9/dist-packages (from pymatgen) (3.1)\n",
            "Requirement already satisfied: fonttools>=4.22.0 in /usr/local/lib/python3.9/dist-packages (from matplotlib>=1.5->pymatgen) (4.39.3)\n",
            "Requirement already satisfied: pillow>=6.2.0 in /usr/local/lib/python3.9/dist-packages (from matplotlib>=1.5->pymatgen) (8.4.0)\n",
            "Requirement already satisfied: contourpy>=1.0.1 in /usr/local/lib/python3.9/dist-packages (from matplotlib>=1.5->pymatgen) (1.0.7)\n",
            "Requirement already satisfied: pyparsing>=2.3.1 in /usr/local/lib/python3.9/dist-packages (from matplotlib>=1.5->pymatgen) (3.0.9)\n",
            "Requirement already satisfied: python-dateutil>=2.7 in /usr/local/lib/python3.9/dist-packages (from matplotlib>=1.5->pymatgen) (2.8.2)\n",
            "Requirement already satisfied: packaging>=20.0 in /usr/local/lib/python3.9/dist-packages (from matplotlib>=1.5->pymatgen) (23.0)\n",
            "Requirement already satisfied: cycler>=0.10 in /usr/local/lib/python3.9/dist-packages (from matplotlib>=1.5->pymatgen) (0.11.0)\n",
            "Requirement already satisfied: kiwisolver>=1.0.1 in /usr/local/lib/python3.9/dist-packages (from matplotlib>=1.5->pymatgen) (1.4.4)\n",
            "Requirement already satisfied: importlib-resources>=3.2.0 in /usr/local/lib/python3.9/dist-packages (from matplotlib>=1.5->pymatgen) (5.12.0)\n",
            "Requirement already satisfied: setuptools in /usr/local/lib/python3.9/dist-packages (from mp-api>=0.27.3->pymatgen) (67.6.1)\n",
            "Requirement already satisfied: typing-extensions>=3.7.4.1 in /usr/local/lib/python3.9/dist-packages (from mp-api>=0.27.3->pymatgen) (4.5.0)\n",
            "Requirement already satisfied: msgpack in /usr/local/lib/python3.9/dist-packages (from mp-api>=0.27.3->pymatgen) (1.0.5)\n",
            "Collecting emmet-core<=0.50.0\n",
            "  Downloading emmet_core-0.50.0-py3-none-any.whl (137 kB)\n",
            "\u001b[2K     \u001b[90m━━━━━━━━━━━━━━━━━━━━━━━━━━━━━━━━━━━━━━\u001b[0m \u001b[32m137.5/137.5 kB\u001b[0m \u001b[31m15.5 MB/s\u001b[0m eta \u001b[36m0:00:00\u001b[0m\n",
            "\u001b[?25hRequirement already satisfied: tenacity>=6.2.0 in /usr/local/lib/python3.9/dist-packages (from plotly>=4.5.0->pymatgen) (8.2.2)\n",
            "Requirement already satisfied: certifi>=2017.4.17 in /usr/local/lib/python3.9/dist-packages (from requests->pymatgen) (2022.12.7)\n",
            "Requirement already satisfied: idna<4,>=2.5 in /usr/local/lib/python3.9/dist-packages (from requests->pymatgen) (3.4)\n",
            "Requirement already satisfied: charset-normalizer~=2.0.0 in /usr/local/lib/python3.9/dist-packages (from requests->pymatgen) (2.0.12)\n",
            "Requirement already satisfied: urllib3<1.27,>=1.21.1 in /usr/local/lib/python3.9/dist-packages (from requests->pymatgen) (1.26.15)\n",
            "Collecting ruamel.yaml.clib>=0.2.6\n",
            "  Downloading ruamel.yaml.clib-0.2.7-cp39-cp39-manylinux_2_17_x86_64.manylinux2014_x86_64.manylinux_2_24_x86_64.whl (519 kB)\n",
            "\u001b[2K     \u001b[90m━━━━━━━━━━━━━━━━━━━━━━━━━━━━━━━━━━━━━━\u001b[0m \u001b[32m519.4/519.4 kB\u001b[0m \u001b[31m35.8 MB/s\u001b[0m eta \u001b[36m0:00:00\u001b[0m\n",
            "\u001b[?25hRequirement already satisfied: future in /usr/local/lib/python3.9/dist-packages (from uncertainties>=3.1.4->pymatgen) (0.18.3)\n",
            "Requirement already satisfied: pytz>=2020.1 in /usr/local/lib/python3.9/dist-packages (from pandas->pymatgen) (2022.7.1)\n",
            "Collecting latexcodec>=1.0.4\n",
            "  Downloading latexcodec-2.0.1-py2.py3-none-any.whl (18 kB)\n",
            "Requirement already satisfied: six in /usr/local/lib/python3.9/dist-packages (from pybtex->pymatgen) (1.16.0)\n",
            "Requirement already satisfied: PyYAML>=3.01 in /usr/local/lib/python3.9/dist-packages (from pybtex->pymatgen) (6.0)\n",
            "Requirement already satisfied: mpmath>=0.19 in /usr/local/lib/python3.9/dist-packages (from sympy->pymatgen) (1.3.0)\n",
            "Requirement already satisfied: pydantic>=1.10.2 in /usr/local/lib/python3.9/dist-packages (from emmet-core<=0.50.0->mp-api>=0.27.3->pymatgen) (1.10.7)\n",
            "Requirement already satisfied: zipp>=3.1.0 in /usr/local/lib/python3.9/dist-packages (from importlib-resources>=3.2.0->matplotlib>=1.5->pymatgen) (3.15.0)\n",
            "Installing collected packages: uncertainties, spglib, ruamel.yaml.clib, monty, latexcodec, ruamel.yaml, pybtex, emmet-core, mp-api, pymatgen\n",
            "Successfully installed emmet-core-0.50.0 latexcodec-2.0.1 monty-2023.4.10 mp-api-0.31.1 pybtex-0.24.0 pymatgen-2023.3.23 ruamel.yaml-0.17.21 ruamel.yaml.clib-0.2.7 spglib-2.0.2 uncertainties-3.1.7\n"
          ]
        }
      ],
      "source": [
        "!pip install pymatgen"
      ]
    },
    {
      "cell_type": "code",
      "execution_count": 9,
      "metadata": {},
      "outputs": [
        {
          "name": "stderr",
          "output_type": "stream",
          "text": [
            "c:\\Users\\HP\\AppData\\Local\\Programs\\Python\\Python310\\lib\\site-packages\\mp_api\\client\\mprester.py:147: UserWarning: mpcontribs-client not installed. Install the package to query MPContribs data, or construct pourbaix diagrams: 'pip install mpcontribs-client'\n",
            "  warnings.warn(\n"
          ]
        },
        {
          "ename": "MPRestError",
          "evalue": "HTTPSConnectionPool(host='api.materialsproject.org', port=443): Max retries exceeded with url: /materials/?deprecated=False&_fields=material_id&task_ids=mp-79&_limit=1000 (Caused by NewConnectionError('<urllib3.connection.HTTPSConnection object at 0x000001F2DA6B6A10>: Failed to establish a new connection: [Errno 11001] getaddrinfo failed'))",
          "output_type": "error",
          "traceback": [
            "\u001b[1;31m---------------------------------------------------------------------------\u001b[0m",
            "\u001b[1;31mgaierror\u001b[0m                                  Traceback (most recent call last)",
            "File \u001b[1;32mc:\\Users\\HP\\AppData\\Local\\Programs\\Python\\Python310\\lib\\site-packages\\urllib3\\connection.py:174\u001b[0m, in \u001b[0;36mHTTPConnection._new_conn\u001b[1;34m(self)\u001b[0m\n\u001b[0;32m    173\u001b[0m \u001b[39mtry\u001b[39;00m:\n\u001b[1;32m--> 174\u001b[0m     conn \u001b[39m=\u001b[39m connection\u001b[39m.\u001b[39mcreate_connection(\n\u001b[0;32m    175\u001b[0m         (\u001b[39mself\u001b[39m\u001b[39m.\u001b[39m_dns_host, \u001b[39mself\u001b[39m\u001b[39m.\u001b[39mport), \u001b[39mself\u001b[39m\u001b[39m.\u001b[39mtimeout, \u001b[39m*\u001b[39m\u001b[39m*\u001b[39mextra_kw\n\u001b[0;32m    176\u001b[0m     )\n\u001b[0;32m    178\u001b[0m \u001b[39mexcept\u001b[39;00m SocketTimeout:\n",
            "File \u001b[1;32mc:\\Users\\HP\\AppData\\Local\\Programs\\Python\\Python310\\lib\\site-packages\\urllib3\\util\\connection.py:72\u001b[0m, in \u001b[0;36mcreate_connection\u001b[1;34m(address, timeout, source_address, socket_options)\u001b[0m\n\u001b[0;32m     68\u001b[0m     \u001b[39mreturn\u001b[39;00m six\u001b[39m.\u001b[39mraise_from(\n\u001b[0;32m     69\u001b[0m         LocationParseError(\u001b[39mu\u001b[39m\u001b[39m\"\u001b[39m\u001b[39m'\u001b[39m\u001b[39m%s\u001b[39;00m\u001b[39m'\u001b[39m\u001b[39m, label empty or too long\u001b[39m\u001b[39m\"\u001b[39m \u001b[39m%\u001b[39m host), \u001b[39mNone\u001b[39;00m\n\u001b[0;32m     70\u001b[0m     )\n\u001b[1;32m---> 72\u001b[0m \u001b[39mfor\u001b[39;00m res \u001b[39min\u001b[39;00m socket\u001b[39m.\u001b[39;49mgetaddrinfo(host, port, family, socket\u001b[39m.\u001b[39;49mSOCK_STREAM):\n\u001b[0;32m     73\u001b[0m     af, socktype, proto, canonname, sa \u001b[39m=\u001b[39m res\n",
            "File \u001b[1;32mc:\\Users\\HP\\AppData\\Local\\Programs\\Python\\Python310\\lib\\socket.py:955\u001b[0m, in \u001b[0;36mgetaddrinfo\u001b[1;34m(host, port, family, type, proto, flags)\u001b[0m\n\u001b[0;32m    954\u001b[0m addrlist \u001b[39m=\u001b[39m []\n\u001b[1;32m--> 955\u001b[0m \u001b[39mfor\u001b[39;00m res \u001b[39min\u001b[39;00m _socket\u001b[39m.\u001b[39;49mgetaddrinfo(host, port, family, \u001b[39mtype\u001b[39;49m, proto, flags):\n\u001b[0;32m    956\u001b[0m     af, socktype, proto, canonname, sa \u001b[39m=\u001b[39m res\n",
            "\u001b[1;31mgaierror\u001b[0m: [Errno 11001] getaddrinfo failed",
            "\nDuring handling of the above exception, another exception occurred:\n",
            "\u001b[1;31mNewConnectionError\u001b[0m                        Traceback (most recent call last)",
            "File \u001b[1;32mc:\\Users\\HP\\AppData\\Local\\Programs\\Python\\Python310\\lib\\site-packages\\urllib3\\connectionpool.py:703\u001b[0m, in \u001b[0;36mHTTPConnectionPool.urlopen\u001b[1;34m(self, method, url, body, headers, retries, redirect, assert_same_host, timeout, pool_timeout, release_conn, chunked, body_pos, **response_kw)\u001b[0m\n\u001b[0;32m    702\u001b[0m \u001b[39m# Make the request on the httplib connection object.\u001b[39;00m\n\u001b[1;32m--> 703\u001b[0m httplib_response \u001b[39m=\u001b[39m \u001b[39mself\u001b[39;49m\u001b[39m.\u001b[39;49m_make_request(\n\u001b[0;32m    704\u001b[0m     conn,\n\u001b[0;32m    705\u001b[0m     method,\n\u001b[0;32m    706\u001b[0m     url,\n\u001b[0;32m    707\u001b[0m     timeout\u001b[39m=\u001b[39;49mtimeout_obj,\n\u001b[0;32m    708\u001b[0m     body\u001b[39m=\u001b[39;49mbody,\n\u001b[0;32m    709\u001b[0m     headers\u001b[39m=\u001b[39;49mheaders,\n\u001b[0;32m    710\u001b[0m     chunked\u001b[39m=\u001b[39;49mchunked,\n\u001b[0;32m    711\u001b[0m )\n\u001b[0;32m    713\u001b[0m \u001b[39m# If we're going to release the connection in ``finally:``, then\u001b[39;00m\n\u001b[0;32m    714\u001b[0m \u001b[39m# the response doesn't need to know about the connection. Otherwise\u001b[39;00m\n\u001b[0;32m    715\u001b[0m \u001b[39m# it will also try to release it and we'll have a double-release\u001b[39;00m\n\u001b[0;32m    716\u001b[0m \u001b[39m# mess.\u001b[39;00m\n",
            "File \u001b[1;32mc:\\Users\\HP\\AppData\\Local\\Programs\\Python\\Python310\\lib\\site-packages\\urllib3\\connectionpool.py:386\u001b[0m, in \u001b[0;36mHTTPConnectionPool._make_request\u001b[1;34m(self, conn, method, url, timeout, chunked, **httplib_request_kw)\u001b[0m\n\u001b[0;32m    385\u001b[0m \u001b[39mtry\u001b[39;00m:\n\u001b[1;32m--> 386\u001b[0m     \u001b[39mself\u001b[39;49m\u001b[39m.\u001b[39;49m_validate_conn(conn)\n\u001b[0;32m    387\u001b[0m \u001b[39mexcept\u001b[39;00m (SocketTimeout, BaseSSLError) \u001b[39mas\u001b[39;00m e:\n\u001b[0;32m    388\u001b[0m     \u001b[39m# Py2 raises this as a BaseSSLError, Py3 raises it as socket timeout.\u001b[39;00m\n",
            "File \u001b[1;32mc:\\Users\\HP\\AppData\\Local\\Programs\\Python\\Python310\\lib\\site-packages\\urllib3\\connectionpool.py:1042\u001b[0m, in \u001b[0;36mHTTPSConnectionPool._validate_conn\u001b[1;34m(self, conn)\u001b[0m\n\u001b[0;32m   1041\u001b[0m \u001b[39mif\u001b[39;00m \u001b[39mnot\u001b[39;00m \u001b[39mgetattr\u001b[39m(conn, \u001b[39m\"\u001b[39m\u001b[39msock\u001b[39m\u001b[39m\"\u001b[39m, \u001b[39mNone\u001b[39;00m):  \u001b[39m# AppEngine might not have  `.sock`\u001b[39;00m\n\u001b[1;32m-> 1042\u001b[0m     conn\u001b[39m.\u001b[39;49mconnect()\n\u001b[0;32m   1044\u001b[0m \u001b[39mif\u001b[39;00m \u001b[39mnot\u001b[39;00m conn\u001b[39m.\u001b[39mis_verified:\n",
            "File \u001b[1;32mc:\\Users\\HP\\AppData\\Local\\Programs\\Python\\Python310\\lib\\site-packages\\urllib3\\connection.py:358\u001b[0m, in \u001b[0;36mHTTPSConnection.connect\u001b[1;34m(self)\u001b[0m\n\u001b[0;32m    356\u001b[0m \u001b[39mdef\u001b[39;00m \u001b[39mconnect\u001b[39m(\u001b[39mself\u001b[39m):\n\u001b[0;32m    357\u001b[0m     \u001b[39m# Add certificate verification\u001b[39;00m\n\u001b[1;32m--> 358\u001b[0m     \u001b[39mself\u001b[39m\u001b[39m.\u001b[39msock \u001b[39m=\u001b[39m conn \u001b[39m=\u001b[39m \u001b[39mself\u001b[39;49m\u001b[39m.\u001b[39;49m_new_conn()\n\u001b[0;32m    359\u001b[0m     hostname \u001b[39m=\u001b[39m \u001b[39mself\u001b[39m\u001b[39m.\u001b[39mhost\n",
            "File \u001b[1;32mc:\\Users\\HP\\AppData\\Local\\Programs\\Python\\Python310\\lib\\site-packages\\urllib3\\connection.py:186\u001b[0m, in \u001b[0;36mHTTPConnection._new_conn\u001b[1;34m(self)\u001b[0m\n\u001b[0;32m    185\u001b[0m \u001b[39mexcept\u001b[39;00m SocketError \u001b[39mas\u001b[39;00m e:\n\u001b[1;32m--> 186\u001b[0m     \u001b[39mraise\u001b[39;00m NewConnectionError(\n\u001b[0;32m    187\u001b[0m         \u001b[39mself\u001b[39m, \u001b[39m\"\u001b[39m\u001b[39mFailed to establish a new connection: \u001b[39m\u001b[39m%s\u001b[39;00m\u001b[39m\"\u001b[39m \u001b[39m%\u001b[39m e\n\u001b[0;32m    188\u001b[0m     )\n\u001b[0;32m    190\u001b[0m \u001b[39mreturn\u001b[39;00m conn\n",
            "\u001b[1;31mNewConnectionError\u001b[0m: <urllib3.connection.HTTPSConnection object at 0x000001F2DA579E10>: Failed to establish a new connection: [Errno 11001] getaddrinfo failed",
            "\nDuring handling of the above exception, another exception occurred:\n",
            "\u001b[1;31mMaxRetryError\u001b[0m                             Traceback (most recent call last)",
            "File \u001b[1;32mc:\\Users\\HP\\AppData\\Local\\Programs\\Python\\Python310\\lib\\site-packages\\requests\\adapters.py:489\u001b[0m, in \u001b[0;36mHTTPAdapter.send\u001b[1;34m(self, request, stream, timeout, verify, cert, proxies)\u001b[0m\n\u001b[0;32m    488\u001b[0m \u001b[39mif\u001b[39;00m \u001b[39mnot\u001b[39;00m chunked:\n\u001b[1;32m--> 489\u001b[0m     resp \u001b[39m=\u001b[39m conn\u001b[39m.\u001b[39;49murlopen(\n\u001b[0;32m    490\u001b[0m         method\u001b[39m=\u001b[39;49mrequest\u001b[39m.\u001b[39;49mmethod,\n\u001b[0;32m    491\u001b[0m         url\u001b[39m=\u001b[39;49murl,\n\u001b[0;32m    492\u001b[0m         body\u001b[39m=\u001b[39;49mrequest\u001b[39m.\u001b[39;49mbody,\n\u001b[0;32m    493\u001b[0m         headers\u001b[39m=\u001b[39;49mrequest\u001b[39m.\u001b[39;49mheaders,\n\u001b[0;32m    494\u001b[0m         redirect\u001b[39m=\u001b[39;49m\u001b[39mFalse\u001b[39;49;00m,\n\u001b[0;32m    495\u001b[0m         assert_same_host\u001b[39m=\u001b[39;49m\u001b[39mFalse\u001b[39;49;00m,\n\u001b[0;32m    496\u001b[0m         preload_content\u001b[39m=\u001b[39;49m\u001b[39mFalse\u001b[39;49;00m,\n\u001b[0;32m    497\u001b[0m         decode_content\u001b[39m=\u001b[39;49m\u001b[39mFalse\u001b[39;49;00m,\n\u001b[0;32m    498\u001b[0m         retries\u001b[39m=\u001b[39;49m\u001b[39mself\u001b[39;49m\u001b[39m.\u001b[39;49mmax_retries,\n\u001b[0;32m    499\u001b[0m         timeout\u001b[39m=\u001b[39;49mtimeout,\n\u001b[0;32m    500\u001b[0m     )\n\u001b[0;32m    502\u001b[0m \u001b[39m# Send the request.\u001b[39;00m\n\u001b[0;32m    503\u001b[0m \u001b[39melse\u001b[39;00m:\n",
            "File \u001b[1;32mc:\\Users\\HP\\AppData\\Local\\Programs\\Python\\Python310\\lib\\site-packages\\urllib3\\connectionpool.py:815\u001b[0m, in \u001b[0;36mHTTPConnectionPool.urlopen\u001b[1;34m(self, method, url, body, headers, retries, redirect, assert_same_host, timeout, pool_timeout, release_conn, chunked, body_pos, **response_kw)\u001b[0m\n\u001b[0;32m    812\u001b[0m     log\u001b[39m.\u001b[39mwarning(\n\u001b[0;32m    813\u001b[0m         \u001b[39m\"\u001b[39m\u001b[39mRetrying (\u001b[39m\u001b[39m%r\u001b[39;00m\u001b[39m) after connection broken by \u001b[39m\u001b[39m'\u001b[39m\u001b[39m%r\u001b[39;00m\u001b[39m'\u001b[39m\u001b[39m: \u001b[39m\u001b[39m%s\u001b[39;00m\u001b[39m\"\u001b[39m, retries, err, url\n\u001b[0;32m    814\u001b[0m     )\n\u001b[1;32m--> 815\u001b[0m     \u001b[39mreturn\u001b[39;00m \u001b[39mself\u001b[39m\u001b[39m.\u001b[39murlopen(\n\u001b[0;32m    816\u001b[0m         method,\n\u001b[0;32m    817\u001b[0m         url,\n\u001b[0;32m    818\u001b[0m         body,\n\u001b[0;32m    819\u001b[0m         headers,\n\u001b[0;32m    820\u001b[0m         retries,\n\u001b[0;32m    821\u001b[0m         redirect,\n\u001b[0;32m    822\u001b[0m         assert_same_host,\n\u001b[0;32m    823\u001b[0m         timeout\u001b[39m=\u001b[39mtimeout,\n\u001b[0;32m    824\u001b[0m         pool_timeout\u001b[39m=\u001b[39mpool_timeout,\n\u001b[0;32m    825\u001b[0m         release_conn\u001b[39m=\u001b[39mrelease_conn,\n\u001b[0;32m    826\u001b[0m         chunked\u001b[39m=\u001b[39mchunked,\n\u001b[0;32m    827\u001b[0m         body_pos\u001b[39m=\u001b[39mbody_pos,\n\u001b[0;32m    828\u001b[0m         \u001b[39m*\u001b[39m\u001b[39m*\u001b[39mresponse_kw\n\u001b[0;32m    829\u001b[0m     )\n\u001b[0;32m    831\u001b[0m \u001b[39m# Handle redirect?\u001b[39;00m\n",
            "File \u001b[1;32mc:\\Users\\HP\\AppData\\Local\\Programs\\Python\\Python310\\lib\\site-packages\\urllib3\\connectionpool.py:815\u001b[0m, in \u001b[0;36mHTTPConnectionPool.urlopen\u001b[1;34m(self, method, url, body, headers, retries, redirect, assert_same_host, timeout, pool_timeout, release_conn, chunked, body_pos, **response_kw)\u001b[0m\n\u001b[0;32m    812\u001b[0m     log\u001b[39m.\u001b[39mwarning(\n\u001b[0;32m    813\u001b[0m         \u001b[39m\"\u001b[39m\u001b[39mRetrying (\u001b[39m\u001b[39m%r\u001b[39;00m\u001b[39m) after connection broken by \u001b[39m\u001b[39m'\u001b[39m\u001b[39m%r\u001b[39;00m\u001b[39m'\u001b[39m\u001b[39m: \u001b[39m\u001b[39m%s\u001b[39;00m\u001b[39m\"\u001b[39m, retries, err, url\n\u001b[0;32m    814\u001b[0m     )\n\u001b[1;32m--> 815\u001b[0m     \u001b[39mreturn\u001b[39;00m \u001b[39mself\u001b[39m\u001b[39m.\u001b[39murlopen(\n\u001b[0;32m    816\u001b[0m         method,\n\u001b[0;32m    817\u001b[0m         url,\n\u001b[0;32m    818\u001b[0m         body,\n\u001b[0;32m    819\u001b[0m         headers,\n\u001b[0;32m    820\u001b[0m         retries,\n\u001b[0;32m    821\u001b[0m         redirect,\n\u001b[0;32m    822\u001b[0m         assert_same_host,\n\u001b[0;32m    823\u001b[0m         timeout\u001b[39m=\u001b[39mtimeout,\n\u001b[0;32m    824\u001b[0m         pool_timeout\u001b[39m=\u001b[39mpool_timeout,\n\u001b[0;32m    825\u001b[0m         release_conn\u001b[39m=\u001b[39mrelease_conn,\n\u001b[0;32m    826\u001b[0m         chunked\u001b[39m=\u001b[39mchunked,\n\u001b[0;32m    827\u001b[0m         body_pos\u001b[39m=\u001b[39mbody_pos,\n\u001b[0;32m    828\u001b[0m         \u001b[39m*\u001b[39m\u001b[39m*\u001b[39mresponse_kw\n\u001b[0;32m    829\u001b[0m     )\n\u001b[0;32m    831\u001b[0m \u001b[39m# Handle redirect?\u001b[39;00m\n",
            "File \u001b[1;32mc:\\Users\\HP\\AppData\\Local\\Programs\\Python\\Python310\\lib\\site-packages\\urllib3\\connectionpool.py:815\u001b[0m, in \u001b[0;36mHTTPConnectionPool.urlopen\u001b[1;34m(self, method, url, body, headers, retries, redirect, assert_same_host, timeout, pool_timeout, release_conn, chunked, body_pos, **response_kw)\u001b[0m\n\u001b[0;32m    812\u001b[0m     log\u001b[39m.\u001b[39mwarning(\n\u001b[0;32m    813\u001b[0m         \u001b[39m\"\u001b[39m\u001b[39mRetrying (\u001b[39m\u001b[39m%r\u001b[39;00m\u001b[39m) after connection broken by \u001b[39m\u001b[39m'\u001b[39m\u001b[39m%r\u001b[39;00m\u001b[39m'\u001b[39m\u001b[39m: \u001b[39m\u001b[39m%s\u001b[39;00m\u001b[39m\"\u001b[39m, retries, err, url\n\u001b[0;32m    814\u001b[0m     )\n\u001b[1;32m--> 815\u001b[0m     \u001b[39mreturn\u001b[39;00m \u001b[39mself\u001b[39m\u001b[39m.\u001b[39murlopen(\n\u001b[0;32m    816\u001b[0m         method,\n\u001b[0;32m    817\u001b[0m         url,\n\u001b[0;32m    818\u001b[0m         body,\n\u001b[0;32m    819\u001b[0m         headers,\n\u001b[0;32m    820\u001b[0m         retries,\n\u001b[0;32m    821\u001b[0m         redirect,\n\u001b[0;32m    822\u001b[0m         assert_same_host,\n\u001b[0;32m    823\u001b[0m         timeout\u001b[39m=\u001b[39mtimeout,\n\u001b[0;32m    824\u001b[0m         pool_timeout\u001b[39m=\u001b[39mpool_timeout,\n\u001b[0;32m    825\u001b[0m         release_conn\u001b[39m=\u001b[39mrelease_conn,\n\u001b[0;32m    826\u001b[0m         chunked\u001b[39m=\u001b[39mchunked,\n\u001b[0;32m    827\u001b[0m         body_pos\u001b[39m=\u001b[39mbody_pos,\n\u001b[0;32m    828\u001b[0m         \u001b[39m*\u001b[39m\u001b[39m*\u001b[39mresponse_kw\n\u001b[0;32m    829\u001b[0m     )\n\u001b[0;32m    831\u001b[0m \u001b[39m# Handle redirect?\u001b[39;00m\n",
            "File \u001b[1;32mc:\\Users\\HP\\AppData\\Local\\Programs\\Python\\Python310\\lib\\site-packages\\urllib3\\connectionpool.py:787\u001b[0m, in \u001b[0;36mHTTPConnectionPool.urlopen\u001b[1;34m(self, method, url, body, headers, retries, redirect, assert_same_host, timeout, pool_timeout, release_conn, chunked, body_pos, **response_kw)\u001b[0m\n\u001b[0;32m    785\u001b[0m     e \u001b[39m=\u001b[39m ProtocolError(\u001b[39m\"\u001b[39m\u001b[39mConnection aborted.\u001b[39m\u001b[39m\"\u001b[39m, e)\n\u001b[1;32m--> 787\u001b[0m retries \u001b[39m=\u001b[39m retries\u001b[39m.\u001b[39;49mincrement(\n\u001b[0;32m    788\u001b[0m     method, url, error\u001b[39m=\u001b[39;49me, _pool\u001b[39m=\u001b[39;49m\u001b[39mself\u001b[39;49m, _stacktrace\u001b[39m=\u001b[39;49msys\u001b[39m.\u001b[39;49mexc_info()[\u001b[39m2\u001b[39;49m]\n\u001b[0;32m    789\u001b[0m )\n\u001b[0;32m    790\u001b[0m retries\u001b[39m.\u001b[39msleep()\n",
            "File \u001b[1;32mc:\\Users\\HP\\AppData\\Local\\Programs\\Python\\Python310\\lib\\site-packages\\urllib3\\util\\retry.py:592\u001b[0m, in \u001b[0;36mRetry.increment\u001b[1;34m(self, method, url, response, error, _pool, _stacktrace)\u001b[0m\n\u001b[0;32m    591\u001b[0m \u001b[39mif\u001b[39;00m new_retry\u001b[39m.\u001b[39mis_exhausted():\n\u001b[1;32m--> 592\u001b[0m     \u001b[39mraise\u001b[39;00m MaxRetryError(_pool, url, error \u001b[39mor\u001b[39;00m ResponseError(cause))\n\u001b[0;32m    594\u001b[0m log\u001b[39m.\u001b[39mdebug(\u001b[39m\"\u001b[39m\u001b[39mIncremented Retry for (url=\u001b[39m\u001b[39m'\u001b[39m\u001b[39m%s\u001b[39;00m\u001b[39m'\u001b[39m\u001b[39m): \u001b[39m\u001b[39m%r\u001b[39;00m\u001b[39m\"\u001b[39m, url, new_retry)\n",
            "\u001b[1;31mMaxRetryError\u001b[0m: HTTPSConnectionPool(host='api.materialsproject.org', port=443): Max retries exceeded with url: /materials/mp-79/?_limit=1&_fields=structure (Caused by NewConnectionError('<urllib3.connection.HTTPSConnection object at 0x000001F2DA579E10>: Failed to establish a new connection: [Errno 11001] getaddrinfo failed'))",
            "\nDuring handling of the above exception, another exception occurred:\n",
            "\u001b[1;31mConnectionError\u001b[0m                           Traceback (most recent call last)",
            "File \u001b[1;32mc:\\Users\\HP\\AppData\\Local\\Programs\\Python\\Python310\\lib\\site-packages\\mp_api\\client\\core\\client.py:297\u001b[0m, in \u001b[0;36mBaseRester._query_resource\u001b[1;34m(self, criteria, fields, suburl, use_document_model, parallel_param, num_chunks, chunk_size, timeout)\u001b[0m\n\u001b[0;32m    295\u001b[0m         url \u001b[39m+\u001b[39m\u001b[39m=\u001b[39m \u001b[39m\"\u001b[39m\u001b[39m/\u001b[39m\u001b[39m\"\u001b[39m\n\u001b[1;32m--> 297\u001b[0m data \u001b[39m=\u001b[39m \u001b[39mself\u001b[39;49m\u001b[39m.\u001b[39;49m_submit_requests(\n\u001b[0;32m    298\u001b[0m     url\u001b[39m=\u001b[39;49murl,\n\u001b[0;32m    299\u001b[0m     criteria\u001b[39m=\u001b[39;49mcriteria,\n\u001b[0;32m    300\u001b[0m     use_document_model\u001b[39m=\u001b[39;49muse_document_model,\n\u001b[0;32m    301\u001b[0m     parallel_param\u001b[39m=\u001b[39;49mparallel_param,\n\u001b[0;32m    302\u001b[0m     num_chunks\u001b[39m=\u001b[39;49mnum_chunks,\n\u001b[0;32m    303\u001b[0m     chunk_size\u001b[39m=\u001b[39;49mchunk_size,\n\u001b[0;32m    304\u001b[0m     timeout\u001b[39m=\u001b[39;49mtimeout,\n\u001b[0;32m    305\u001b[0m )\n\u001b[0;32m    307\u001b[0m \u001b[39mreturn\u001b[39;00m data\n",
            "File \u001b[1;32mc:\\Users\\HP\\AppData\\Local\\Programs\\Python\\Python310\\lib\\site-packages\\mp_api\\client\\core\\client.py:431\u001b[0m, in \u001b[0;36mBaseRester._submit_requests\u001b[1;34m(self, url, criteria, use_document_model, parallel_param, num_chunks, chunk_size, timeout)\u001b[0m\n\u001b[0;32m    429\u001b[0m initial_params_list \u001b[39m=\u001b[39m [{\u001b[39m\"\u001b[39m\u001b[39murl\u001b[39m\u001b[39m\"\u001b[39m: url, \u001b[39m\"\u001b[39m\u001b[39mverify\u001b[39m\u001b[39m\"\u001b[39m: \u001b[39mTrue\u001b[39;00m, \u001b[39m\"\u001b[39m\u001b[39mparams\u001b[39m\u001b[39m\"\u001b[39m: copy(crit)} \u001b[39mfor\u001b[39;00m crit \u001b[39min\u001b[39;00m new_criteria]\n\u001b[1;32m--> 431\u001b[0m initial_data_tuples \u001b[39m=\u001b[39m \u001b[39mself\u001b[39;49m\u001b[39m.\u001b[39;49m_multi_thread(use_document_model, initial_params_list)\n\u001b[0;32m    433\u001b[0m \u001b[39mfor\u001b[39;00m data, subtotal, crit_ind \u001b[39min\u001b[39;00m initial_data_tuples:\n",
            "File \u001b[1;32mc:\\Users\\HP\\AppData\\Local\\Programs\\Python\\Python310\\lib\\site-packages\\mp_api\\client\\core\\client.py:636\u001b[0m, in \u001b[0;36mBaseRester._multi_thread\u001b[1;34m(self, use_document_model, params_list, progress_bar, timeout)\u001b[0m\n\u001b[0;32m    634\u001b[0m \u001b[39mfor\u001b[39;00m future \u001b[39min\u001b[39;00m finished:\n\u001b[1;32m--> 636\u001b[0m     data, subtotal \u001b[39m=\u001b[39m future\u001b[39m.\u001b[39;49mresult()\n\u001b[0;32m    638\u001b[0m     \u001b[39mif\u001b[39;00m progress_bar \u001b[39mis\u001b[39;00m \u001b[39mnot\u001b[39;00m \u001b[39mNone\u001b[39;00m:\n",
            "File \u001b[1;32mc:\\Users\\HP\\AppData\\Local\\Programs\\Python\\Python310\\lib\\concurrent\\futures\\_base.py:451\u001b[0m, in \u001b[0;36mFuture.result\u001b[1;34m(self, timeout)\u001b[0m\n\u001b[0;32m    450\u001b[0m \u001b[39melif\u001b[39;00m \u001b[39mself\u001b[39m\u001b[39m.\u001b[39m_state \u001b[39m==\u001b[39m FINISHED:\n\u001b[1;32m--> 451\u001b[0m     \u001b[39mreturn\u001b[39;00m \u001b[39mself\u001b[39;49m\u001b[39m.\u001b[39;49m__get_result()\n\u001b[0;32m    453\u001b[0m \u001b[39mself\u001b[39m\u001b[39m.\u001b[39m_condition\u001b[39m.\u001b[39mwait(timeout)\n",
            "File \u001b[1;32mc:\\Users\\HP\\AppData\\Local\\Programs\\Python\\Python310\\lib\\concurrent\\futures\\_base.py:403\u001b[0m, in \u001b[0;36mFuture.__get_result\u001b[1;34m(self)\u001b[0m\n\u001b[0;32m    402\u001b[0m \u001b[39mtry\u001b[39;00m:\n\u001b[1;32m--> 403\u001b[0m     \u001b[39mraise\u001b[39;00m \u001b[39mself\u001b[39m\u001b[39m.\u001b[39m_exception\n\u001b[0;32m    404\u001b[0m \u001b[39mfinally\u001b[39;00m:\n\u001b[0;32m    405\u001b[0m     \u001b[39m# Break a reference cycle with the exception in self._exception\u001b[39;00m\n",
            "File \u001b[1;32mc:\\Users\\HP\\AppData\\Local\\Programs\\Python\\Python310\\lib\\concurrent\\futures\\thread.py:58\u001b[0m, in \u001b[0;36m_WorkItem.run\u001b[1;34m(self)\u001b[0m\n\u001b[0;32m     57\u001b[0m \u001b[39mtry\u001b[39;00m:\n\u001b[1;32m---> 58\u001b[0m     result \u001b[39m=\u001b[39m \u001b[39mself\u001b[39m\u001b[39m.\u001b[39mfn(\u001b[39m*\u001b[39m\u001b[39mself\u001b[39m\u001b[39m.\u001b[39margs, \u001b[39m*\u001b[39m\u001b[39m*\u001b[39m\u001b[39mself\u001b[39m\u001b[39m.\u001b[39mkwargs)\n\u001b[0;32m     59\u001b[0m \u001b[39mexcept\u001b[39;00m \u001b[39mBaseException\u001b[39;00m \u001b[39mas\u001b[39;00m exc:\n",
            "File \u001b[1;32mc:\\Users\\HP\\AppData\\Local\\Programs\\Python\\Python310\\lib\\site-packages\\mp_api\\client\\core\\client.py:680\u001b[0m, in \u001b[0;36mBaseRester._submit_request_and_process\u001b[1;34m(self, url, verify, params, use_document_model, timeout)\u001b[0m\n\u001b[0;32m    679\u001b[0m \u001b[39mtry\u001b[39;00m:\n\u001b[1;32m--> 680\u001b[0m     response \u001b[39m=\u001b[39m \u001b[39mself\u001b[39;49m\u001b[39m.\u001b[39;49msession\u001b[39m.\u001b[39;49mget(url\u001b[39m=\u001b[39;49murl, verify\u001b[39m=\u001b[39;49mverify, params\u001b[39m=\u001b[39;49mparams, timeout\u001b[39m=\u001b[39;49mtimeout, headers\u001b[39m=\u001b[39;49m\u001b[39mself\u001b[39;49m\u001b[39m.\u001b[39;49mheaders)\n\u001b[0;32m    681\u001b[0m \u001b[39mexcept\u001b[39;00m requests\u001b[39m.\u001b[39mexceptions\u001b[39m.\u001b[39mConnectTimeout:\n",
            "File \u001b[1;32mc:\\Users\\HP\\AppData\\Local\\Programs\\Python\\Python310\\lib\\site-packages\\requests\\sessions.py:600\u001b[0m, in \u001b[0;36mSession.get\u001b[1;34m(self, url, **kwargs)\u001b[0m\n\u001b[0;32m    599\u001b[0m kwargs\u001b[39m.\u001b[39msetdefault(\u001b[39m\"\u001b[39m\u001b[39mallow_redirects\u001b[39m\u001b[39m\"\u001b[39m, \u001b[39mTrue\u001b[39;00m)\n\u001b[1;32m--> 600\u001b[0m \u001b[39mreturn\u001b[39;00m \u001b[39mself\u001b[39m\u001b[39m.\u001b[39mrequest(\u001b[39m\"\u001b[39m\u001b[39mGET\u001b[39m\u001b[39m\"\u001b[39m, url, \u001b[39m*\u001b[39m\u001b[39m*\u001b[39mkwargs)\n",
            "File \u001b[1;32mc:\\Users\\HP\\AppData\\Local\\Programs\\Python\\Python310\\lib\\site-packages\\requests\\sessions.py:587\u001b[0m, in \u001b[0;36mSession.request\u001b[1;34m(self, method, url, params, data, headers, cookies, files, auth, timeout, allow_redirects, proxies, hooks, stream, verify, cert, json)\u001b[0m\n\u001b[0;32m    586\u001b[0m send_kwargs\u001b[39m.\u001b[39mupdate(settings)\n\u001b[1;32m--> 587\u001b[0m resp \u001b[39m=\u001b[39m \u001b[39mself\u001b[39m\u001b[39m.\u001b[39msend(prep, \u001b[39m*\u001b[39m\u001b[39m*\u001b[39msend_kwargs)\n\u001b[0;32m    589\u001b[0m \u001b[39mreturn\u001b[39;00m resp\n",
            "File \u001b[1;32mc:\\Users\\HP\\AppData\\Local\\Programs\\Python\\Python310\\lib\\site-packages\\requests\\sessions.py:701\u001b[0m, in \u001b[0;36mSession.send\u001b[1;34m(self, request, **kwargs)\u001b[0m\n\u001b[0;32m    700\u001b[0m \u001b[39m# Send the request\u001b[39;00m\n\u001b[1;32m--> 701\u001b[0m r \u001b[39m=\u001b[39m adapter\u001b[39m.\u001b[39msend(request, \u001b[39m*\u001b[39m\u001b[39m*\u001b[39mkwargs)\n\u001b[0;32m    703\u001b[0m \u001b[39m# Total elapsed time of the request (approximately)\u001b[39;00m\n",
            "File \u001b[1;32mc:\\Users\\HP\\AppData\\Local\\Programs\\Python\\Python310\\lib\\site-packages\\requests\\adapters.py:565\u001b[0m, in \u001b[0;36mHTTPAdapter.send\u001b[1;34m(self, request, stream, timeout, verify, cert, proxies)\u001b[0m\n\u001b[0;32m    563\u001b[0m         \u001b[39mraise\u001b[39;00m SSLError(e, request\u001b[39m=\u001b[39mrequest)\n\u001b[1;32m--> 565\u001b[0m     \u001b[39mraise\u001b[39;00m \u001b[39mConnectionError\u001b[39;00m(e, request\u001b[39m=\u001b[39mrequest)\n\u001b[0;32m    567\u001b[0m \u001b[39mexcept\u001b[39;00m ClosedPoolError \u001b[39mas\u001b[39;00m e:\n",
            "\u001b[1;31mConnectionError\u001b[0m: HTTPSConnectionPool(host='api.materialsproject.org', port=443): Max retries exceeded with url: /materials/mp-79/?_limit=1&_fields=structure (Caused by NewConnectionError('<urllib3.connection.HTTPSConnection object at 0x000001F2DA579E10>: Failed to establish a new connection: [Errno 11001] getaddrinfo failed'))",
            "\nDuring handling of the above exception, another exception occurred:\n",
            "\u001b[1;31mMPRestError\u001b[0m                               Traceback (most recent call last)",
            "File \u001b[1;32mc:\\Users\\HP\\AppData\\Local\\Programs\\Python\\Python310\\lib\\site-packages\\mp_api\\client\\core\\client.py:841\u001b[0m, in \u001b[0;36mBaseRester.get_data_by_id\u001b[1;34m(self, document_id, fields)\u001b[0m\n\u001b[0;32m    840\u001b[0m \u001b[39mtry\u001b[39;00m:\n\u001b[1;32m--> 841\u001b[0m     results \u001b[39m=\u001b[39m \u001b[39mself\u001b[39;49m\u001b[39m.\u001b[39;49m_query_resource_data(criteria\u001b[39m=\u001b[39;49mcriteria, fields\u001b[39m=\u001b[39;49mfields, suburl\u001b[39m=\u001b[39;49mdocument_id)  \u001b[39m# type: ignore\u001b[39;00m\n\u001b[0;32m    842\u001b[0m \u001b[39mexcept\u001b[39;00m MPRestError:\n",
            "File \u001b[1;32mc:\\Users\\HP\\AppData\\Local\\Programs\\Python\\Python310\\lib\\site-packages\\mp_api\\client\\core\\client.py:799\u001b[0m, in \u001b[0;36mBaseRester._query_resource_data\u001b[1;34m(self, criteria, fields, suburl, use_document_model, timeout)\u001b[0m\n\u001b[0;32m    784\u001b[0m \u001b[39m\"\"\"\u001b[39;00m\n\u001b[0;32m    785\u001b[0m \u001b[39mQuery the endpoint for a list of documents without associated meta information. Only\u001b[39;00m\n\u001b[0;32m    786\u001b[0m \u001b[39mreturns a single page of results.\u001b[39;00m\n\u001b[1;32m   (...)\u001b[0m\n\u001b[0;32m    796\u001b[0m \u001b[39m    A list of documents\u001b[39;00m\n\u001b[0;32m    797\u001b[0m \u001b[39m\"\"\"\u001b[39;00m\n\u001b[1;32m--> 799\u001b[0m \u001b[39mreturn\u001b[39;00m \u001b[39mself\u001b[39;49m\u001b[39m.\u001b[39;49m_query_resource(  \u001b[39m# type: ignore\u001b[39;49;00m\n\u001b[0;32m    800\u001b[0m     criteria\u001b[39m=\u001b[39;49mcriteria,\n\u001b[0;32m    801\u001b[0m     fields\u001b[39m=\u001b[39;49mfields,\n\u001b[0;32m    802\u001b[0m     suburl\u001b[39m=\u001b[39;49msuburl,\n\u001b[0;32m    803\u001b[0m     use_document_model\u001b[39m=\u001b[39;49muse_document_model,\n\u001b[0;32m    804\u001b[0m     chunk_size\u001b[39m=\u001b[39;49m\u001b[39m1000\u001b[39;49m,\n\u001b[0;32m    805\u001b[0m     num_chunks\u001b[39m=\u001b[39;49m\u001b[39m1\u001b[39;49m,\n\u001b[0;32m    806\u001b[0m )\u001b[39m.\u001b[39mget(\u001b[39m\"\u001b[39m\u001b[39mdata\u001b[39m\u001b[39m\"\u001b[39m)\n",
            "File \u001b[1;32mc:\\Users\\HP\\AppData\\Local\\Programs\\Python\\Python310\\lib\\site-packages\\mp_api\\client\\core\\client.py:311\u001b[0m, in \u001b[0;36mBaseRester._query_resource\u001b[1;34m(self, criteria, fields, suburl, use_document_model, parallel_param, num_chunks, chunk_size, timeout)\u001b[0m\n\u001b[0;32m    309\u001b[0m \u001b[39mexcept\u001b[39;00m RequestException \u001b[39mas\u001b[39;00m ex:\n\u001b[1;32m--> 311\u001b[0m     \u001b[39mraise\u001b[39;00m MPRestError(\u001b[39mstr\u001b[39m(ex))\n",
            "\u001b[1;31mMPRestError\u001b[0m: HTTPSConnectionPool(host='api.materialsproject.org', port=443): Max retries exceeded with url: /materials/mp-79/?_limit=1&_fields=structure (Caused by NewConnectionError('<urllib3.connection.HTTPSConnection object at 0x000001F2DA579E10>: Failed to establish a new connection: [Errno 11001] getaddrinfo failed'))",
            "\nDuring handling of the above exception, another exception occurred:\n",
            "\u001b[1;31mConnectionError\u001b[0m                           Traceback (most recent call last)",
            "File \u001b[1;32mc:\\Users\\HP\\AppData\\Local\\Programs\\Python\\Python310\\lib\\site-packages\\mp_api\\client\\core\\client.py:297\u001b[0m, in \u001b[0;36mBaseRester._query_resource\u001b[1;34m(self, criteria, fields, suburl, use_document_model, parallel_param, num_chunks, chunk_size, timeout)\u001b[0m\n\u001b[0;32m    295\u001b[0m         url \u001b[39m+\u001b[39m\u001b[39m=\u001b[39m \u001b[39m\"\u001b[39m\u001b[39m/\u001b[39m\u001b[39m\"\u001b[39m\n\u001b[1;32m--> 297\u001b[0m data \u001b[39m=\u001b[39m \u001b[39mself\u001b[39;49m\u001b[39m.\u001b[39;49m_submit_requests(\n\u001b[0;32m    298\u001b[0m     url\u001b[39m=\u001b[39;49murl,\n\u001b[0;32m    299\u001b[0m     criteria\u001b[39m=\u001b[39;49mcriteria,\n\u001b[0;32m    300\u001b[0m     use_document_model\u001b[39m=\u001b[39;49muse_document_model,\n\u001b[0;32m    301\u001b[0m     parallel_param\u001b[39m=\u001b[39;49mparallel_param,\n\u001b[0;32m    302\u001b[0m     num_chunks\u001b[39m=\u001b[39;49mnum_chunks,\n\u001b[0;32m    303\u001b[0m     chunk_size\u001b[39m=\u001b[39;49mchunk_size,\n\u001b[0;32m    304\u001b[0m     timeout\u001b[39m=\u001b[39;49mtimeout,\n\u001b[0;32m    305\u001b[0m )\n\u001b[0;32m    307\u001b[0m \u001b[39mreturn\u001b[39;00m data\n",
            "File \u001b[1;32mc:\\Users\\HP\\AppData\\Local\\Programs\\Python\\Python310\\lib\\site-packages\\mp_api\\client\\core\\client.py:431\u001b[0m, in \u001b[0;36mBaseRester._submit_requests\u001b[1;34m(self, url, criteria, use_document_model, parallel_param, num_chunks, chunk_size, timeout)\u001b[0m\n\u001b[0;32m    429\u001b[0m initial_params_list \u001b[39m=\u001b[39m [{\u001b[39m\"\u001b[39m\u001b[39murl\u001b[39m\u001b[39m\"\u001b[39m: url, \u001b[39m\"\u001b[39m\u001b[39mverify\u001b[39m\u001b[39m\"\u001b[39m: \u001b[39mTrue\u001b[39;00m, \u001b[39m\"\u001b[39m\u001b[39mparams\u001b[39m\u001b[39m\"\u001b[39m: copy(crit)} \u001b[39mfor\u001b[39;00m crit \u001b[39min\u001b[39;00m new_criteria]\n\u001b[1;32m--> 431\u001b[0m initial_data_tuples \u001b[39m=\u001b[39m \u001b[39mself\u001b[39;49m\u001b[39m.\u001b[39;49m_multi_thread(use_document_model, initial_params_list)\n\u001b[0;32m    433\u001b[0m \u001b[39mfor\u001b[39;00m data, subtotal, crit_ind \u001b[39min\u001b[39;00m initial_data_tuples:\n",
            "File \u001b[1;32mc:\\Users\\HP\\AppData\\Local\\Programs\\Python\\Python310\\lib\\site-packages\\mp_api\\client\\core\\client.py:636\u001b[0m, in \u001b[0;36mBaseRester._multi_thread\u001b[1;34m(self, use_document_model, params_list, progress_bar, timeout)\u001b[0m\n\u001b[0;32m    634\u001b[0m \u001b[39mfor\u001b[39;00m future \u001b[39min\u001b[39;00m finished:\n\u001b[1;32m--> 636\u001b[0m     data, subtotal \u001b[39m=\u001b[39m future\u001b[39m.\u001b[39;49mresult()\n\u001b[0;32m    638\u001b[0m     \u001b[39mif\u001b[39;00m progress_bar \u001b[39mis\u001b[39;00m \u001b[39mnot\u001b[39;00m \u001b[39mNone\u001b[39;00m:\n",
            "File \u001b[1;32mc:\\Users\\HP\\AppData\\Local\\Programs\\Python\\Python310\\lib\\concurrent\\futures\\_base.py:451\u001b[0m, in \u001b[0;36mFuture.result\u001b[1;34m(self, timeout)\u001b[0m\n\u001b[0;32m    450\u001b[0m \u001b[39melif\u001b[39;00m \u001b[39mself\u001b[39m\u001b[39m.\u001b[39m_state \u001b[39m==\u001b[39m FINISHED:\n\u001b[1;32m--> 451\u001b[0m     \u001b[39mreturn\u001b[39;00m \u001b[39mself\u001b[39;49m\u001b[39m.\u001b[39;49m__get_result()\n\u001b[0;32m    453\u001b[0m \u001b[39mself\u001b[39m\u001b[39m.\u001b[39m_condition\u001b[39m.\u001b[39mwait(timeout)\n",
            "File \u001b[1;32mc:\\Users\\HP\\AppData\\Local\\Programs\\Python\\Python310\\lib\\concurrent\\futures\\_base.py:403\u001b[0m, in \u001b[0;36mFuture.__get_result\u001b[1;34m(self)\u001b[0m\n\u001b[0;32m    402\u001b[0m \u001b[39mtry\u001b[39;00m:\n\u001b[1;32m--> 403\u001b[0m     \u001b[39mraise\u001b[39;00m \u001b[39mself\u001b[39m\u001b[39m.\u001b[39m_exception\n\u001b[0;32m    404\u001b[0m \u001b[39mfinally\u001b[39;00m:\n\u001b[0;32m    405\u001b[0m     \u001b[39m# Break a reference cycle with the exception in self._exception\u001b[39;00m\n",
            "File \u001b[1;32mc:\\Users\\HP\\AppData\\Local\\Programs\\Python\\Python310\\lib\\concurrent\\futures\\thread.py:58\u001b[0m, in \u001b[0;36m_WorkItem.run\u001b[1;34m(self)\u001b[0m\n\u001b[0;32m     57\u001b[0m \u001b[39mtry\u001b[39;00m:\n\u001b[1;32m---> 58\u001b[0m     result \u001b[39m=\u001b[39m \u001b[39mself\u001b[39m\u001b[39m.\u001b[39mfn(\u001b[39m*\u001b[39m\u001b[39mself\u001b[39m\u001b[39m.\u001b[39margs, \u001b[39m*\u001b[39m\u001b[39m*\u001b[39m\u001b[39mself\u001b[39m\u001b[39m.\u001b[39mkwargs)\n\u001b[0;32m     59\u001b[0m \u001b[39mexcept\u001b[39;00m \u001b[39mBaseException\u001b[39;00m \u001b[39mas\u001b[39;00m exc:\n",
            "File \u001b[1;32mc:\\Users\\HP\\AppData\\Local\\Programs\\Python\\Python310\\lib\\site-packages\\mp_api\\client\\core\\client.py:680\u001b[0m, in \u001b[0;36mBaseRester._submit_request_and_process\u001b[1;34m(self, url, verify, params, use_document_model, timeout)\u001b[0m\n\u001b[0;32m    679\u001b[0m \u001b[39mtry\u001b[39;00m:\n\u001b[1;32m--> 680\u001b[0m     response \u001b[39m=\u001b[39m \u001b[39mself\u001b[39;49m\u001b[39m.\u001b[39;49msession\u001b[39m.\u001b[39;49mget(url\u001b[39m=\u001b[39;49murl, verify\u001b[39m=\u001b[39;49mverify, params\u001b[39m=\u001b[39;49mparams, timeout\u001b[39m=\u001b[39;49mtimeout, headers\u001b[39m=\u001b[39;49m\u001b[39mself\u001b[39;49m\u001b[39m.\u001b[39;49mheaders)\n\u001b[0;32m    681\u001b[0m \u001b[39mexcept\u001b[39;00m requests\u001b[39m.\u001b[39mexceptions\u001b[39m.\u001b[39mConnectTimeout:\n",
            "File \u001b[1;32mc:\\Users\\HP\\AppData\\Local\\Programs\\Python\\Python310\\lib\\site-packages\\requests\\sessions.py:600\u001b[0m, in \u001b[0;36mSession.get\u001b[1;34m(self, url, **kwargs)\u001b[0m\n\u001b[0;32m    599\u001b[0m kwargs\u001b[39m.\u001b[39msetdefault(\u001b[39m\"\u001b[39m\u001b[39mallow_redirects\u001b[39m\u001b[39m\"\u001b[39m, \u001b[39mTrue\u001b[39;00m)\n\u001b[1;32m--> 600\u001b[0m \u001b[39mreturn\u001b[39;00m \u001b[39mself\u001b[39m\u001b[39m.\u001b[39mrequest(\u001b[39m\"\u001b[39m\u001b[39mGET\u001b[39m\u001b[39m\"\u001b[39m, url, \u001b[39m*\u001b[39m\u001b[39m*\u001b[39mkwargs)\n",
            "File \u001b[1;32mc:\\Users\\HP\\AppData\\Local\\Programs\\Python\\Python310\\lib\\site-packages\\requests\\sessions.py:587\u001b[0m, in \u001b[0;36mSession.request\u001b[1;34m(self, method, url, params, data, headers, cookies, files, auth, timeout, allow_redirects, proxies, hooks, stream, verify, cert, json)\u001b[0m\n\u001b[0;32m    586\u001b[0m send_kwargs\u001b[39m.\u001b[39mupdate(settings)\n\u001b[1;32m--> 587\u001b[0m resp \u001b[39m=\u001b[39m \u001b[39mself\u001b[39m\u001b[39m.\u001b[39msend(prep, \u001b[39m*\u001b[39m\u001b[39m*\u001b[39msend_kwargs)\n\u001b[0;32m    589\u001b[0m \u001b[39mreturn\u001b[39;00m resp\n",
            "File \u001b[1;32mc:\\Users\\HP\\AppData\\Local\\Programs\\Python\\Python310\\lib\\site-packages\\requests\\sessions.py:701\u001b[0m, in \u001b[0;36mSession.send\u001b[1;34m(self, request, **kwargs)\u001b[0m\n\u001b[0;32m    700\u001b[0m \u001b[39m# Send the request\u001b[39;00m\n\u001b[1;32m--> 701\u001b[0m r \u001b[39m=\u001b[39m adapter\u001b[39m.\u001b[39msend(request, \u001b[39m*\u001b[39m\u001b[39m*\u001b[39mkwargs)\n\u001b[0;32m    703\u001b[0m \u001b[39m# Total elapsed time of the request (approximately)\u001b[39;00m\n",
            "File \u001b[1;32mc:\\Users\\HP\\AppData\\Local\\Programs\\Python\\Python310\\lib\\site-packages\\requests\\adapters.py:565\u001b[0m, in \u001b[0;36mHTTPAdapter.send\u001b[1;34m(self, request, stream, timeout, verify, cert, proxies)\u001b[0m\n\u001b[0;32m    563\u001b[0m         \u001b[39mraise\u001b[39;00m SSLError(e, request\u001b[39m=\u001b[39mrequest)\n\u001b[1;32m--> 565\u001b[0m     \u001b[39mraise\u001b[39;00m \u001b[39mConnectionError\u001b[39;00m(e, request\u001b[39m=\u001b[39mrequest)\n\u001b[0;32m    567\u001b[0m \u001b[39mexcept\u001b[39;00m ClosedPoolError \u001b[39mas\u001b[39;00m e:\n",
            "\u001b[1;31mConnectionError\u001b[0m: HTTPSConnectionPool(host='api.materialsproject.org', port=443): Max retries exceeded with url: /materials/?deprecated=False&_fields=material_id&task_ids=mp-79&_limit=1000 (Caused by NewConnectionError('<urllib3.connection.HTTPSConnection object at 0x000001F2DA6B6A10>: Failed to establish a new connection: [Errno 11001] getaddrinfo failed'))",
            "\nDuring handling of the above exception, another exception occurred:\n",
            "\u001b[1;31mMPRestError\u001b[0m                               Traceback (most recent call last)",
            "\u001b[1;32mc:\\Users\\HP\\Downloads\\zinc_data.ipynb Cell 40\u001b[0m in \u001b[0;36m7\n\u001b[0;32m      <a href='vscode-notebook-cell:/c%3A/Users/HP/Downloads/zinc_data.ipynb#X54sZmlsZQ%3D%3D?line=2'>3</a>\u001b[0m \u001b[39mfrom\u001b[39;00m \u001b[39mpymatgen\u001b[39;00m\u001b[39m.\u001b[39;00m\u001b[39msymmetry\u001b[39;00m\u001b[39m.\u001b[39;00m\u001b[39manalyzer\u001b[39;00m \u001b[39mimport\u001b[39;00m SpacegroupAnalyzer\n\u001b[0;32m      <a href='vscode-notebook-cell:/c%3A/Users/HP/Downloads/zinc_data.ipynb#X54sZmlsZQ%3D%3D?line=4'>5</a>\u001b[0m \u001b[39mwith\u001b[39;00m MPRester(api_key\u001b[39m=\u001b[39m\u001b[39m'\u001b[39m\u001b[39mygczzVeeUPfPlnBGRhMxZ0dRZWcX75df\u001b[39m\u001b[39m'\u001b[39m) \u001b[39mas\u001b[39;00m mpr:\n\u001b[0;32m      <a href='vscode-notebook-cell:/c%3A/Users/HP/Downloads/zinc_data.ipynb#X54sZmlsZQ%3D%3D?line=5'>6</a>\u001b[0m     \u001b[39m# first retrieve the relevant structure\u001b[39;00m\n\u001b[1;32m----> <a href='vscode-notebook-cell:/c%3A/Users/HP/Downloads/zinc_data.ipynb#X54sZmlsZQ%3D%3D?line=6'>7</a>\u001b[0m     structure \u001b[39m=\u001b[39m mpr\u001b[39m.\u001b[39;49mget_structure_by_material_id(\u001b[39m'\u001b[39;49m\u001b[39mmp-79\u001b[39;49m\u001b[39m'\u001b[39;49m)\n\u001b[0;32m      <a href='vscode-notebook-cell:/c%3A/Users/HP/Downloads/zinc_data.ipynb#X54sZmlsZQ%3D%3D?line=8'>9</a>\u001b[0m \u001b[39m# important to use the conventional structure to ensure\u001b[39;00m\n\u001b[0;32m     <a href='vscode-notebook-cell:/c%3A/Users/HP/Downloads/zinc_data.ipynb#X54sZmlsZQ%3D%3D?line=9'>10</a>\u001b[0m \u001b[39m# that peaks are labelled with the conventional Miller indices\u001b[39;00m\n\u001b[0;32m     <a href='vscode-notebook-cell:/c%3A/Users/HP/Downloads/zinc_data.ipynb#X54sZmlsZQ%3D%3D?line=10'>11</a>\u001b[0m sga \u001b[39m=\u001b[39m SpacegroupAnalyzer(structure)\n",
            "File \u001b[1;32mc:\\Users\\HP\\AppData\\Local\\Programs\\Python\\Python310\\lib\\site-packages\\mp_api\\client\\mprester.py:242\u001b[0m, in \u001b[0;36mMPRester.get_structure_by_material_id\u001b[1;34m(self, material_id, final, conventional_unit_cell)\u001b[0m\n\u001b[0;32m    224\u001b[0m \u001b[39mdef\u001b[39;00m \u001b[39mget_structure_by_material_id\u001b[39m(\n\u001b[0;32m    225\u001b[0m     \u001b[39mself\u001b[39m, material_id: \u001b[39mstr\u001b[39m, final: \u001b[39mbool\u001b[39m \u001b[39m=\u001b[39m \u001b[39mTrue\u001b[39;00m, conventional_unit_cell: \u001b[39mbool\u001b[39m \u001b[39m=\u001b[39m \u001b[39mFalse\u001b[39;00m\n\u001b[0;32m    226\u001b[0m ) \u001b[39m-\u001b[39m\u001b[39m>\u001b[39m Union[Structure, List[Structure]]:\n\u001b[0;32m    227\u001b[0m     \u001b[39m\"\"\"\u001b[39;00m\n\u001b[0;32m    228\u001b[0m \u001b[39m    Get a Structure corresponding to a material_id.\u001b[39;00m\n\u001b[0;32m    229\u001b[0m \n\u001b[1;32m   (...)\u001b[0m\n\u001b[0;32m    239\u001b[0m \u001b[39m        Structure object or list of Structure objects.\u001b[39;00m\n\u001b[0;32m    240\u001b[0m \u001b[39m    \"\"\"\u001b[39;00m\n\u001b[1;32m--> 242\u001b[0m     structure_data \u001b[39m=\u001b[39m \u001b[39mself\u001b[39;49m\u001b[39m.\u001b[39;49mmaterials\u001b[39m.\u001b[39;49mget_structure_by_material_id(material_id\u001b[39m=\u001b[39;49mmaterial_id, final\u001b[39m=\u001b[39;49mfinal)\n\u001b[0;32m    244\u001b[0m     \u001b[39mif\u001b[39;00m conventional_unit_cell \u001b[39mand\u001b[39;00m structure_data:\n\u001b[0;32m    245\u001b[0m         \u001b[39mif\u001b[39;00m final:\n",
            "File \u001b[1;32mc:\\Users\\HP\\AppData\\Local\\Programs\\Python\\Python310\\lib\\site-packages\\mp_api\\client\\routes\\materials.py:38\u001b[0m, in \u001b[0;36mMaterialsRester.get_structure_by_material_id\u001b[1;34m(self, material_id, final)\u001b[0m\n\u001b[0;32m     25\u001b[0m \u001b[39m\"\"\"\u001b[39;00m\n\u001b[0;32m     26\u001b[0m \u001b[39mGet a structure for a given Materials Project ID.\u001b[39;00m\n\u001b[0;32m     27\u001b[0m \n\u001b[1;32m   (...)\u001b[0m\n\u001b[0;32m     35\u001b[0m \u001b[39m        pymatgen structure objects.\u001b[39;00m\n\u001b[0;32m     36\u001b[0m \u001b[39m\"\"\"\u001b[39;00m\n\u001b[0;32m     37\u001b[0m \u001b[39mif\u001b[39;00m final:\n\u001b[1;32m---> 38\u001b[0m     response \u001b[39m=\u001b[39m \u001b[39mself\u001b[39;49m\u001b[39m.\u001b[39;49mget_data_by_id(material_id, fields\u001b[39m=\u001b[39;49m[\u001b[39m\"\u001b[39;49m\u001b[39mstructure\u001b[39;49m\u001b[39m\"\u001b[39;49m])\n\u001b[0;32m     39\u001b[0m     \u001b[39mreturn\u001b[39;00m response\u001b[39m.\u001b[39mstructure \u001b[39mif\u001b[39;00m response \u001b[39mis\u001b[39;00m \u001b[39mnot\u001b[39;00m \u001b[39mNone\u001b[39;00m \u001b[39melse\u001b[39;00m response  \u001b[39m# type: ignore\u001b[39;00m\n\u001b[0;32m     40\u001b[0m \u001b[39melse\u001b[39;00m:\n",
            "File \u001b[1;32mc:\\Users\\HP\\AppData\\Local\\Programs\\Python\\Python310\\lib\\site-packages\\mp_api\\client\\core\\client.py:857\u001b[0m, in \u001b[0;36mBaseRester.get_data_by_id\u001b[1;34m(self, document_id, fields)\u001b[0m\n\u001b[0;32m    847\u001b[0m \u001b[39mfrom\u001b[39;00m \u001b[39mmp_api\u001b[39;00m\u001b[39m.\u001b[39;00m\u001b[39mclient\u001b[39;00m\u001b[39m.\u001b[39;00m\u001b[39mroutes\u001b[39;00m\u001b[39m.\u001b[39;00m\u001b[39mmaterials\u001b[39;00m \u001b[39mimport\u001b[39;00m MaterialsRester\n\u001b[0;32m    849\u001b[0m \u001b[39mwith\u001b[39;00m MaterialsRester(\n\u001b[0;32m    850\u001b[0m     api_key\u001b[39m=\u001b[39m\u001b[39mself\u001b[39m\u001b[39m.\u001b[39mapi_key,\n\u001b[0;32m    851\u001b[0m     endpoint\u001b[39m=\u001b[39m\u001b[39mself\u001b[39m\u001b[39m.\u001b[39mbase_endpoint,\n\u001b[1;32m   (...)\u001b[0m\n\u001b[0;32m    855\u001b[0m     headers\u001b[39m=\u001b[39m\u001b[39mself\u001b[39m\u001b[39m.\u001b[39mheaders,\n\u001b[0;32m    856\u001b[0m ) \u001b[39mas\u001b[39;00m mpr:\n\u001b[1;32m--> 857\u001b[0m     docs \u001b[39m=\u001b[39m mpr\u001b[39m.\u001b[39;49msearch(task_ids\u001b[39m=\u001b[39;49m[document_id], fields\u001b[39m=\u001b[39;49m[\u001b[39m\"\u001b[39;49m\u001b[39mmaterial_id\u001b[39;49m\u001b[39m\"\u001b[39;49m])\n\u001b[0;32m    859\u001b[0m \u001b[39mif\u001b[39;00m \u001b[39mlen\u001b[39m(docs) \u001b[39m>\u001b[39m \u001b[39m0\u001b[39m:\n\u001b[0;32m    861\u001b[0m     new_document_id \u001b[39m=\u001b[39m docs[\u001b[39m0\u001b[39m]\u001b[39m.\u001b[39mget(\u001b[39m\"\u001b[39m\u001b[39mmaterial_id\u001b[39m\u001b[39m\"\u001b[39m, \u001b[39mNone\u001b[39;00m)\n",
            "File \u001b[1;32mc:\\Users\\HP\\AppData\\Local\\Programs\\Python\\Python310\\lib\\site-packages\\mp_api\\client\\routes\\materials.py:179\u001b[0m, in \u001b[0;36mMaterialsRester.search\u001b[1;34m(self, material_ids, chemsys, crystal_system, density, deprecated, elements, exclude_elements, formula, num_elements, num_sites, spacegroup_number, spacegroup_symbol, task_ids, volume, sort_fields, num_chunks, chunk_size, all_fields, fields)\u001b[0m\n\u001b[0;32m    169\u001b[0m     query_params\u001b[39m.\u001b[39mupdate(\n\u001b[0;32m    170\u001b[0m         {\u001b[39m\"\u001b[39m\u001b[39m_sort_fields\u001b[39m\u001b[39m\"\u001b[39m: \u001b[39m\"\u001b[39m\u001b[39m,\u001b[39m\u001b[39m\"\u001b[39m\u001b[39m.\u001b[39mjoin([s\u001b[39m.\u001b[39mstrip() \u001b[39mfor\u001b[39;00m s \u001b[39min\u001b[39;00m sort_fields])}\n\u001b[0;32m    171\u001b[0m     )\n\u001b[0;32m    173\u001b[0m query_params \u001b[39m=\u001b[39m {\n\u001b[0;32m    174\u001b[0m     entry: query_params[entry]\n\u001b[0;32m    175\u001b[0m     \u001b[39mfor\u001b[39;00m entry \u001b[39min\u001b[39;00m query_params\n\u001b[0;32m    176\u001b[0m     \u001b[39mif\u001b[39;00m query_params[entry] \u001b[39mis\u001b[39;00m \u001b[39mnot\u001b[39;00m \u001b[39mNone\u001b[39;00m\n\u001b[0;32m    177\u001b[0m }\n\u001b[1;32m--> 179\u001b[0m \u001b[39mreturn\u001b[39;00m \u001b[39msuper\u001b[39m()\u001b[39m.\u001b[39m_search(\n\u001b[0;32m    180\u001b[0m     num_chunks\u001b[39m=\u001b[39mnum_chunks,\n\u001b[0;32m    181\u001b[0m     chunk_size\u001b[39m=\u001b[39mchunk_size,\n\u001b[0;32m    182\u001b[0m     all_fields\u001b[39m=\u001b[39mall_fields,\n\u001b[0;32m    183\u001b[0m     fields\u001b[39m=\u001b[39mfields,\n\u001b[0;32m    184\u001b[0m     \u001b[39m*\u001b[39m\u001b[39m*\u001b[39mquery_params\n\u001b[0;32m    185\u001b[0m )\n",
            "File \u001b[1;32mc:\\Users\\HP\\AppData\\Local\\Programs\\Python\\Python310\\lib\\site-packages\\mp_api\\client\\core\\client.py:911\u001b[0m, in \u001b[0;36mBaseRester._search\u001b[1;34m(self, num_chunks, chunk_size, all_fields, fields, **kwargs)\u001b[0m\n\u001b[0;32m    888\u001b[0m \u001b[39m\"\"\"\u001b[39;00m\n\u001b[0;32m    889\u001b[0m \u001b[39mA generic search method to retrieve documents matching specific parameters.\u001b[39;00m\n\u001b[0;32m    890\u001b[0m \n\u001b[1;32m   (...)\u001b[0m\n\u001b[0;32m    906\u001b[0m \u001b[39m    A list of documents.\u001b[39;00m\n\u001b[0;32m    907\u001b[0m \u001b[39m\"\"\"\u001b[39;00m\n\u001b[0;32m    908\u001b[0m \u001b[39m# This method should be customized for each end point to give more user friendly,\u001b[39;00m\n\u001b[0;32m    909\u001b[0m \u001b[39m# documented kwargs.\u001b[39;00m\n\u001b[1;32m--> 911\u001b[0m \u001b[39mreturn\u001b[39;00m \u001b[39mself\u001b[39;49m\u001b[39m.\u001b[39;49m_get_all_documents(\n\u001b[0;32m    912\u001b[0m     kwargs,\n\u001b[0;32m    913\u001b[0m     all_fields\u001b[39m=\u001b[39;49mall_fields,\n\u001b[0;32m    914\u001b[0m     fields\u001b[39m=\u001b[39;49mfields,\n\u001b[0;32m    915\u001b[0m     chunk_size\u001b[39m=\u001b[39;49mchunk_size,\n\u001b[0;32m    916\u001b[0m     num_chunks\u001b[39m=\u001b[39;49mnum_chunks,\n\u001b[0;32m    917\u001b[0m )\n",
            "File \u001b[1;32mc:\\Users\\HP\\AppData\\Local\\Programs\\Python\\Python310\\lib\\site-packages\\mp_api\\client\\core\\client.py:960\u001b[0m, in \u001b[0;36mBaseRester._get_all_documents\u001b[1;34m(self, query_params, all_fields, fields, chunk_size, num_chunks)\u001b[0m\n\u001b[0;32m    946\u001b[0m list_entries \u001b[39m=\u001b[39m \u001b[39msorted\u001b[39m(\n\u001b[0;32m    947\u001b[0m     (\n\u001b[0;32m    948\u001b[0m         (key, \u001b[39mlen\u001b[39m(entry\u001b[39m.\u001b[39msplit(\u001b[39m\"\u001b[39m\u001b[39m,\u001b[39m\u001b[39m\"\u001b[39m)))\n\u001b[1;32m   (...)\u001b[0m\n\u001b[0;32m    955\u001b[0m     reverse\u001b[39m=\u001b[39m\u001b[39mTrue\u001b[39;00m,\n\u001b[0;32m    956\u001b[0m )\n\u001b[0;32m    958\u001b[0m chosen_param \u001b[39m=\u001b[39m list_entries[\u001b[39m0\u001b[39m][\u001b[39m0\u001b[39m] \u001b[39mif\u001b[39;00m \u001b[39mlen\u001b[39m(list_entries) \u001b[39m>\u001b[39m \u001b[39m0\u001b[39m \u001b[39melse\u001b[39;00m \u001b[39mNone\u001b[39;00m\n\u001b[1;32m--> 960\u001b[0m results \u001b[39m=\u001b[39m \u001b[39mself\u001b[39;49m\u001b[39m.\u001b[39;49m_query_resource(\n\u001b[0;32m    961\u001b[0m     query_params,\n\u001b[0;32m    962\u001b[0m     fields\u001b[39m=\u001b[39;49mfields,\n\u001b[0;32m    963\u001b[0m     parallel_param\u001b[39m=\u001b[39;49mchosen_param,\n\u001b[0;32m    964\u001b[0m     chunk_size\u001b[39m=\u001b[39;49mchunk_size,\n\u001b[0;32m    965\u001b[0m     num_chunks\u001b[39m=\u001b[39;49mnum_chunks,\n\u001b[0;32m    966\u001b[0m )\n\u001b[0;32m    968\u001b[0m \u001b[39mreturn\u001b[39;00m results[\u001b[39m\"\u001b[39m\u001b[39mdata\u001b[39m\u001b[39m\"\u001b[39m]\n",
            "File \u001b[1;32mc:\\Users\\HP\\AppData\\Local\\Programs\\Python\\Python310\\lib\\site-packages\\mp_api\\client\\core\\client.py:311\u001b[0m, in \u001b[0;36mBaseRester._query_resource\u001b[1;34m(self, criteria, fields, suburl, use_document_model, parallel_param, num_chunks, chunk_size, timeout)\u001b[0m\n\u001b[0;32m    307\u001b[0m     \u001b[39mreturn\u001b[39;00m data\n\u001b[0;32m    309\u001b[0m \u001b[39mexcept\u001b[39;00m RequestException \u001b[39mas\u001b[39;00m ex:\n\u001b[1;32m--> 311\u001b[0m     \u001b[39mraise\u001b[39;00m MPRestError(\u001b[39mstr\u001b[39m(ex))\n",
            "\u001b[1;31mMPRestError\u001b[0m: HTTPSConnectionPool(host='api.materialsproject.org', port=443): Max retries exceeded with url: /materials/?deprecated=False&_fields=material_id&task_ids=mp-79&_limit=1000 (Caused by NewConnectionError('<urllib3.connection.HTTPSConnection object at 0x000001F2DA6B6A10>: Failed to establish a new connection: [Errno 11001] getaddrinfo failed'))"
          ]
        }
      ],
      "source": [
        "from mp_api.client import MPRester\n",
        "from pymatgen.analysis.diffraction.xrd import XRDCalculator\n",
        "from pymatgen.symmetry.analyzer import SpacegroupAnalyzer\n",
        "\n",
        "with MPRester(api_key='ygczzVeeUPfPlnBGRhMxZ0dRZWcX75df') as mpr:\n",
        "    # first retrieve the relevant structure\n",
        "    structure = mpr.get_structure_by_material_id('mp-79')\n",
        "\n",
        "# important to use the conventional structure to ensure\n",
        "# that peaks are labelled with the conventional Miller indices\n",
        "sga = SpacegroupAnalyzer(structure)\n",
        "conventional_structure = sga.get_conventional_standard_structure()\n",
        "\n",
        "# this example shows how to obtain an XRD diffraction pattern\n",
        "# these patterns are calculated on-the-fly from the structure\n",
        "calculator = XRDCalculator(wavelength='CuKa')\n",
        "pattern = calculator.get_pattern(conventional_structure)"
      ]
    },
    {
      "cell_type": "code",
      "execution_count": 305,
      "metadata": {},
      "outputs": [
        {
          "data": {
            "text/plain": [
              "DiffractionPattern\n",
              "$2\\Theta$: [36.89000473 39.81431701 44.10456105 55.39518347 71.4791533  72.27969535\n",
              " 78.51230026 84.02122503 85.8427416  88.71408618]\n",
              "Intensity: [ 37.27656114  22.51094754 100.          16.40157294  21.73371872\n",
              "  14.00057617   3.65531482  18.30605221   2.17192822  12.09650591]"
            ]
          },
          "execution_count": 305,
          "metadata": {},
          "output_type": "execute_result"
        }
      ],
      "source": [
        "pattern"
      ]
    },
    {
      "cell_type": "code",
      "execution_count": 306,
      "metadata": {},
      "outputs": [
        {
          "name": "stderr",
          "output_type": "stream",
          "text": [
            "c:\\Users\\HP\\AppData\\Local\\Programs\\Python\\Python310\\lib\\site-packages\\mp_api\\client\\mprester.py:147: UserWarning: mpcontribs-client not installed. Install the package to query MPContribs data, or construct pourbaix diagrams: 'pip install mpcontribs-client'\n",
            "  warnings.warn(\n"
          ]
        },
        {
          "data": {
            "application/vnd.jupyter.widget-view+json": {
              "model_id": "b8e1e2e850664e9b9e73c90289661928",
              "version_major": 2,
              "version_minor": 0
            },
            "text/plain": [
              "Retrieving SurfacePropDoc documents:   0%|          | 0/1 [00:00<?, ?it/s]"
            ]
          },
          "metadata": {},
          "output_type": "display_data"
        }
      ],
      "source": [
        "from mp_api.client import MPRester\n",
        "\n",
        "with MPRester(api_key='ygczzVeeUPfPlnBGRhMxZ0dRZWcX75df') as mpr:\n",
        "    surface_properties_doc = mpr.surface_properties.get_data_by_id('mp-79')"
      ]
    },
    {
      "cell_type": "code",
      "execution_count": 308,
      "metadata": {},
      "outputs": [
        {
          "data": {
            "text/plain": [
              "\u001b[4m\u001b[1mMPDataDoc<SurfacePropDoc>\u001b[0;0m\u001b[0;0m(\n",
              "\u001b[1msurfaces\u001b[0;0m=[SurfaceEntry(miller_index=[2, -1, -1, 2], surface_energy_EV_PER_ANG2=0.049858712834864614, surface_energy=0.7988246101579123, is_reconstructed=False, structure=\"# generated using pymatgen\\ndata_Zn\\n_symmetry_space_group_name_H-M   'P 1'\\n_cell_length_a   4.59376062\\n_cell_length_b   5.66297186\\n_cell_length_c   28.26609457\\n_cell_angle_alpha   82.19687645\\n_cell_angle_beta   90.00000937\\n_cell_angle_gamma   90.00000940\\n_symmetry_Int_Tables_number   1\\n_chemical_formula_structural   Zn\\n_chemical_formula_sum   Zn24\\n_cell_volume   728.51493978\\n_cell_formula_units_Z   24\\nloop_\\n _symmetry_equiv_pos_site_id\\n _symmetry_equiv_pos_as_xyz\\n  1  'x, y, z'\\nloop_\\n _atom_site_type_symbol\\n _atom_site_label\\n _atom_site_symmetry_multiplicity\\n _atom_site_fract_x\\n _atom_site_fract_y\\n _atom_site_fract_z\\n _atom_site_occupancy\\n  Zn  Zn1  1  0.663833  0.070876  0.393521  1\\n  Zn  Zn2  1  0.665003  0.547588  0.140193  1\\n  Zn  Zn3  1  0.241334  0.021849  0.462445  1\\n  Zn  Zn4  1  0.154320  0.626595  0.187243  1\\n  Zn  Zn5  1  0.654320  0.873405  0.312757  1\\n  Zn  Zn6  1  0.741334  0.478151  0.037555  1\\n  Zn  Zn7  1  0.746882  0.264214  0.474686  1\\n  Zn  Zn8  1  0.656226  0.703566  0.228574  1\\n  Zn  Zn9  1  0.165003  0.952412  0.359807  1\\n  Zn  Zn10  1  0.163833  0.429123  0.106479  1\\n  Zn  Zn11  1  0.156226  0.796434  0.271426  1\\n  Zn  Zn12  1  0.246882  0.235786  0.025314  1\\n  Zn  Zn13  1  0.845680  0.373405  0.312757  1\\n  Zn  Zn14  1  0.758666  0.978151  0.037555  1\\n  Zn  Zn15  1  0.334997  0.452412  0.359807  1\\n  Zn  Zn16  1  0.336167  0.929123  0.106479  1\\n  Zn  Zn17  1  0.753118  0.764214  0.474686  1\\n  Zn  Zn18  1  0.843774  0.203566  0.228574  1\\n  Zn  Zn19  1  0.836167  0.570877  0.393521  1\\n  Zn  Zn20  1  0.834997  0.047588  0.140193  1\\n  Zn  Zn21  1  0.343774  0.296434  0.271426  1\\n  Zn  Zn22  1  0.253118  0.735786  0.025314  1\\n  Zn  Zn23  1  0.258666  0.521849  0.462445  1\\n  Zn  Zn24  1  0.345680  0.126595  0.187243  1\\n\", work_function=4.155235970301791, efermi=-0.5666, area_fraction=0.0, has_wulff=True), SurfaceEntry(miller_index=[1, 0, -1, 1], surface_energy_EV_PER_ANG2=0.04375600971447873, surface_energy=0.7010485312367011, is_reconstructed=False, structure=\"# generated using pymatgen\\ndata_Zn\\n_symmetry_space_group_name_H-M   'P 1'\\n_cell_length_a   2.65911549\\n_cell_length_b   5.60856078\\n_cell_length_c   26.59114700\\n_cell_angle_alpha   103.71299538\\n_cell_angle_beta   60.00001858\\n_cell_angle_gamma   76.28698106\\n_symmetry_Int_Tables_number   1\\n_chemical_formula_structural   Zn\\n_chemical_formula_sum   Zn10\\n_cell_volume   302.38962581\\n_cell_formula_units_Z   10\\nloop_\\n _symmetry_equiv_pos_site_id\\n _symmetry_equiv_pos_as_xyz\\n  1  'x, y, z'\\nloop_\\n _atom_site_type_symbol\\n _atom_site_label\\n _atom_site_symmetry_multiplicity\\n _atom_site_fract_x\\n _atom_site_fract_y\\n _atom_site_fract_z\\n _atom_site_occupancy\\n  Zn  Zn1  1  0.021684  0.277725  0.068084  1\\n  Zn  Zn2  1  0.958651  0.817277  0.026375  1\\n  Zn  Zn3  1  0.016166  0.241203  0.172466  1\\n  Zn  Zn4  1  0.025301  0.746664  0.120384  1\\n  Zn  Zn5  1  0.992566  0.254545  0.276287  1\\n  Zn  Zn6  1  0.007485  0.745445  0.223708  1\\n  Zn  Zn7  1  0.974710  0.253328  0.379615  1\\n  Zn  Zn8  1  0.983807  0.758807  0.327538  1\\n  Zn  Zn9  1  0.041362  0.182725  0.473626  1\\n  Zn  Zn10  1  0.978267  0.722281  0.431918  1\\n\", work_function=3.9063081115052793, efermi=-0.5292, area_fraction=0.0, has_wulff=True), SurfaceEntry(miller_index=[2, 1, -3, 0], surface_energy_EV_PER_ANG2=0.05028248677993825, surface_energy=0.8056142169732693, is_reconstructed=False, structure=\"# generated using pymatgen\\ndata_Zn\\n_symmetry_space_group_name_H-M   'P 1'\\n_cell_length_a   4.99382900\\n_cell_length_b   7.00939255\\n_cell_length_c   21.20770200\\n_cell_angle_alpha   79.09969358\\n_cell_angle_beta   90.00000000\\n_cell_angle_gamma   90.00000000\\n_symmetry_Int_Tables_number   1\\n_chemical_formula_structural   Zn\\n_chemical_formula_sum   Zn24\\n_cell_volume   728.95453608\\n_cell_formula_units_Z   24\\nloop_\\n _symmetry_equiv_pos_site_id\\n _symmetry_equiv_pos_as_xyz\\n  1  'x, y, z'\\nloop_\\n _atom_site_type_symbol\\n _atom_site_label\\n _atom_site_symmetry_multiplicity\\n _atom_site_fract_x\\n _atom_site_fract_y\\n _atom_site_fract_z\\n _atom_site_occupancy\\n  Zn  Zn1  1  0.750000  0.611097  0.022391  1\\n  Zn  Zn2  1  0.750000  0.258627  0.092354  1\\n  Zn  Zn3  1  0.750000  0.952734  0.044105  1\\n  Zn  Zn4  1  0.250000  0.783255  0.019021  1\\n  Zn  Zn5  1  0.250000  0.443693  0.092400  1\\n  Zn  Zn6  1  0.250000  0.106085  0.060291  1\\n  Zn  Zn7  1  0.750000  0.575785  0.147364  1\\n  Zn  Zn8  1  0.750000  0.236541  0.225660  1\\n  Zn  Zn9  1  0.750000  0.911262  0.181291  1\\n  Zn  Zn10  1  0.250000  0.761893  0.147801  1\\n  Zn  Zn11  1  0.250000  0.426003  0.227710  1\\n  Zn  Zn12  1  0.250000  0.100719  0.186346  1\\n  Zn  Zn13  1  0.750000  0.573997  0.272290  1\\n  Zn  Zn14  1  0.750000  0.238107  0.352199  1\\n  Zn  Zn15  1  0.750000  0.899281  0.313654  1\\n  Zn  Zn16  1  0.250000  0.763459  0.274340  1\\n  Zn  Zn17  1  0.250000  0.424215  0.352637  1\\n  Zn  Zn18  1  0.250000  0.088738  0.318709  1\\n  Zn  Zn19  1  0.750000  0.556307  0.407600  1\\n  Zn  Zn20  1  0.750000  0.216745  0.480979  1\\n  Zn  Zn21  1  0.750000  0.893915  0.439709  1\\n  Zn  Zn22  1  0.250000  0.741373  0.407646  1\\n  Zn  Zn23  1  0.250000  0.388903  0.477609  1\\n  Zn  Zn24  1  0.250000  0.047267  0.455895  1\\n\", work_function=3.9211903528085656, efermi=-0.5504, area_fraction=0.0, has_wulff=True), SurfaceEntry(miller_index=[1, 1, -2, 0], surface_energy_EV_PER_ANG2=0.05747595203239761, surface_energy=0.920866231099918, is_reconstructed=False, structure=\"# generated using pymatgen\\ndata_Zn\\n_symmetry_space_group_name_H-M   'P 1'\\n_cell_length_a   5.03691300\\n_cell_length_b   4.56831700\\n_cell_length_c   21.20319700\\n_cell_angle_alpha   90.00000000\\n_cell_angle_beta   90.00000000\\n_cell_angle_gamma   90.00000000\\n_symmetry_Int_Tables_number   1\\n_chemical_formula_structural   Zn\\n_chemical_formula_sum   Zn16\\n_cell_volume   487.89012771\\n_cell_formula_units_Z   16\\nloop_\\n _symmetry_equiv_pos_site_id\\n _symmetry_equiv_pos_as_xyz\\n  1  'x, y, z'\\nloop_\\n _atom_site_type_symbol\\n _atom_site_label\\n _atom_site_symmetry_multiplicity\\n _atom_site_fract_x\\n _atom_site_fract_y\\n _atom_site_fract_z\\n _atom_site_occupancy\\n  Zn  Zn1  1  0.750000  0.377768  0.997388  1\\n  Zn  Zn2  1  0.750000  0.868057  0.053437  1\\n  Zn  Zn3  1  0.250000  0.622232  0.997388  1\\n  Zn  Zn4  1  0.250000  0.131943  0.053437  1\\n  Zn  Zn5  1  0.750000  0.355801  0.124269  1\\n  Zn  Zn6  1  0.750000  0.854268  0.185650  1\\n  Zn  Zn7  1  0.250000  0.644199  0.124269  1\\n  Zn  Zn8  1  0.250000  0.145732  0.185650  1\\n  Zn  Zn9  1  0.750000  0.354268  0.251850  1\\n  Zn  Zn10  1  0.750000  0.855801  0.313231  1\\n  Zn  Zn11  1  0.250000  0.645732  0.251850  1\\n  Zn  Zn12  1  0.250000  0.144199  0.313231  1\\n  Zn  Zn13  1  0.750000  0.368057  0.384063  1\\n  Zn  Zn14  1  0.750000  0.877768  0.440112  1\\n  Zn  Zn15  1  0.250000  0.631943  0.384063  1\\n  Zn  Zn16  1  0.250000  0.122232  0.440112  1\\n\", work_function=4.060610224816135, efermi=-0.6139, area_fraction=0.0, has_wulff=True), SurfaceEntry(miller_index=[1, 0, -1, 2], surface_energy_EV_PER_ANG2=0.04412010415371362, surface_energy=0.7068819669983859, is_reconstructed=False, structure=\"# generated using pymatgen\\ndata_Zn\\n_symmetry_space_group_name_H-M   'P 1'\\n_cell_length_a   2.65966882\\n_cell_length_b   7.26939376\\n_cell_length_c   27.06148620\\n_cell_angle_alpha   85.56823435\\n_cell_angle_beta   90.00001077\\n_cell_angle_gamma   68.53873172\\n_symmetry_Int_Tables_number   1\\n_chemical_formula_structural   Zn\\n_chemical_formula_sum   Zn16\\n_cell_volume   485.25351327\\n_cell_formula_units_Z   16\\nloop_\\n _symmetry_equiv_pos_site_id\\n _symmetry_equiv_pos_as_xyz\\n  1  'x, y, z'\\nloop_\\n _atom_site_type_symbol\\n _atom_site_label\\n _atom_site_symmetry_multiplicity\\n _atom_site_fract_x\\n _atom_site_fract_y\\n _atom_site_fract_z\\n _atom_site_occupancy\\n  Zn  Zn1  1  0.209158  0.790842  0.116105  1\\n  Zn  Zn2  1  0.433444  0.066556  0.050324  1\\n  Zn  Zn3  1  0.969346  0.530654  0.176573  1\\n  Zn  Zn4  1  0.716750  0.283250  0.241289  1\\n  Zn  Zn5  1  0.533194  0.966806  0.193585  1\\n  Zn  Zn6  1  0.770126  0.229874  0.128750  1\\n  Zn  Zn7  1  0.222523  0.777477  0.009862  1\\n  Zn  Zn8  1  0.019078  0.480922  0.059736  1\\n  Zn  Zn9  1  0.229874  0.770126  0.371250  1\\n  Zn  Zn10  1  0.466806  0.033194  0.306415  1\\n  Zn  Zn11  1  0.980922  0.519078  0.440264  1\\n  Zn  Zn12  1  0.777477  0.222523  0.490138  1\\n  Zn  Zn13  1  0.566556  0.933444  0.449676  1\\n  Zn  Zn14  1  0.790842  0.209158  0.383895  1\\n  Zn  Zn15  1  0.283250  0.716750  0.258711  1\\n  Zn  Zn16  1  0.030654  0.469346  0.323427  1\\n\", work_function=4.2631710537985255, efermi=-0.6426, area_fraction=0.0, has_wulff=True), SurfaceEntry(miller_index=[2, 1, -3, 1], surface_energy_EV_PER_ANG2=0.05217617082022478, surface_energy=0.835954378787201, is_reconstructed=False, structure=\"# generated using pymatgen\\ndata_Zn\\n_symmetry_space_group_name_H-M   'P 1'\\n_cell_length_a   5.63908065\\n_cell_length_b   6.76664547\\n_cell_length_c   20.66784977\\n_cell_angle_alpha   84.07041388\\n_cell_angle_beta   88.23642285\\n_cell_angle_gamma   68.13902878\\n_symmetry_Int_Tables_number   1\\n_chemical_formula_structural   Zn\\n_chemical_formula_sum   Zn24\\n_cell_volume   727.98462949\\n_cell_formula_units_Z   24\\nloop_\\n _symmetry_equiv_pos_site_id\\n _symmetry_equiv_pos_as_xyz\\n  1  'x, y, z'\\nloop_\\n _atom_site_type_symbol\\n _atom_site_label\\n _atom_site_symmetry_multiplicity\\n _atom_site_fract_x\\n _atom_site_fract_y\\n _atom_site_fract_z\\n _atom_site_occupancy\\n  Zn  Zn1  1  0.956565  0.807576  0.919058  1\\n  Zn  Zn2  1  0.353128  0.486541  0.881283  1\\n  Zn  Zn3  1  0.549343  0.105783  0.962741  1\\n  Zn  Zn4  1  0.458554  0.797250  0.920727  1\\n  Zn  Zn5  1  0.660728  0.416521  0.983922  1\\n  Zn  Zn6  1  0.072853  0.117307  0.960244  1\\n  Zn  Zn7  1  0.169109  0.847698  0.797067  1\\n  Zn  Zn8  1  0.500947  0.503052  0.753226  1\\n  Zn  Zn9  1  0.771611  0.177106  0.837946  1\\n  Zn  Zn10  1  0.670425  0.849149  0.792256  1\\n  Zn  Zn11  1  0.879442  0.494499  0.874735  1\\n  Zn  Zn12  1  0.279480  0.172424  0.833650  1\\n  Zn  Zn13  1  0.220520  0.827576  0.666350  1\\n  Zn  Zn14  1  0.620558  0.505501  0.625265  1\\n  Zn  Zn15  1  0.829575  0.150851  0.707744  1\\n  Zn  Zn16  1  0.728389  0.822894  0.662054  1\\n  Zn  Zn17  1  0.999053  0.496948  0.746774  1\\n  Zn  Zn18  1  0.330891  0.152302  0.702933  1\\n  Zn  Zn19  1  0.427147  0.882693  0.539756  1\\n  Zn  Zn20  1  0.839272  0.583479  0.516078  1\\n  Zn  Zn21  1  0.041446  0.202750  0.579273  1\\n  Zn  Zn22  1  0.950657  0.894217  0.537259  1\\n  Zn  Zn23  1  0.146872  0.513459  0.618717  1\\n  Zn  Zn24  1  0.543435  0.192424  0.580942  1\\n\", work_function=3.933140504685586, efermi=-0.5572, area_fraction=0.0, has_wulff=True), SurfaceEntry(miller_index=[2, 2, -4, 1], surface_energy_EV_PER_ANG2=0.051946457678011634, surface_energy=0.8322739686674226, is_reconstructed=False, structure=\"# generated using pymatgen\\ndata_Zn\\n_symmetry_space_group_name_H-M   'P 1'\\n_cell_length_a   4.57904800\\n_cell_length_b   10.33350030\\n_cell_length_c   21.25762700\\n_cell_angle_alpha   97.38709375\\n_cell_angle_beta   90.00000000\\n_cell_angle_gamma   77.19913270\\n_symmetry_Int_Tables_number   1\\n_chemical_formula_structural   Zn\\n_chemical_formula_sum   Zn32\\n_cell_volume   972.29700544\\n_cell_formula_units_Z   32\\nloop_\\n _symmetry_equiv_pos_site_id\\n _symmetry_equiv_pos_as_xyz\\n  1  'x, y, z'\\nloop_\\n _atom_site_type_symbol\\n _atom_site_label\\n _atom_site_symmetry_multiplicity\\n _atom_site_fract_x\\n _atom_site_fract_y\\n _atom_site_fract_z\\n _atom_site_occupancy\\n  Zn  Zn1  1  0.613178  0.600483  0.032817  1\\n  Zn  Zn2  1  0.069496  0.163033  0.091485  1\\n  Zn  Zn3  1  0.530346  0.217167  0.030966  1\\n  Zn  Zn4  1  0.042675  0.721880  0.033877  1\\n  Zn  Zn5  1  0.425373  0.873211  0.072923  1\\n  Zn  Zn6  1  0.705800  0.411646  0.105866  1\\n  Zn  Zn7  1  0.178880  0.455053  0.039838  1\\n  Zn  Zn8  1  0.851023  0.976591  0.032959  1\\n  Zn  Zn9  1  0.814203  0.614934  0.205083  1\\n  Zn  Zn10  1  0.072731  0.106271  0.217281  1\\n  Zn  Zn11  1  0.569011  0.117138  0.154421  1\\n  Zn  Zn12  1  0.298272  0.636726  0.146822  1\\n  Zn  Zn13  1  0.441318  0.864028  0.214588  1\\n  Zn  Zn14  1  0.702645  0.357963  0.227760  1\\n  Zn  Zn15  1  0.210095  0.375805  0.165422  1\\n  Zn  Zn16  1  0.924824  0.872153  0.151415  1\\n  Zn  Zn17  1  0.789905  0.624195  0.334578  1\\n  Zn  Zn18  1  0.075176  0.127847  0.348585  1\\n  Zn  Zn19  1  0.558682  0.135972  0.285412  1\\n  Zn  Zn20  1  0.297355  0.642037  0.272240  1\\n  Zn  Zn21  1  0.430989  0.882862  0.345579  1\\n  Zn  Zn22  1  0.701728  0.363274  0.353178  1\\n  Zn  Zn23  1  0.185797  0.385066  0.294917  1\\n  Zn  Zn24  1  0.927269  0.893729  0.282719  1\\n  Zn  Zn25  1  0.821120  0.544947  0.460162  1\\n  Zn  Zn26  1  0.148977  0.023409  0.467040  1\\n  Zn  Zn27  1  0.574627  0.126789  0.427076  1\\n  Zn  Zn28  1  0.294200  0.588354  0.394134  1\\n  Zn  Zn29  1  0.469654  0.782833  0.469035  1\\n  Zn  Zn30  1  0.957325  0.278120  0.466123  1\\n  Zn  Zn31  1  0.386822  0.399517  0.467183  1\\n  Zn  Zn32  1  0.930504  0.836967  0.408515  1\\n\", work_function=4.128799878057071, efermi=-0.6368, area_fraction=0.0, has_wulff=True), SurfaceEntry(miller_index=[1, 1, -2, 1], surface_energy_EV_PER_ANG2=0.058244034240247794, surface_energy=0.9331722641956242, is_reconstructed=False, structure=\"# generated using pymatgen\\ndata_Zn\\n_symmetry_space_group_name_H-M   'P 1'\\n_cell_length_a   4.56722100\\n_cell_length_b   5.67682500\\n_cell_length_c   21.22394400\\n_cell_angle_alpha   103.51315689\\n_cell_angle_beta   90.00000000\\n_cell_angle_gamma   66.27989539\\n_symmetry_Int_Tables_number   1\\n_chemical_formula_structural   Zn\\n_chemical_formula_sum   Zn16\\n_cell_volume   487.10759464\\n_cell_formula_units_Z   16\\nloop_\\n _symmetry_equiv_pos_site_id\\n _symmetry_equiv_pos_as_xyz\\n  1  'x, y, z'\\nloop_\\n _atom_site_type_symbol\\n _atom_site_label\\n _atom_site_symmetry_multiplicity\\n _atom_site_fract_x\\n _atom_site_fract_y\\n _atom_site_fract_z\\n _atom_site_occupancy\\n  Zn  Zn1  1  0.007292  0.275147  0.067006  1\\n  Zn  Zn2  1  0.456403  0.364180  0.021341  1\\n  Zn  Zn3  1  0.459886  0.789186  0.107760  1\\n  Zn  Zn4  1  0.947095  0.808381  0.046051  1\\n  Zn  Zn5  1  0.017856  0.255990  0.201114  1\\n  Zn  Zn6  1  0.515362  0.260362  0.139090  1\\n  Zn  Zn7  1  0.476029  0.751697  0.234203  1\\n  Zn  Zn8  1  0.974701  0.754380  0.171564  1\\n  Zn  Zn9  1  0.025299  0.245620  0.328436  1\\n  Zn  Zn10  1  0.523971  0.248303  0.265797  1\\n  Zn  Zn11  1  0.484638  0.739638  0.360910  1\\n  Zn  Zn12  1  0.982144  0.744010  0.298886  1\\n  Zn  Zn13  1  0.052905  0.191619  0.453949  1\\n  Zn  Zn14  1  0.540114  0.210814  0.392240  1\\n  Zn  Zn15  1  0.543597  0.635820  0.478659  1\\n  Zn  Zn16  1  0.992708  0.724853  0.432994  1\\n\", work_function=3.939817043546375, efermi=-0.5502, area_fraction=0.0, has_wulff=True), SurfaceEntry(miller_index=[2, 1, -3, 2], surface_energy_EV_PER_ANG2=0.05557558092787579, surface_energy=0.8904189307102564, is_reconstructed=False, structure=\"# generated using pymatgen\\ndata_Zn\\n_symmetry_space_group_name_H-M   'P 1'\\n_cell_length_a   7.00370555\\n_cell_length_b   5.64909904\\n_cell_length_c   26.55704500\\n_cell_angle_alpha   103.59489641\\n_cell_angle_beta   79.07097978\\n_cell_angle_gamma   69.20080658\\n_symmetry_Int_Tables_number   1\\n_chemical_formula_structural   Zn\\n_chemical_formula_sum   Zn30\\n_cell_volume   910.59413604\\n_cell_formula_units_Z   30\\nloop_\\n _symmetry_equiv_pos_site_id\\n _symmetry_equiv_pos_as_xyz\\n  1  'x, y, z'\\nloop_\\n _atom_site_type_symbol\\n _atom_site_label\\n _atom_site_symmetry_multiplicity\\n _atom_site_fract_x\\n _atom_site_fract_y\\n _atom_site_fract_z\\n _atom_site_occupancy\\n  Zn  Zn1  1  0.028291  0.253341  0.062157  1\\n  Zn  Zn2  1  0.354761  0.257189  0.094152  1\\n  Zn  Zn3  1  0.689224  0.282089  0.029821  1\\n  Zn  Zn4  1  0.643772  0.830660  0.009393  1\\n  Zn  Zn5  1  0.989154  0.797223  0.029873  1\\n  Zn  Zn6  1  0.330486  0.734244  0.056559  1\\n  Zn  Zn7  1  0.032723  0.216454  0.162312  1\\n  Zn  Zn8  1  0.355932  0.228446  0.197534  1\\n  Zn  Zn9  1  0.688754  0.230589  0.131258  1\\n  Zn  Zn10  1  0.661068  0.737199  0.101576  1\\n  Zn  Zn11  1  0.999407  0.733766  0.129956  1\\n  Zn  Zn12  1  0.327668  0.725744  0.165454  1\\n  Zn  Zn13  1  0.007877  0.266764  0.266672  1\\n  Zn  Zn14  1  0.333670  0.284505  0.300744  1\\n  Zn  Zn15  1  0.688729  0.227711  0.230927  1\\n  Zn  Zn16  1  0.666330  0.715495  0.199256  1\\n  Zn  Zn17  1  0.992123  0.733236  0.233328  1\\n  Zn  Zn18  1  0.311271  0.772289  0.269073  1\\n  Zn  Zn19  1  0.000593  0.266234  0.370044  1\\n  Zn  Zn20  1  0.338932  0.262801  0.398424  1\\n  Zn  Zn21  1  0.672332  0.274256  0.334546  1\\n  Zn  Zn22  1  0.644068  0.771554  0.302466  1\\n  Zn  Zn23  1  0.967277  0.783546  0.337688  1\\n  Zn  Zn24  1  0.311246  0.769411  0.368742  1\\n  Zn  Zn25  1  0.010846  0.202777  0.470127  1\\n  Zn  Zn26  1  0.356228  0.169340  0.490607  1\\n  Zn  Zn27  1  0.669514  0.265756  0.443441  1\\n  Zn  Zn28  1  0.645239  0.742811  0.405848  1\\n  Zn  Zn29  1  0.971709  0.746659  0.437843  1\\n  Zn  Zn30  1  0.310776  0.717911  0.470179  1\\n\", work_function=4.041841841549309, efermi=-0.5335, area_fraction=0.0, has_wulff=True), SurfaceEntry(miller_index=[1, 0, -1, 0], surface_energy_EV_PER_ANG2=0.032960744647671514, surface_energy=0.5280893247464475, is_reconstructed=False, structure=\"# generated using pymatgen\\ndata_Zn\\n_symmetry_space_group_name_H-M   'P 1'\\n_cell_length_a   2.66098286\\n_cell_length_b   4.92216800\\n_cell_length_c   26.60982500\\n_cell_angle_alpha   90.00000000\\n_cell_angle_beta   60.00001065\\n_cell_angle_gamma   90.00000000\\n_symmetry_Int_Tables_number   1\\n_chemical_formula_structural   Zn\\n_chemical_formula_sum   Zn10\\n_cell_volume   301.83611752\\n_cell_formula_units_Z   10\\nloop_\\n _symmetry_equiv_pos_site_id\\n _symmetry_equiv_pos_as_xyz\\n  1  'x, y, z'\\nloop_\\n _atom_site_type_symbol\\n _atom_site_label\\n _atom_site_symmetry_multiplicity\\n _atom_site_fract_x\\n _atom_site_fract_y\\n _atom_site_fract_z\\n _atom_site_occupancy\\n  Zn  Zn1  1  0.299827  0.250000  0.040034  1\\n  Zn  Zn2  1  0.798563  0.750000  0.040288  1\\n  Zn  Zn3  1  0.268487  0.250000  0.146302  1\\n  Zn  Zn4  1  0.766125  0.750000  0.146775  1\\n  Zn  Zn5  1  0.251135  0.250000  0.249773  1\\n  Zn  Zn6  1  0.748865  0.750000  0.250227  1\\n  Zn  Zn7  1  0.233875  0.250000  0.353225  1\\n  Zn  Zn8  1  0.731513  0.750000  0.353698  1\\n  Zn  Zn9  1  0.201437  0.250000  0.459712  1\\n  Zn  Zn10  1  0.700173  0.750000  0.459966  1\\n\", work_function=4.0750544273143205, efermi=-0.554, area_fraction=0.5587169254603455, has_wulff=True), SurfaceEntry(miller_index=[2, 0, -2, 1], surface_energy_EV_PER_ANG2=0.05064493839965916, surface_energy=0.8114213318657781, is_reconstructed=False, structure=\"# generated using pymatgen\\ndata_Zn\\n_symmetry_space_group_name_H-M   'P 1'\\n_cell_length_a   2.65716304\\n_cell_length_b   10.33397767\\n_cell_length_c   27.47409520\\n_cell_angle_alpha   102.80017596\\n_cell_angle_beta   90.00001879\\n_cell_angle_gamma   82.61335132\\n_symmetry_Int_Tables_number   1\\n_chemical_formula_structural   Zn\\n_chemical_formula_sum   Zn24\\n_cell_volume   729.24307035\\n_cell_formula_units_Z   24\\nloop_\\n _symmetry_equiv_pos_site_id\\n _symmetry_equiv_pos_as_xyz\\n  1  'x, y, z'\\nloop_\\n _atom_site_type_symbol\\n _atom_site_label\\n _atom_site_symmetry_multiplicity\\n _atom_site_fract_x\\n _atom_site_fract_y\\n _atom_site_fract_z\\n _atom_site_occupancy\\n  Zn  Zn1  1  0.436237  0.127525  0.036708  1\\n  Zn  Zn2  1  0.227301  0.545398  0.064335  1\\n  Zn  Zn3  1  0.928438  0.143124  0.142985  1\\n  Zn  Zn4  1  0.693290  0.613420  0.161846  1\\n  Zn  Zn5  1  0.829257  0.341486  0.088020  1\\n  Zn  Zn6  1  0.615135  0.769730  0.095465  1\\n  Zn  Zn7  1  0.336736  0.326528  0.987246  1\\n  Zn  Zn8  1  0.033683  0.932634  0.056507  1\\n  Zn  Zn9  1  0.449285  0.101431  0.223884  1\\n  Zn  Zn10  1  0.172935  0.654130  0.248188  1\\n  Zn  Zn11  1  0.932129  0.135743  0.315957  1\\n  Zn  Zn12  1  0.697909  0.604182  0.324110  1\\n  Zn  Zn13  1  0.827065  0.345870  0.251812  1\\n  Zn  Zn14  1  0.550715  0.898569  0.276116  1\\n  Zn  Zn15  1  0.302091  0.395818  0.175890  1\\n  Zn  Zn16  1  0.067872  0.864257  0.184043  1\\n  Zn  Zn17  1  0.384865  0.230270  0.404535  1\\n  Zn  Zn18  1  0.170743  0.658514  0.411980  1\\n  Zn  Zn19  1  0.966317  0.067366  0.443493  1\\n  Zn  Zn20  1  0.663264  0.673472  0.512754  1\\n  Zn  Zn21  1  0.772699  0.454602  0.435665  1\\n  Zn  Zn22  1  0.563763  0.872475  0.463292  1\\n  Zn  Zn23  1  0.306710  0.386580  0.338154  1\\n  Zn  Zn24  1  0.071562  0.856876  0.357015  1\\n\", work_function=4.169229806601448, efermi=-0.6002, area_fraction=0.0, has_wulff=True), SurfaceEntry(miller_index=[0, 0, 0, 1], surface_energy_EV_PER_ANG2=0.02086611403535226, surface_energy=0.334311988057284, is_reconstructed=False, structure=\"# generated using pymatgen\\ndata_Zn\\n_symmetry_space_group_name_H-M   'P 1'\\n_cell_length_a   2.66132000\\n_cell_length_b   2.66131987\\n_cell_length_c   39.35363200\\n_cell_angle_alpha   90.00000000\\n_cell_angle_beta   90.00000000\\n_cell_angle_gamma   120.00002648\\n_symmetry_Int_Tables_number   1\\n_chemical_formula_structural   Zn\\n_chemical_formula_sum   Zn8\\n_cell_volume   241.38457274\\n_cell_formula_units_Z   8\\nloop_\\n _symmetry_equiv_pos_site_id\\n _symmetry_equiv_pos_as_xyz\\n  1  'x, y, z'\\nloop_\\n _atom_site_type_symbol\\n _atom_site_label\\n _atom_site_symmetry_multiplicity\\n _atom_site_fract_x\\n _atom_site_fract_y\\n _atom_site_fract_z\\n _atom_site_occupancy\\n  Zn  Zn1  1  0.333333  0.666667  0.280938  1\\n  Zn  Zn2  1  0.666667  0.333333  0.344526  1\\n  Zn  Zn3  1  0.333333  0.666667  0.406038  1\\n  Zn  Zn4  1  0.666667  0.333333  0.468340  1\\n  Zn  Zn5  1  0.333333  0.666667  0.531660  1\\n  Zn  Zn6  1  0.666667  0.333333  0.593962  1\\n  Zn  Zn7  1  0.333333  0.666667  0.655474  1\\n  Zn  Zn8  1  0.666667  0.333333  0.719062  1\\n\", work_function=3.9185972726184413, efermi=-0.37246069, area_fraction=0.44128307453965454, has_wulff=True)],\n",
              "\u001b[1mweighted_surface_energy_EV_PER_ANG2\u001b[0;0m=0.027623588865645848,\n",
              "\u001b[1mweighted_surface_energy\u001b[0;0m=0.44257866583614763,\n",
              "\u001b[1msurface_anisotropy\u001b[0;0m=0.21740376274172288,\n",
              "\u001b[1mpretty_formula\u001b[0;0m='Zn',\n",
              "\u001b[1mshape_factor\u001b[0;0m=5.85949104225898,\n",
              "\u001b[1mweighted_work_function\u001b[0;0m=4.0060125330563965,\n",
              "\u001b[1mhas_reconstructed\u001b[0;0m=False,\n",
              "\u001b[1mtask_id\u001b[0;0m='mp-79',\n",
              "\u001b[1mstructure\u001b[0;0m=Structure Summary\n",
              "Lattice\n",
              "    abc : 2.626730472467679 2.626730472467679 5.207234\n",
              " angles : 90.0 90.0 120.00000000000001\n",
              " volume : 31.114924432303443\n",
              "      A : 1.3133652362338395 -2.274815318051711 0.0\n",
              "      B : 1.3133652362338395 2.274815318051711 0.0\n",
              "      C : 0.0 0.0 5.207234\n",
              "    pbc : True True True\n",
              "PeriodicSite: Zn (1.3134, -0.7583, 3.9054) [0.6667, 0.3333, 0.7500]\n",
              "PeriodicSite: Zn (1.3134, 0.7583, 1.3018) [0.3333, 0.6667, 0.2500],\n",
              "\u001b[1mfields_not_requested\u001b[0;0m=[]\n",
              ")"
            ]
          },
          "execution_count": 308,
          "metadata": {},
          "output_type": "execute_result"
        }
      ],
      "source": [
        "surface_properties_doc"
      ]
    },
    {
      "cell_type": "code",
      "execution_count": 315,
      "metadata": {},
      "outputs": [
        {
          "data": {
            "text/plain": [
              "Structure Summary\n",
              "Lattice\n",
              "    abc : 2.61436012 2.614359482682322 4.87316102\n",
              " angles : 90.0 90.0 119.99998275785532\n",
              " volume : 28.845108913918352\n",
              "      A : 2.61436012 0.0 0.0\n",
              "      B : -1.30717906 2.26410212 0.0\n",
              "      C : 0.0 -0.0 4.87316102\n",
              "    pbc : True True True\n",
              "PeriodicSite: Zn (-0.0000, 1.5094, 1.2183) [0.3333, 0.6667, 0.2500]\n",
              "PeriodicSite: Zn (1.3072, 0.7547, 3.6549) [0.6667, 0.3333, 0.7500]"
            ]
          },
          "execution_count": 315,
          "metadata": {},
          "output_type": "execute_result"
        }
      ],
      "source": [
        "mpr.get_structures\n",
        "structure"
      ]
    },
    {
      "cell_type": "code",
      "execution_count": 12,
      "metadata": {},
      "outputs": [
        {
          "ename": "MPRestError",
          "evalue": "HTTPSConnectionPool(host='api.materialsproject.org', port=443): Max retries exceeded with url: /materials/?deprecated=False&_fields=structure&formula=Zn&_limit=1000 (Caused by NewConnectionError('<urllib3.connection.HTTPSConnection object at 0x000001F2DCF972B0>: Failed to establish a new connection: [Errno 11001] getaddrinfo failed'))",
          "output_type": "error",
          "traceback": [
            "\u001b[1;31m---------------------------------------------------------------------------\u001b[0m",
            "\u001b[1;31mgaierror\u001b[0m                                  Traceback (most recent call last)",
            "File \u001b[1;32mc:\\Users\\HP\\AppData\\Local\\Programs\\Python\\Python310\\lib\\site-packages\\urllib3\\connection.py:174\u001b[0m, in \u001b[0;36mHTTPConnection._new_conn\u001b[1;34m(self)\u001b[0m\n\u001b[0;32m    173\u001b[0m \u001b[39mtry\u001b[39;00m:\n\u001b[1;32m--> 174\u001b[0m     conn \u001b[39m=\u001b[39m connection\u001b[39m.\u001b[39mcreate_connection(\n\u001b[0;32m    175\u001b[0m         (\u001b[39mself\u001b[39m\u001b[39m.\u001b[39m_dns_host, \u001b[39mself\u001b[39m\u001b[39m.\u001b[39mport), \u001b[39mself\u001b[39m\u001b[39m.\u001b[39mtimeout, \u001b[39m*\u001b[39m\u001b[39m*\u001b[39mextra_kw\n\u001b[0;32m    176\u001b[0m     )\n\u001b[0;32m    178\u001b[0m \u001b[39mexcept\u001b[39;00m SocketTimeout:\n",
            "File \u001b[1;32mc:\\Users\\HP\\AppData\\Local\\Programs\\Python\\Python310\\lib\\site-packages\\urllib3\\util\\connection.py:72\u001b[0m, in \u001b[0;36mcreate_connection\u001b[1;34m(address, timeout, source_address, socket_options)\u001b[0m\n\u001b[0;32m     68\u001b[0m     \u001b[39mreturn\u001b[39;00m six\u001b[39m.\u001b[39mraise_from(\n\u001b[0;32m     69\u001b[0m         LocationParseError(\u001b[39mu\u001b[39m\u001b[39m\"\u001b[39m\u001b[39m'\u001b[39m\u001b[39m%s\u001b[39;00m\u001b[39m'\u001b[39m\u001b[39m, label empty or too long\u001b[39m\u001b[39m\"\u001b[39m \u001b[39m%\u001b[39m host), \u001b[39mNone\u001b[39;00m\n\u001b[0;32m     70\u001b[0m     )\n\u001b[1;32m---> 72\u001b[0m \u001b[39mfor\u001b[39;00m res \u001b[39min\u001b[39;00m socket\u001b[39m.\u001b[39;49mgetaddrinfo(host, port, family, socket\u001b[39m.\u001b[39;49mSOCK_STREAM):\n\u001b[0;32m     73\u001b[0m     af, socktype, proto, canonname, sa \u001b[39m=\u001b[39m res\n",
            "File \u001b[1;32mc:\\Users\\HP\\AppData\\Local\\Programs\\Python\\Python310\\lib\\socket.py:955\u001b[0m, in \u001b[0;36mgetaddrinfo\u001b[1;34m(host, port, family, type, proto, flags)\u001b[0m\n\u001b[0;32m    954\u001b[0m addrlist \u001b[39m=\u001b[39m []\n\u001b[1;32m--> 955\u001b[0m \u001b[39mfor\u001b[39;00m res \u001b[39min\u001b[39;00m _socket\u001b[39m.\u001b[39;49mgetaddrinfo(host, port, family, \u001b[39mtype\u001b[39;49m, proto, flags):\n\u001b[0;32m    956\u001b[0m     af, socktype, proto, canonname, sa \u001b[39m=\u001b[39m res\n",
            "\u001b[1;31mgaierror\u001b[0m: [Errno 11001] getaddrinfo failed",
            "\nDuring handling of the above exception, another exception occurred:\n",
            "\u001b[1;31mNewConnectionError\u001b[0m                        Traceback (most recent call last)",
            "File \u001b[1;32mc:\\Users\\HP\\AppData\\Local\\Programs\\Python\\Python310\\lib\\site-packages\\urllib3\\connectionpool.py:703\u001b[0m, in \u001b[0;36mHTTPConnectionPool.urlopen\u001b[1;34m(self, method, url, body, headers, retries, redirect, assert_same_host, timeout, pool_timeout, release_conn, chunked, body_pos, **response_kw)\u001b[0m\n\u001b[0;32m    702\u001b[0m \u001b[39m# Make the request on the httplib connection object.\u001b[39;00m\n\u001b[1;32m--> 703\u001b[0m httplib_response \u001b[39m=\u001b[39m \u001b[39mself\u001b[39;49m\u001b[39m.\u001b[39;49m_make_request(\n\u001b[0;32m    704\u001b[0m     conn,\n\u001b[0;32m    705\u001b[0m     method,\n\u001b[0;32m    706\u001b[0m     url,\n\u001b[0;32m    707\u001b[0m     timeout\u001b[39m=\u001b[39;49mtimeout_obj,\n\u001b[0;32m    708\u001b[0m     body\u001b[39m=\u001b[39;49mbody,\n\u001b[0;32m    709\u001b[0m     headers\u001b[39m=\u001b[39;49mheaders,\n\u001b[0;32m    710\u001b[0m     chunked\u001b[39m=\u001b[39;49mchunked,\n\u001b[0;32m    711\u001b[0m )\n\u001b[0;32m    713\u001b[0m \u001b[39m# If we're going to release the connection in ``finally:``, then\u001b[39;00m\n\u001b[0;32m    714\u001b[0m \u001b[39m# the response doesn't need to know about the connection. Otherwise\u001b[39;00m\n\u001b[0;32m    715\u001b[0m \u001b[39m# it will also try to release it and we'll have a double-release\u001b[39;00m\n\u001b[0;32m    716\u001b[0m \u001b[39m# mess.\u001b[39;00m\n",
            "File \u001b[1;32mc:\\Users\\HP\\AppData\\Local\\Programs\\Python\\Python310\\lib\\site-packages\\urllib3\\connectionpool.py:386\u001b[0m, in \u001b[0;36mHTTPConnectionPool._make_request\u001b[1;34m(self, conn, method, url, timeout, chunked, **httplib_request_kw)\u001b[0m\n\u001b[0;32m    385\u001b[0m \u001b[39mtry\u001b[39;00m:\n\u001b[1;32m--> 386\u001b[0m     \u001b[39mself\u001b[39;49m\u001b[39m.\u001b[39;49m_validate_conn(conn)\n\u001b[0;32m    387\u001b[0m \u001b[39mexcept\u001b[39;00m (SocketTimeout, BaseSSLError) \u001b[39mas\u001b[39;00m e:\n\u001b[0;32m    388\u001b[0m     \u001b[39m# Py2 raises this as a BaseSSLError, Py3 raises it as socket timeout.\u001b[39;00m\n",
            "File \u001b[1;32mc:\\Users\\HP\\AppData\\Local\\Programs\\Python\\Python310\\lib\\site-packages\\urllib3\\connectionpool.py:1042\u001b[0m, in \u001b[0;36mHTTPSConnectionPool._validate_conn\u001b[1;34m(self, conn)\u001b[0m\n\u001b[0;32m   1041\u001b[0m \u001b[39mif\u001b[39;00m \u001b[39mnot\u001b[39;00m \u001b[39mgetattr\u001b[39m(conn, \u001b[39m\"\u001b[39m\u001b[39msock\u001b[39m\u001b[39m\"\u001b[39m, \u001b[39mNone\u001b[39;00m):  \u001b[39m# AppEngine might not have  `.sock`\u001b[39;00m\n\u001b[1;32m-> 1042\u001b[0m     conn\u001b[39m.\u001b[39;49mconnect()\n\u001b[0;32m   1044\u001b[0m \u001b[39mif\u001b[39;00m \u001b[39mnot\u001b[39;00m conn\u001b[39m.\u001b[39mis_verified:\n",
            "File \u001b[1;32mc:\\Users\\HP\\AppData\\Local\\Programs\\Python\\Python310\\lib\\site-packages\\urllib3\\connection.py:358\u001b[0m, in \u001b[0;36mHTTPSConnection.connect\u001b[1;34m(self)\u001b[0m\n\u001b[0;32m    356\u001b[0m \u001b[39mdef\u001b[39;00m \u001b[39mconnect\u001b[39m(\u001b[39mself\u001b[39m):\n\u001b[0;32m    357\u001b[0m     \u001b[39m# Add certificate verification\u001b[39;00m\n\u001b[1;32m--> 358\u001b[0m     \u001b[39mself\u001b[39m\u001b[39m.\u001b[39msock \u001b[39m=\u001b[39m conn \u001b[39m=\u001b[39m \u001b[39mself\u001b[39;49m\u001b[39m.\u001b[39;49m_new_conn()\n\u001b[0;32m    359\u001b[0m     hostname \u001b[39m=\u001b[39m \u001b[39mself\u001b[39m\u001b[39m.\u001b[39mhost\n",
            "File \u001b[1;32mc:\\Users\\HP\\AppData\\Local\\Programs\\Python\\Python310\\lib\\site-packages\\urllib3\\connection.py:186\u001b[0m, in \u001b[0;36mHTTPConnection._new_conn\u001b[1;34m(self)\u001b[0m\n\u001b[0;32m    185\u001b[0m \u001b[39mexcept\u001b[39;00m SocketError \u001b[39mas\u001b[39;00m e:\n\u001b[1;32m--> 186\u001b[0m     \u001b[39mraise\u001b[39;00m NewConnectionError(\n\u001b[0;32m    187\u001b[0m         \u001b[39mself\u001b[39m, \u001b[39m\"\u001b[39m\u001b[39mFailed to establish a new connection: \u001b[39m\u001b[39m%s\u001b[39;00m\u001b[39m\"\u001b[39m \u001b[39m%\u001b[39m e\n\u001b[0;32m    188\u001b[0m     )\n\u001b[0;32m    190\u001b[0m \u001b[39mreturn\u001b[39;00m conn\n",
            "\u001b[1;31mNewConnectionError\u001b[0m: <urllib3.connection.HTTPSConnection object at 0x000001F2DCF972B0>: Failed to establish a new connection: [Errno 11001] getaddrinfo failed",
            "\nDuring handling of the above exception, another exception occurred:\n",
            "\u001b[1;31mMaxRetryError\u001b[0m                             Traceback (most recent call last)",
            "File \u001b[1;32mc:\\Users\\HP\\AppData\\Local\\Programs\\Python\\Python310\\lib\\site-packages\\requests\\adapters.py:489\u001b[0m, in \u001b[0;36mHTTPAdapter.send\u001b[1;34m(self, request, stream, timeout, verify, cert, proxies)\u001b[0m\n\u001b[0;32m    488\u001b[0m \u001b[39mif\u001b[39;00m \u001b[39mnot\u001b[39;00m chunked:\n\u001b[1;32m--> 489\u001b[0m     resp \u001b[39m=\u001b[39m conn\u001b[39m.\u001b[39;49murlopen(\n\u001b[0;32m    490\u001b[0m         method\u001b[39m=\u001b[39;49mrequest\u001b[39m.\u001b[39;49mmethod,\n\u001b[0;32m    491\u001b[0m         url\u001b[39m=\u001b[39;49murl,\n\u001b[0;32m    492\u001b[0m         body\u001b[39m=\u001b[39;49mrequest\u001b[39m.\u001b[39;49mbody,\n\u001b[0;32m    493\u001b[0m         headers\u001b[39m=\u001b[39;49mrequest\u001b[39m.\u001b[39;49mheaders,\n\u001b[0;32m    494\u001b[0m         redirect\u001b[39m=\u001b[39;49m\u001b[39mFalse\u001b[39;49;00m,\n\u001b[0;32m    495\u001b[0m         assert_same_host\u001b[39m=\u001b[39;49m\u001b[39mFalse\u001b[39;49;00m,\n\u001b[0;32m    496\u001b[0m         preload_content\u001b[39m=\u001b[39;49m\u001b[39mFalse\u001b[39;49;00m,\n\u001b[0;32m    497\u001b[0m         decode_content\u001b[39m=\u001b[39;49m\u001b[39mFalse\u001b[39;49;00m,\n\u001b[0;32m    498\u001b[0m         retries\u001b[39m=\u001b[39;49m\u001b[39mself\u001b[39;49m\u001b[39m.\u001b[39;49mmax_retries,\n\u001b[0;32m    499\u001b[0m         timeout\u001b[39m=\u001b[39;49mtimeout,\n\u001b[0;32m    500\u001b[0m     )\n\u001b[0;32m    502\u001b[0m \u001b[39m# Send the request.\u001b[39;00m\n\u001b[0;32m    503\u001b[0m \u001b[39melse\u001b[39;00m:\n",
            "File \u001b[1;32mc:\\Users\\HP\\AppData\\Local\\Programs\\Python\\Python310\\lib\\site-packages\\urllib3\\connectionpool.py:815\u001b[0m, in \u001b[0;36mHTTPConnectionPool.urlopen\u001b[1;34m(self, method, url, body, headers, retries, redirect, assert_same_host, timeout, pool_timeout, release_conn, chunked, body_pos, **response_kw)\u001b[0m\n\u001b[0;32m    812\u001b[0m     log\u001b[39m.\u001b[39mwarning(\n\u001b[0;32m    813\u001b[0m         \u001b[39m\"\u001b[39m\u001b[39mRetrying (\u001b[39m\u001b[39m%r\u001b[39;00m\u001b[39m) after connection broken by \u001b[39m\u001b[39m'\u001b[39m\u001b[39m%r\u001b[39;00m\u001b[39m'\u001b[39m\u001b[39m: \u001b[39m\u001b[39m%s\u001b[39;00m\u001b[39m\"\u001b[39m, retries, err, url\n\u001b[0;32m    814\u001b[0m     )\n\u001b[1;32m--> 815\u001b[0m     \u001b[39mreturn\u001b[39;00m \u001b[39mself\u001b[39m\u001b[39m.\u001b[39murlopen(\n\u001b[0;32m    816\u001b[0m         method,\n\u001b[0;32m    817\u001b[0m         url,\n\u001b[0;32m    818\u001b[0m         body,\n\u001b[0;32m    819\u001b[0m         headers,\n\u001b[0;32m    820\u001b[0m         retries,\n\u001b[0;32m    821\u001b[0m         redirect,\n\u001b[0;32m    822\u001b[0m         assert_same_host,\n\u001b[0;32m    823\u001b[0m         timeout\u001b[39m=\u001b[39mtimeout,\n\u001b[0;32m    824\u001b[0m         pool_timeout\u001b[39m=\u001b[39mpool_timeout,\n\u001b[0;32m    825\u001b[0m         release_conn\u001b[39m=\u001b[39mrelease_conn,\n\u001b[0;32m    826\u001b[0m         chunked\u001b[39m=\u001b[39mchunked,\n\u001b[0;32m    827\u001b[0m         body_pos\u001b[39m=\u001b[39mbody_pos,\n\u001b[0;32m    828\u001b[0m         \u001b[39m*\u001b[39m\u001b[39m*\u001b[39mresponse_kw\n\u001b[0;32m    829\u001b[0m     )\n\u001b[0;32m    831\u001b[0m \u001b[39m# Handle redirect?\u001b[39;00m\n",
            "File \u001b[1;32mc:\\Users\\HP\\AppData\\Local\\Programs\\Python\\Python310\\lib\\site-packages\\urllib3\\connectionpool.py:815\u001b[0m, in \u001b[0;36mHTTPConnectionPool.urlopen\u001b[1;34m(self, method, url, body, headers, retries, redirect, assert_same_host, timeout, pool_timeout, release_conn, chunked, body_pos, **response_kw)\u001b[0m\n\u001b[0;32m    812\u001b[0m     log\u001b[39m.\u001b[39mwarning(\n\u001b[0;32m    813\u001b[0m         \u001b[39m\"\u001b[39m\u001b[39mRetrying (\u001b[39m\u001b[39m%r\u001b[39;00m\u001b[39m) after connection broken by \u001b[39m\u001b[39m'\u001b[39m\u001b[39m%r\u001b[39;00m\u001b[39m'\u001b[39m\u001b[39m: \u001b[39m\u001b[39m%s\u001b[39;00m\u001b[39m\"\u001b[39m, retries, err, url\n\u001b[0;32m    814\u001b[0m     )\n\u001b[1;32m--> 815\u001b[0m     \u001b[39mreturn\u001b[39;00m \u001b[39mself\u001b[39m\u001b[39m.\u001b[39murlopen(\n\u001b[0;32m    816\u001b[0m         method,\n\u001b[0;32m    817\u001b[0m         url,\n\u001b[0;32m    818\u001b[0m         body,\n\u001b[0;32m    819\u001b[0m         headers,\n\u001b[0;32m    820\u001b[0m         retries,\n\u001b[0;32m    821\u001b[0m         redirect,\n\u001b[0;32m    822\u001b[0m         assert_same_host,\n\u001b[0;32m    823\u001b[0m         timeout\u001b[39m=\u001b[39mtimeout,\n\u001b[0;32m    824\u001b[0m         pool_timeout\u001b[39m=\u001b[39mpool_timeout,\n\u001b[0;32m    825\u001b[0m         release_conn\u001b[39m=\u001b[39mrelease_conn,\n\u001b[0;32m    826\u001b[0m         chunked\u001b[39m=\u001b[39mchunked,\n\u001b[0;32m    827\u001b[0m         body_pos\u001b[39m=\u001b[39mbody_pos,\n\u001b[0;32m    828\u001b[0m         \u001b[39m*\u001b[39m\u001b[39m*\u001b[39mresponse_kw\n\u001b[0;32m    829\u001b[0m     )\n\u001b[0;32m    831\u001b[0m \u001b[39m# Handle redirect?\u001b[39;00m\n",
            "File \u001b[1;32mc:\\Users\\HP\\AppData\\Local\\Programs\\Python\\Python310\\lib\\site-packages\\urllib3\\connectionpool.py:815\u001b[0m, in \u001b[0;36mHTTPConnectionPool.urlopen\u001b[1;34m(self, method, url, body, headers, retries, redirect, assert_same_host, timeout, pool_timeout, release_conn, chunked, body_pos, **response_kw)\u001b[0m\n\u001b[0;32m    812\u001b[0m     log\u001b[39m.\u001b[39mwarning(\n\u001b[0;32m    813\u001b[0m         \u001b[39m\"\u001b[39m\u001b[39mRetrying (\u001b[39m\u001b[39m%r\u001b[39;00m\u001b[39m) after connection broken by \u001b[39m\u001b[39m'\u001b[39m\u001b[39m%r\u001b[39;00m\u001b[39m'\u001b[39m\u001b[39m: \u001b[39m\u001b[39m%s\u001b[39;00m\u001b[39m\"\u001b[39m, retries, err, url\n\u001b[0;32m    814\u001b[0m     )\n\u001b[1;32m--> 815\u001b[0m     \u001b[39mreturn\u001b[39;00m \u001b[39mself\u001b[39m\u001b[39m.\u001b[39murlopen(\n\u001b[0;32m    816\u001b[0m         method,\n\u001b[0;32m    817\u001b[0m         url,\n\u001b[0;32m    818\u001b[0m         body,\n\u001b[0;32m    819\u001b[0m         headers,\n\u001b[0;32m    820\u001b[0m         retries,\n\u001b[0;32m    821\u001b[0m         redirect,\n\u001b[0;32m    822\u001b[0m         assert_same_host,\n\u001b[0;32m    823\u001b[0m         timeout\u001b[39m=\u001b[39mtimeout,\n\u001b[0;32m    824\u001b[0m         pool_timeout\u001b[39m=\u001b[39mpool_timeout,\n\u001b[0;32m    825\u001b[0m         release_conn\u001b[39m=\u001b[39mrelease_conn,\n\u001b[0;32m    826\u001b[0m         chunked\u001b[39m=\u001b[39mchunked,\n\u001b[0;32m    827\u001b[0m         body_pos\u001b[39m=\u001b[39mbody_pos,\n\u001b[0;32m    828\u001b[0m         \u001b[39m*\u001b[39m\u001b[39m*\u001b[39mresponse_kw\n\u001b[0;32m    829\u001b[0m     )\n\u001b[0;32m    831\u001b[0m \u001b[39m# Handle redirect?\u001b[39;00m\n",
            "File \u001b[1;32mc:\\Users\\HP\\AppData\\Local\\Programs\\Python\\Python310\\lib\\site-packages\\urllib3\\connectionpool.py:787\u001b[0m, in \u001b[0;36mHTTPConnectionPool.urlopen\u001b[1;34m(self, method, url, body, headers, retries, redirect, assert_same_host, timeout, pool_timeout, release_conn, chunked, body_pos, **response_kw)\u001b[0m\n\u001b[0;32m    785\u001b[0m     e \u001b[39m=\u001b[39m ProtocolError(\u001b[39m\"\u001b[39m\u001b[39mConnection aborted.\u001b[39m\u001b[39m\"\u001b[39m, e)\n\u001b[1;32m--> 787\u001b[0m retries \u001b[39m=\u001b[39m retries\u001b[39m.\u001b[39;49mincrement(\n\u001b[0;32m    788\u001b[0m     method, url, error\u001b[39m=\u001b[39;49me, _pool\u001b[39m=\u001b[39;49m\u001b[39mself\u001b[39;49m, _stacktrace\u001b[39m=\u001b[39;49msys\u001b[39m.\u001b[39;49mexc_info()[\u001b[39m2\u001b[39;49m]\n\u001b[0;32m    789\u001b[0m )\n\u001b[0;32m    790\u001b[0m retries\u001b[39m.\u001b[39msleep()\n",
            "File \u001b[1;32mc:\\Users\\HP\\AppData\\Local\\Programs\\Python\\Python310\\lib\\site-packages\\urllib3\\util\\retry.py:592\u001b[0m, in \u001b[0;36mRetry.increment\u001b[1;34m(self, method, url, response, error, _pool, _stacktrace)\u001b[0m\n\u001b[0;32m    591\u001b[0m \u001b[39mif\u001b[39;00m new_retry\u001b[39m.\u001b[39mis_exhausted():\n\u001b[1;32m--> 592\u001b[0m     \u001b[39mraise\u001b[39;00m MaxRetryError(_pool, url, error \u001b[39mor\u001b[39;00m ResponseError(cause))\n\u001b[0;32m    594\u001b[0m log\u001b[39m.\u001b[39mdebug(\u001b[39m\"\u001b[39m\u001b[39mIncremented Retry for (url=\u001b[39m\u001b[39m'\u001b[39m\u001b[39m%s\u001b[39;00m\u001b[39m'\u001b[39m\u001b[39m): \u001b[39m\u001b[39m%r\u001b[39;00m\u001b[39m\"\u001b[39m, url, new_retry)\n",
            "\u001b[1;31mMaxRetryError\u001b[0m: HTTPSConnectionPool(host='api.materialsproject.org', port=443): Max retries exceeded with url: /materials/?deprecated=False&_fields=structure&formula=Zn&_limit=1000 (Caused by NewConnectionError('<urllib3.connection.HTTPSConnection object at 0x000001F2DCF972B0>: Failed to establish a new connection: [Errno 11001] getaddrinfo failed'))",
            "\nDuring handling of the above exception, another exception occurred:\n",
            "\u001b[1;31mConnectionError\u001b[0m                           Traceback (most recent call last)",
            "File \u001b[1;32mc:\\Users\\HP\\AppData\\Local\\Programs\\Python\\Python310\\lib\\site-packages\\mp_api\\client\\core\\client.py:297\u001b[0m, in \u001b[0;36mBaseRester._query_resource\u001b[1;34m(self, criteria, fields, suburl, use_document_model, parallel_param, num_chunks, chunk_size, timeout)\u001b[0m\n\u001b[0;32m    295\u001b[0m         url \u001b[39m+\u001b[39m\u001b[39m=\u001b[39m \u001b[39m\"\u001b[39m\u001b[39m/\u001b[39m\u001b[39m\"\u001b[39m\n\u001b[1;32m--> 297\u001b[0m data \u001b[39m=\u001b[39m \u001b[39mself\u001b[39;49m\u001b[39m.\u001b[39;49m_submit_requests(\n\u001b[0;32m    298\u001b[0m     url\u001b[39m=\u001b[39;49murl,\n\u001b[0;32m    299\u001b[0m     criteria\u001b[39m=\u001b[39;49mcriteria,\n\u001b[0;32m    300\u001b[0m     use_document_model\u001b[39m=\u001b[39;49muse_document_model,\n\u001b[0;32m    301\u001b[0m     parallel_param\u001b[39m=\u001b[39;49mparallel_param,\n\u001b[0;32m    302\u001b[0m     num_chunks\u001b[39m=\u001b[39;49mnum_chunks,\n\u001b[0;32m    303\u001b[0m     chunk_size\u001b[39m=\u001b[39;49mchunk_size,\n\u001b[0;32m    304\u001b[0m     timeout\u001b[39m=\u001b[39;49mtimeout,\n\u001b[0;32m    305\u001b[0m )\n\u001b[0;32m    307\u001b[0m \u001b[39mreturn\u001b[39;00m data\n",
            "File \u001b[1;32mc:\\Users\\HP\\AppData\\Local\\Programs\\Python\\Python310\\lib\\site-packages\\mp_api\\client\\core\\client.py:431\u001b[0m, in \u001b[0;36mBaseRester._submit_requests\u001b[1;34m(self, url, criteria, use_document_model, parallel_param, num_chunks, chunk_size, timeout)\u001b[0m\n\u001b[0;32m    429\u001b[0m initial_params_list \u001b[39m=\u001b[39m [{\u001b[39m\"\u001b[39m\u001b[39murl\u001b[39m\u001b[39m\"\u001b[39m: url, \u001b[39m\"\u001b[39m\u001b[39mverify\u001b[39m\u001b[39m\"\u001b[39m: \u001b[39mTrue\u001b[39;00m, \u001b[39m\"\u001b[39m\u001b[39mparams\u001b[39m\u001b[39m\"\u001b[39m: copy(crit)} \u001b[39mfor\u001b[39;00m crit \u001b[39min\u001b[39;00m new_criteria]\n\u001b[1;32m--> 431\u001b[0m initial_data_tuples \u001b[39m=\u001b[39m \u001b[39mself\u001b[39;49m\u001b[39m.\u001b[39;49m_multi_thread(use_document_model, initial_params_list)\n\u001b[0;32m    433\u001b[0m \u001b[39mfor\u001b[39;00m data, subtotal, crit_ind \u001b[39min\u001b[39;00m initial_data_tuples:\n",
            "File \u001b[1;32mc:\\Users\\HP\\AppData\\Local\\Programs\\Python\\Python310\\lib\\site-packages\\mp_api\\client\\core\\client.py:636\u001b[0m, in \u001b[0;36mBaseRester._multi_thread\u001b[1;34m(self, use_document_model, params_list, progress_bar, timeout)\u001b[0m\n\u001b[0;32m    634\u001b[0m \u001b[39mfor\u001b[39;00m future \u001b[39min\u001b[39;00m finished:\n\u001b[1;32m--> 636\u001b[0m     data, subtotal \u001b[39m=\u001b[39m future\u001b[39m.\u001b[39;49mresult()\n\u001b[0;32m    638\u001b[0m     \u001b[39mif\u001b[39;00m progress_bar \u001b[39mis\u001b[39;00m \u001b[39mnot\u001b[39;00m \u001b[39mNone\u001b[39;00m:\n",
            "File \u001b[1;32mc:\\Users\\HP\\AppData\\Local\\Programs\\Python\\Python310\\lib\\concurrent\\futures\\_base.py:451\u001b[0m, in \u001b[0;36mFuture.result\u001b[1;34m(self, timeout)\u001b[0m\n\u001b[0;32m    450\u001b[0m \u001b[39melif\u001b[39;00m \u001b[39mself\u001b[39m\u001b[39m.\u001b[39m_state \u001b[39m==\u001b[39m FINISHED:\n\u001b[1;32m--> 451\u001b[0m     \u001b[39mreturn\u001b[39;00m \u001b[39mself\u001b[39;49m\u001b[39m.\u001b[39;49m__get_result()\n\u001b[0;32m    453\u001b[0m \u001b[39mself\u001b[39m\u001b[39m.\u001b[39m_condition\u001b[39m.\u001b[39mwait(timeout)\n",
            "File \u001b[1;32mc:\\Users\\HP\\AppData\\Local\\Programs\\Python\\Python310\\lib\\concurrent\\futures\\_base.py:403\u001b[0m, in \u001b[0;36mFuture.__get_result\u001b[1;34m(self)\u001b[0m\n\u001b[0;32m    402\u001b[0m \u001b[39mtry\u001b[39;00m:\n\u001b[1;32m--> 403\u001b[0m     \u001b[39mraise\u001b[39;00m \u001b[39mself\u001b[39m\u001b[39m.\u001b[39m_exception\n\u001b[0;32m    404\u001b[0m \u001b[39mfinally\u001b[39;00m:\n\u001b[0;32m    405\u001b[0m     \u001b[39m# Break a reference cycle with the exception in self._exception\u001b[39;00m\n",
            "File \u001b[1;32mc:\\Users\\HP\\AppData\\Local\\Programs\\Python\\Python310\\lib\\concurrent\\futures\\thread.py:58\u001b[0m, in \u001b[0;36m_WorkItem.run\u001b[1;34m(self)\u001b[0m\n\u001b[0;32m     57\u001b[0m \u001b[39mtry\u001b[39;00m:\n\u001b[1;32m---> 58\u001b[0m     result \u001b[39m=\u001b[39m \u001b[39mself\u001b[39m\u001b[39m.\u001b[39mfn(\u001b[39m*\u001b[39m\u001b[39mself\u001b[39m\u001b[39m.\u001b[39margs, \u001b[39m*\u001b[39m\u001b[39m*\u001b[39m\u001b[39mself\u001b[39m\u001b[39m.\u001b[39mkwargs)\n\u001b[0;32m     59\u001b[0m \u001b[39mexcept\u001b[39;00m \u001b[39mBaseException\u001b[39;00m \u001b[39mas\u001b[39;00m exc:\n",
            "File \u001b[1;32mc:\\Users\\HP\\AppData\\Local\\Programs\\Python\\Python310\\lib\\site-packages\\mp_api\\client\\core\\client.py:680\u001b[0m, in \u001b[0;36mBaseRester._submit_request_and_process\u001b[1;34m(self, url, verify, params, use_document_model, timeout)\u001b[0m\n\u001b[0;32m    679\u001b[0m \u001b[39mtry\u001b[39;00m:\n\u001b[1;32m--> 680\u001b[0m     response \u001b[39m=\u001b[39m \u001b[39mself\u001b[39;49m\u001b[39m.\u001b[39;49msession\u001b[39m.\u001b[39;49mget(url\u001b[39m=\u001b[39;49murl, verify\u001b[39m=\u001b[39;49mverify, params\u001b[39m=\u001b[39;49mparams, timeout\u001b[39m=\u001b[39;49mtimeout, headers\u001b[39m=\u001b[39;49m\u001b[39mself\u001b[39;49m\u001b[39m.\u001b[39;49mheaders)\n\u001b[0;32m    681\u001b[0m \u001b[39mexcept\u001b[39;00m requests\u001b[39m.\u001b[39mexceptions\u001b[39m.\u001b[39mConnectTimeout:\n",
            "File \u001b[1;32mc:\\Users\\HP\\AppData\\Local\\Programs\\Python\\Python310\\lib\\site-packages\\requests\\sessions.py:600\u001b[0m, in \u001b[0;36mSession.get\u001b[1;34m(self, url, **kwargs)\u001b[0m\n\u001b[0;32m    599\u001b[0m kwargs\u001b[39m.\u001b[39msetdefault(\u001b[39m\"\u001b[39m\u001b[39mallow_redirects\u001b[39m\u001b[39m\"\u001b[39m, \u001b[39mTrue\u001b[39;00m)\n\u001b[1;32m--> 600\u001b[0m \u001b[39mreturn\u001b[39;00m \u001b[39mself\u001b[39m\u001b[39m.\u001b[39mrequest(\u001b[39m\"\u001b[39m\u001b[39mGET\u001b[39m\u001b[39m\"\u001b[39m, url, \u001b[39m*\u001b[39m\u001b[39m*\u001b[39mkwargs)\n",
            "File \u001b[1;32mc:\\Users\\HP\\AppData\\Local\\Programs\\Python\\Python310\\lib\\site-packages\\requests\\sessions.py:587\u001b[0m, in \u001b[0;36mSession.request\u001b[1;34m(self, method, url, params, data, headers, cookies, files, auth, timeout, allow_redirects, proxies, hooks, stream, verify, cert, json)\u001b[0m\n\u001b[0;32m    586\u001b[0m send_kwargs\u001b[39m.\u001b[39mupdate(settings)\n\u001b[1;32m--> 587\u001b[0m resp \u001b[39m=\u001b[39m \u001b[39mself\u001b[39m\u001b[39m.\u001b[39msend(prep, \u001b[39m*\u001b[39m\u001b[39m*\u001b[39msend_kwargs)\n\u001b[0;32m    589\u001b[0m \u001b[39mreturn\u001b[39;00m resp\n",
            "File \u001b[1;32mc:\\Users\\HP\\AppData\\Local\\Programs\\Python\\Python310\\lib\\site-packages\\requests\\sessions.py:701\u001b[0m, in \u001b[0;36mSession.send\u001b[1;34m(self, request, **kwargs)\u001b[0m\n\u001b[0;32m    700\u001b[0m \u001b[39m# Send the request\u001b[39;00m\n\u001b[1;32m--> 701\u001b[0m r \u001b[39m=\u001b[39m adapter\u001b[39m.\u001b[39msend(request, \u001b[39m*\u001b[39m\u001b[39m*\u001b[39mkwargs)\n\u001b[0;32m    703\u001b[0m \u001b[39m# Total elapsed time of the request (approximately)\u001b[39;00m\n",
            "File \u001b[1;32mc:\\Users\\HP\\AppData\\Local\\Programs\\Python\\Python310\\lib\\site-packages\\requests\\adapters.py:565\u001b[0m, in \u001b[0;36mHTTPAdapter.send\u001b[1;34m(self, request, stream, timeout, verify, cert, proxies)\u001b[0m\n\u001b[0;32m    563\u001b[0m         \u001b[39mraise\u001b[39;00m SSLError(e, request\u001b[39m=\u001b[39mrequest)\n\u001b[1;32m--> 565\u001b[0m     \u001b[39mraise\u001b[39;00m \u001b[39mConnectionError\u001b[39;00m(e, request\u001b[39m=\u001b[39mrequest)\n\u001b[0;32m    567\u001b[0m \u001b[39mexcept\u001b[39;00m ClosedPoolError \u001b[39mas\u001b[39;00m e:\n",
            "\u001b[1;31mConnectionError\u001b[0m: HTTPSConnectionPool(host='api.materialsproject.org', port=443): Max retries exceeded with url: /materials/?deprecated=False&_fields=structure&formula=Zn&_limit=1000 (Caused by NewConnectionError('<urllib3.connection.HTTPSConnection object at 0x000001F2DCF972B0>: Failed to establish a new connection: [Errno 11001] getaddrinfo failed'))",
            "\nDuring handling of the above exception, another exception occurred:\n",
            "\u001b[1;31mMPRestError\u001b[0m                               Traceback (most recent call last)",
            "\u001b[1;32mc:\\Users\\HP\\Downloads\\zinc_data.ipynb Cell 45\u001b[0m in \u001b[0;36m1\n\u001b[1;32m----> <a href='vscode-notebook-cell:/c%3A/Users/HP/Downloads/zinc_data.ipynb#X62sZmlsZQ%3D%3D?line=0'>1</a>\u001b[0m mpr\u001b[39m.\u001b[39;49mget_structures(\u001b[39m'\u001b[39;49m\u001b[39mZn\u001b[39;49m\u001b[39m'\u001b[39;49m)\n",
            "File \u001b[1;32mc:\\Users\\HP\\AppData\\Local\\Programs\\Python\\Python310\\lib\\site-packages\\mp_api\\client\\mprester.py:391\u001b[0m, in \u001b[0;36mMPRester.get_structures\u001b[1;34m(self, chemsys_formula, final)\u001b[0m\n\u001b[0;32m    386\u001b[0m     input_params \u001b[39m=\u001b[39m {\u001b[39m\"\u001b[39m\u001b[39mformula\u001b[39m\u001b[39m\"\u001b[39m: chemsys_formula}\n\u001b[0;32m    388\u001b[0m \u001b[39mif\u001b[39;00m final:\n\u001b[0;32m    389\u001b[0m     \u001b[39mreturn\u001b[39;00m [\n\u001b[0;32m    390\u001b[0m         doc\u001b[39m.\u001b[39mstructure\n\u001b[1;32m--> 391\u001b[0m         \u001b[39mfor\u001b[39;00m doc \u001b[39min\u001b[39;00m \u001b[39mself\u001b[39m\u001b[39m.\u001b[39mmaterials\u001b[39m.\u001b[39msearch(\n\u001b[0;32m    392\u001b[0m             \u001b[39m*\u001b[39m\u001b[39m*\u001b[39minput_params,  \u001b[39m# type: ignore\u001b[39;00m\n\u001b[0;32m    393\u001b[0m             all_fields\u001b[39m=\u001b[39m\u001b[39mFalse\u001b[39;00m,\n\u001b[0;32m    394\u001b[0m             fields\u001b[39m=\u001b[39m[\u001b[39m\"\u001b[39m\u001b[39mstructure\u001b[39m\u001b[39m\"\u001b[39m],\n\u001b[0;32m    395\u001b[0m         )\n\u001b[0;32m    396\u001b[0m     ]\n\u001b[0;32m    397\u001b[0m \u001b[39melse\u001b[39;00m:\n\u001b[0;32m    398\u001b[0m     structures \u001b[39m=\u001b[39m []\n",
            "File \u001b[1;32mc:\\Users\\HP\\AppData\\Local\\Programs\\Python\\Python310\\lib\\site-packages\\mp_api\\client\\routes\\materials.py:179\u001b[0m, in \u001b[0;36mMaterialsRester.search\u001b[1;34m(self, material_ids, chemsys, crystal_system, density, deprecated, elements, exclude_elements, formula, num_elements, num_sites, spacegroup_number, spacegroup_symbol, task_ids, volume, sort_fields, num_chunks, chunk_size, all_fields, fields)\u001b[0m\n\u001b[0;32m    169\u001b[0m     query_params\u001b[39m.\u001b[39mupdate(\n\u001b[0;32m    170\u001b[0m         {\u001b[39m\"\u001b[39m\u001b[39m_sort_fields\u001b[39m\u001b[39m\"\u001b[39m: \u001b[39m\"\u001b[39m\u001b[39m,\u001b[39m\u001b[39m\"\u001b[39m\u001b[39m.\u001b[39mjoin([s\u001b[39m.\u001b[39mstrip() \u001b[39mfor\u001b[39;00m s \u001b[39min\u001b[39;00m sort_fields])}\n\u001b[0;32m    171\u001b[0m     )\n\u001b[0;32m    173\u001b[0m query_params \u001b[39m=\u001b[39m {\n\u001b[0;32m    174\u001b[0m     entry: query_params[entry]\n\u001b[0;32m    175\u001b[0m     \u001b[39mfor\u001b[39;00m entry \u001b[39min\u001b[39;00m query_params\n\u001b[0;32m    176\u001b[0m     \u001b[39mif\u001b[39;00m query_params[entry] \u001b[39mis\u001b[39;00m \u001b[39mnot\u001b[39;00m \u001b[39mNone\u001b[39;00m\n\u001b[0;32m    177\u001b[0m }\n\u001b[1;32m--> 179\u001b[0m \u001b[39mreturn\u001b[39;00m \u001b[39msuper\u001b[39m()\u001b[39m.\u001b[39m_search(\n\u001b[0;32m    180\u001b[0m     num_chunks\u001b[39m=\u001b[39mnum_chunks,\n\u001b[0;32m    181\u001b[0m     chunk_size\u001b[39m=\u001b[39mchunk_size,\n\u001b[0;32m    182\u001b[0m     all_fields\u001b[39m=\u001b[39mall_fields,\n\u001b[0;32m    183\u001b[0m     fields\u001b[39m=\u001b[39mfields,\n\u001b[0;32m    184\u001b[0m     \u001b[39m*\u001b[39m\u001b[39m*\u001b[39mquery_params\n\u001b[0;32m    185\u001b[0m )\n",
            "File \u001b[1;32mc:\\Users\\HP\\AppData\\Local\\Programs\\Python\\Python310\\lib\\site-packages\\mp_api\\client\\core\\client.py:911\u001b[0m, in \u001b[0;36mBaseRester._search\u001b[1;34m(self, num_chunks, chunk_size, all_fields, fields, **kwargs)\u001b[0m\n\u001b[0;32m    888\u001b[0m \u001b[39m\"\"\"\u001b[39;00m\n\u001b[0;32m    889\u001b[0m \u001b[39mA generic search method to retrieve documents matching specific parameters.\u001b[39;00m\n\u001b[0;32m    890\u001b[0m \n\u001b[1;32m   (...)\u001b[0m\n\u001b[0;32m    906\u001b[0m \u001b[39m    A list of documents.\u001b[39;00m\n\u001b[0;32m    907\u001b[0m \u001b[39m\"\"\"\u001b[39;00m\n\u001b[0;32m    908\u001b[0m \u001b[39m# This method should be customized for each end point to give more user friendly,\u001b[39;00m\n\u001b[0;32m    909\u001b[0m \u001b[39m# documented kwargs.\u001b[39;00m\n\u001b[1;32m--> 911\u001b[0m \u001b[39mreturn\u001b[39;00m \u001b[39mself\u001b[39;49m\u001b[39m.\u001b[39;49m_get_all_documents(\n\u001b[0;32m    912\u001b[0m     kwargs,\n\u001b[0;32m    913\u001b[0m     all_fields\u001b[39m=\u001b[39;49mall_fields,\n\u001b[0;32m    914\u001b[0m     fields\u001b[39m=\u001b[39;49mfields,\n\u001b[0;32m    915\u001b[0m     chunk_size\u001b[39m=\u001b[39;49mchunk_size,\n\u001b[0;32m    916\u001b[0m     num_chunks\u001b[39m=\u001b[39;49mnum_chunks,\n\u001b[0;32m    917\u001b[0m )\n",
            "File \u001b[1;32mc:\\Users\\HP\\AppData\\Local\\Programs\\Python\\Python310\\lib\\site-packages\\mp_api\\client\\core\\client.py:960\u001b[0m, in \u001b[0;36mBaseRester._get_all_documents\u001b[1;34m(self, query_params, all_fields, fields, chunk_size, num_chunks)\u001b[0m\n\u001b[0;32m    946\u001b[0m list_entries \u001b[39m=\u001b[39m \u001b[39msorted\u001b[39m(\n\u001b[0;32m    947\u001b[0m     (\n\u001b[0;32m    948\u001b[0m         (key, \u001b[39mlen\u001b[39m(entry\u001b[39m.\u001b[39msplit(\u001b[39m\"\u001b[39m\u001b[39m,\u001b[39m\u001b[39m\"\u001b[39m)))\n\u001b[1;32m   (...)\u001b[0m\n\u001b[0;32m    955\u001b[0m     reverse\u001b[39m=\u001b[39m\u001b[39mTrue\u001b[39;00m,\n\u001b[0;32m    956\u001b[0m )\n\u001b[0;32m    958\u001b[0m chosen_param \u001b[39m=\u001b[39m list_entries[\u001b[39m0\u001b[39m][\u001b[39m0\u001b[39m] \u001b[39mif\u001b[39;00m \u001b[39mlen\u001b[39m(list_entries) \u001b[39m>\u001b[39m \u001b[39m0\u001b[39m \u001b[39melse\u001b[39;00m \u001b[39mNone\u001b[39;00m\n\u001b[1;32m--> 960\u001b[0m results \u001b[39m=\u001b[39m \u001b[39mself\u001b[39;49m\u001b[39m.\u001b[39;49m_query_resource(\n\u001b[0;32m    961\u001b[0m     query_params,\n\u001b[0;32m    962\u001b[0m     fields\u001b[39m=\u001b[39;49mfields,\n\u001b[0;32m    963\u001b[0m     parallel_param\u001b[39m=\u001b[39;49mchosen_param,\n\u001b[0;32m    964\u001b[0m     chunk_size\u001b[39m=\u001b[39;49mchunk_size,\n\u001b[0;32m    965\u001b[0m     num_chunks\u001b[39m=\u001b[39;49mnum_chunks,\n\u001b[0;32m    966\u001b[0m )\n\u001b[0;32m    968\u001b[0m \u001b[39mreturn\u001b[39;00m results[\u001b[39m\"\u001b[39m\u001b[39mdata\u001b[39m\u001b[39m\"\u001b[39m]\n",
            "File \u001b[1;32mc:\\Users\\HP\\AppData\\Local\\Programs\\Python\\Python310\\lib\\site-packages\\mp_api\\client\\core\\client.py:311\u001b[0m, in \u001b[0;36mBaseRester._query_resource\u001b[1;34m(self, criteria, fields, suburl, use_document_model, parallel_param, num_chunks, chunk_size, timeout)\u001b[0m\n\u001b[0;32m    307\u001b[0m     \u001b[39mreturn\u001b[39;00m data\n\u001b[0;32m    309\u001b[0m \u001b[39mexcept\u001b[39;00m RequestException \u001b[39mas\u001b[39;00m ex:\n\u001b[1;32m--> 311\u001b[0m     \u001b[39mraise\u001b[39;00m MPRestError(\u001b[39mstr\u001b[39m(ex))\n",
            "\u001b[1;31mMPRestError\u001b[0m: HTTPSConnectionPool(host='api.materialsproject.org', port=443): Max retries exceeded with url: /materials/?deprecated=False&_fields=structure&formula=Zn&_limit=1000 (Caused by NewConnectionError('<urllib3.connection.HTTPSConnection object at 0x000001F2DCF972B0>: Failed to establish a new connection: [Errno 11001] getaddrinfo failed'))"
          ]
        }
      ],
      "source": [
        "mpr.get_structures('Zn')"
      ]
    },
    {
      "cell_type": "code",
      "execution_count": 2,
      "metadata": {},
      "outputs": [
        {
          "name": "stderr",
          "output_type": "stream",
          "text": [
            "WARNING: Retrying (Retry(total=4, connect=None, read=None, redirect=None, status=None)) after connection broken by 'NewConnectionError('<pip._vendor.urllib3.connection.HTTPSConnection object at 0x00000225D7D74B80>: Failed to establish a new connection: [Errno 11001] getaddrinfo failed')': /simple/crystal-toolkit/\n",
            "WARNING: Retrying (Retry(total=3, connect=None, read=None, redirect=None, status=None)) after connection broken by 'NewConnectionError('<pip._vendor.urllib3.connection.HTTPSConnection object at 0x00000225D7D74EB0>: Failed to establish a new connection: [Errno 11001] getaddrinfo failed')': /simple/crystal-toolkit/\n",
            "WARNING: Retrying (Retry(total=2, connect=None, read=None, redirect=None, status=None)) after connection broken by 'NewConnectionError('<pip._vendor.urllib3.connection.HTTPSConnection object at 0x00000225D7D751E0>: Failed to establish a new connection: [Errno 11001] getaddrinfo failed')': /simple/crystal-toolkit/\n",
            "WARNING: Retrying (Retry(total=1, connect=None, read=None, redirect=None, status=None)) after connection broken by 'NewConnectionError('<pip._vendor.urllib3.connection.HTTPSConnection object at 0x00000225D7D75390>: Failed to establish a new connection: [Errno 11001] getaddrinfo failed')': /simple/crystal-toolkit/\n",
            "WARNING: Retrying (Retry(total=0, connect=None, read=None, redirect=None, status=None)) after connection broken by 'NewConnectionError('<pip._vendor.urllib3.connection.HTTPSConnection object at 0x00000225D7D75540>: Failed to establish a new connection: [Errno 11001] getaddrinfo failed')': /simple/crystal-toolkit/\n",
            "ERROR: Could not find a version that satisfies the requirement crystal_toolkit (from versions: none)\n",
            "ERROR: No matching distribution found for crystal_toolkit\n"
          ]
        }
      ],
      "source": [
        "!pip install crystal_toolkit --user"
      ]
    },
    {
      "cell_type": "code",
      "execution_count": 1,
      "metadata": {},
      "outputs": [
        {
          "ename": "ModuleNotFoundError",
          "evalue": "No module named 'crystal_toolkit'",
          "output_type": "error",
          "traceback": [
            "\u001b[1;31m---------------------------------------------------------------------------\u001b[0m",
            "\u001b[1;31mModuleNotFoundError\u001b[0m                       Traceback (most recent call last)",
            "\u001b[1;32mc:\\Users\\HP\\Downloads\\zinc_data.ipynb Cell 47\u001b[0m in \u001b[0;36m1\n\u001b[1;32m----> <a href='vscode-notebook-cell:/c%3A/Users/HP/Downloads/zinc_data.ipynb#X64sZmlsZQ%3D%3D?line=0'>1</a>\u001b[0m \u001b[39mfrom\u001b[39;00m \u001b[39mcrystal_toolkit\u001b[39;00m \u001b[39mimport\u001b[39;00m view\n",
            "\u001b[1;31mModuleNotFoundError\u001b[0m: No module named 'crystal_toolkit'"
          ]
        }
      ],
      "source": [
        "from crystal_toolkit import view"
      ]
    },
    {
      "cell_type": "code",
      "execution_count": 7,
      "metadata": {},
      "outputs": [
        {
          "ename": "ImportError",
          "evalue": "cannot import name 'Lattice' from 'pymatgen' (unknown location)",
          "output_type": "error",
          "traceback": [
            "\u001b[1;31m---------------------------------------------------------------------------\u001b[0m",
            "\u001b[1;31mImportError\u001b[0m                               Traceback (most recent call last)",
            "\u001b[1;32mc:\\Users\\HP\\Downloads\\zinc_data.ipynb Cell 48\u001b[0m in \u001b[0;36m1\n\u001b[1;32m----> <a href='vscode-notebook-cell:/c%3A/Users/HP/Downloads/zinc_data.ipynb#X65sZmlsZQ%3D%3D?line=0'>1</a>\u001b[0m \u001b[39mfrom\u001b[39;00m \u001b[39mpymatgen\u001b[39;00m \u001b[39mimport\u001b[39;00m Lattice\n",
            "\u001b[1;31mImportError\u001b[0m: cannot import name 'Lattice' from 'pymatgen' (unknown location)"
          ]
        }
      ],
      "source": [
        "from pymatgen import Lattice"
      ]
    },
    {
      "cell_type": "code",
      "execution_count": 13,
      "metadata": {},
      "outputs": [
        {
          "ename": "NameError",
          "evalue": "name 'Lattice' is not defined",
          "output_type": "error",
          "traceback": [
            "\u001b[1;31m---------------------------------------------------------------------------\u001b[0m",
            "\u001b[1;31mNameError\u001b[0m                                 Traceback (most recent call last)",
            "\u001b[1;32mc:\\Users\\HP\\Downloads\\zinc_data.ipynb Cell 49\u001b[0m in \u001b[0;36m1\n\u001b[1;32m----> <a href='vscode-notebook-cell:/c%3A/Users/HP/Downloads/zinc_data.ipynb#X66sZmlsZQ%3D%3D?line=0'>1</a>\u001b[0m Lattice\u001b[39m.\u001b[39mfrom_parameters(\u001b[39m5\u001b[39m,\u001b[39m5\u001b[39m,\u001b[39m5\u001b[39m,\u001b[39m90\u001b[39m,\u001b[39m90\u001b[39m,\u001b[39m90\u001b[39m)\n",
            "\u001b[1;31mNameError\u001b[0m: name 'Lattice' is not defined"
          ]
        }
      ],
      "source": [
        "Lattice.from_parameters(5,5,5,90,90,90)"
      ]
    },
    {
      "cell_type": "code",
      "execution_count": 22,
      "metadata": {},
      "outputs": [],
      "source": [
        "from pymatgen.core import Lattice, Structure"
      ]
    },
    {
      "attachments": {},
      "cell_type": "markdown",
      "metadata": {},
      "source": [
        "We can create latttice"
      ]
    },
    {
      "cell_type": "code",
      "execution_count": 17,
      "metadata": {},
      "outputs": [],
      "source": [
        "Lattice_1=Lattice.from_parameters(5,5,5,90,90,90)"
      ]
    },
    {
      "cell_type": "code",
      "execution_count": 18,
      "metadata": {},
      "outputs": [
        {
          "data": {
            "text/plain": [
              "Lattice\n",
              "    abc : 5.0 5.0 5.0\n",
              " angles : 90.0 90.0 90.0\n",
              " volume : 125.0\n",
              "      A : 5.0 0.0 3.061616997868383e-16\n",
              "      B : 8.040613248383183e-16 5.0 3.061616997868383e-16\n",
              "      C : 0.0 0.0 5.0\n",
              "    pbc : True True True"
            ]
          },
          "execution_count": 18,
          "metadata": {},
          "output_type": "execute_result"
        }
      ],
      "source": [
        "Lattice_1"
      ]
    },
    {
      "cell_type": "code",
      "execution_count": 23,
      "metadata": {},
      "outputs": [],
      "source": [
        "bcc_fe=Structure(Lattice.cubic(2.64),['Fe','Fe'],[[0,0,0],[1,1,1]])"
      ]
    },
    {
      "cell_type": "code",
      "execution_count": 24,
      "metadata": {},
      "outputs": [
        {
          "data": {
            "text/plain": [
              "Structure Summary\n",
              "Lattice\n",
              "    abc : 2.64 2.64 2.64\n",
              " angles : 90.0 90.0 90.0\n",
              " volume : 18.399744000000002\n",
              "      A : 2.64 0.0 0.0\n",
              "      B : 0.0 2.64 0.0\n",
              "      C : 0.0 0.0 2.64\n",
              "    pbc : True True True\n",
              "PeriodicSite: Fe (0.0000, 0.0000, 0.0000) [0.0000, 0.0000, 0.0000]\n",
              "PeriodicSite: Fe (2.6400, 2.6400, 2.6400) [1.0000, 1.0000, 1.0000]"
            ]
          },
          "execution_count": 24,
          "metadata": {},
          "output_type": "execute_result"
        }
      ],
      "source": [
        "bcc_fe"
      ]
    },
    {
      "cell_type": "code",
      "execution_count": 25,
      "metadata": {},
      "outputs": [
        {
          "data": {
            "text/plain": [
              "18.399744000000002"
            ]
          },
          "execution_count": 25,
          "metadata": {},
          "output_type": "execute_result"
        }
      ],
      "source": [
        "bcc_fe.volume"
      ]
    },
    {
      "cell_type": "code",
      "execution_count": 26,
      "metadata": {},
      "outputs": [
        {
          "data": {
            "text/plain": [
              "(26, 26)"
            ]
          },
          "execution_count": 26,
          "metadata": {},
          "output_type": "execute_result"
        }
      ],
      "source": [
        "bcc_fe.atomic_numbers"
      ]
    },
    {
      "cell_type": "code",
      "execution_count": 27,
      "metadata": {},
      "outputs": [
        {
          "data": {
            "text/plain": [
              "Comp: Fe2"
            ]
          },
          "execution_count": 27,
          "metadata": {},
          "output_type": "execute_result"
        }
      ],
      "source": [
        "bcc_fe.composition"
      ]
    },
    {
      "cell_type": "code",
      "execution_count": 56,
      "metadata": {},
      "outputs": [
        {
          "data": {
            "text/plain": [
              "<bound method SiteCollection.add_oxidation_state_by_element of Structure Summary\n",
              "Lattice\n",
              "    abc : 2.64 2.64 2.64\n",
              " angles : 90.0 90.0 90.0\n",
              " volume : 18.399744000000002\n",
              "      A : 2.64 0.0 0.0\n",
              "      B : 0.0 2.64 0.0\n",
              "      C : 0.0 0.0 2.64\n",
              "    pbc : True True True\n",
              "PeriodicSite: Fe (0.0000, 0.0000, 0.0000) [0.0000, 0.0000, 0.0000]\n",
              "PeriodicSite: Fe (2.6400, 2.6400, 2.6400) [1.0000, 1.0000, 1.0000]>"
            ]
          },
          "execution_count": 56,
          "metadata": {},
          "output_type": "execute_result"
        }
      ],
      "source": [
        "bcc_fe.add_oxidation_state_by_element"
      ]
    },
    {
      "cell_type": "code",
      "execution_count": 71,
      "metadata": {},
      "outputs": [],
      "source": [
        "nacl1=Structure.from_spacegroup('Fm-3m',Lattice.cubic(5.6),['Na+','Cl-'],[[0,0,0],[0.5,0.5,0.5]])"
      ]
    },
    {
      "cell_type": "code",
      "execution_count": 72,
      "metadata": {},
      "outputs": [
        {
          "name": "stdout",
          "output_type": "stream",
          "text": [
            "Full Formula (Na4 Cl4)\n",
            "Reduced Formula: NaCl\n",
            "abc   :   5.600000   5.600000   5.600000\n",
            "angles:  90.000000  90.000000  90.000000\n",
            "pbc   :       True       True       True\n",
            "Sites (8)\n",
            "  #  SP      a    b    c\n",
            "---  ----  ---  ---  ---\n",
            "  0  Na+   0    0    0\n",
            "  1  Na+   0.5  0.5  0\n",
            "  2  Na+   0.5  0    0.5\n",
            "  3  Na+   0    0.5  0.5\n",
            "  4  Cl-   0.5  0.5  0.5\n",
            "  5  Cl-   0    0    0.5\n",
            "  6  Cl-   0    0.5  0\n",
            "  7  Cl-   0.5  0    0\n"
          ]
        }
      ],
      "source": [
        "print(nacl1)"
      ]
    },
    {
      "cell_type": "code",
      "execution_count": 52,
      "metadata": {},
      "outputs": [
        {
          "data": {
            "text/plain": [
              "('Fm-3m', 225)"
            ]
          },
          "execution_count": 52,
          "metadata": {},
          "output_type": "execute_result"
        }
      ],
      "source": [
        "nacl1.get_space_group_info()"
      ]
    },
    {
      "cell_type": "code",
      "execution_count": 57,
      "metadata": {},
      "outputs": [],
      "source": [
        "composition={'Cu':0.5,'Au':0.5}\n",
        "cu_au=Structure.from_spacegroup('Fm-3m',Lattice.cubic(4.677),[composition],[[0,0,0]])"
      ]
    },
    {
      "cell_type": "code",
      "execution_count": 58,
      "metadata": {},
      "outputs": [
        {
          "data": {
            "text/plain": [
              "Structure Summary\n",
              "Lattice\n",
              "    abc : 4.677 4.677 4.677\n",
              " angles : 90.0 90.0 90.0\n",
              " volume : 102.30623673299998\n",
              "      A : 4.677 0.0 0.0\n",
              "      B : 0.0 4.677 0.0\n",
              "      C : 0.0 0.0 4.677\n",
              "    pbc : True True True\n",
              "PeriodicSite: Cu:0.500, Au:0.500 (0.0000, 0.0000, 0.0000) [0.0000, 0.0000, 0.0000]\n",
              "PeriodicSite: Cu:0.500, Au:0.500 (2.3385, 2.3385, 0.0000) [0.5000, 0.5000, 0.0000]\n",
              "PeriodicSite: Cu:0.500, Au:0.500 (2.3385, 0.0000, 2.3385) [0.5000, 0.0000, 0.5000]\n",
              "PeriodicSite: Cu:0.500, Au:0.500 (0.0000, 2.3385, 2.3385) [0.0000, 0.5000, 0.5000]"
            ]
          },
          "execution_count": 58,
          "metadata": {},
          "output_type": "execute_result"
        }
      ],
      "source": [
        "cu_au"
      ]
    },
    {
      "cell_type": "code",
      "execution_count": 61,
      "metadata": {},
      "outputs": [
        {
          "data": {
            "text/plain": [
              "Structure Summary\n",
              "Lattice\n",
              "    abc : 11.2 11.2 11.2\n",
              " angles : 90.0 90.0 90.0\n",
              " volume : 1404.9279999999997\n",
              "      A : 11.2 0.0 0.0\n",
              "      B : 0.0 11.2 0.0\n",
              "      C : 0.0 0.0 11.2\n",
              "    pbc : True True True\n",
              "PeriodicSite: Na+ (0.0000, 0.0000, 0.0000) [0.0000, 0.0000, 0.0000]\n",
              "PeriodicSite: Na+ (0.0000, 0.0000, 5.6000) [0.0000, 0.0000, 0.5000]\n",
              "PeriodicSite: Na+ (0.0000, 5.6000, 0.0000) [0.0000, 0.5000, 0.0000]\n",
              "PeriodicSite: Na+ (0.0000, 5.6000, 5.6000) [0.0000, 0.5000, 0.5000]\n",
              "PeriodicSite: Na+ (5.6000, 0.0000, 0.0000) [0.5000, 0.0000, 0.0000]\n",
              "PeriodicSite: Na+ (5.6000, 0.0000, 5.6000) [0.5000, 0.0000, 0.5000]\n",
              "PeriodicSite: Na+ (5.6000, 5.6000, 0.0000) [0.5000, 0.5000, 0.0000]\n",
              "PeriodicSite: Na+ (5.6000, 5.6000, 5.6000) [0.5000, 0.5000, 0.5000]\n",
              "PeriodicSite: Na+ (2.8000, 2.8000, 0.0000) [0.2500, 0.2500, 0.0000]\n",
              "PeriodicSite: Na+ (2.8000, 2.8000, 5.6000) [0.2500, 0.2500, 0.5000]\n",
              "PeriodicSite: Na+ (2.8000, 8.4000, 0.0000) [0.2500, 0.7500, 0.0000]\n",
              "PeriodicSite: Na+ (2.8000, 8.4000, 5.6000) [0.2500, 0.7500, 0.5000]\n",
              "PeriodicSite: Na+ (8.4000, 2.8000, 0.0000) [0.7500, 0.2500, 0.0000]\n",
              "PeriodicSite: Na+ (8.4000, 2.8000, 5.6000) [0.7500, 0.2500, 0.5000]\n",
              "PeriodicSite: Na+ (8.4000, 8.4000, 0.0000) [0.7500, 0.7500, 0.0000]\n",
              "PeriodicSite: Na+ (8.4000, 8.4000, 5.6000) [0.7500, 0.7500, 0.5000]\n",
              "PeriodicSite: Na+ (2.8000, 0.0000, 2.8000) [0.2500, 0.0000, 0.2500]\n",
              "PeriodicSite: Na+ (2.8000, 0.0000, 8.4000) [0.2500, 0.0000, 0.7500]\n",
              "PeriodicSite: Na+ (2.8000, 5.6000, 2.8000) [0.2500, 0.5000, 0.2500]\n",
              "PeriodicSite: Na+ (2.8000, 5.6000, 8.4000) [0.2500, 0.5000, 0.7500]\n",
              "PeriodicSite: Na+ (8.4000, 0.0000, 2.8000) [0.7500, 0.0000, 0.2500]\n",
              "PeriodicSite: Na+ (8.4000, 0.0000, 8.4000) [0.7500, 0.0000, 0.7500]\n",
              "PeriodicSite: Na+ (8.4000, 5.6000, 2.8000) [0.7500, 0.5000, 0.2500]\n",
              "PeriodicSite: Na+ (8.4000, 5.6000, 8.4000) [0.7500, 0.5000, 0.7500]\n",
              "PeriodicSite: Na+ (0.0000, 2.8000, 2.8000) [0.0000, 0.2500, 0.2500]\n",
              "PeriodicSite: Na+ (0.0000, 2.8000, 8.4000) [0.0000, 0.2500, 0.7500]\n",
              "PeriodicSite: Na+ (0.0000, 8.4000, 2.8000) [0.0000, 0.7500, 0.2500]\n",
              "PeriodicSite: Na+ (0.0000, 8.4000, 8.4000) [0.0000, 0.7500, 0.7500]\n",
              "PeriodicSite: Na+ (5.6000, 2.8000, 2.8000) [0.5000, 0.2500, 0.2500]\n",
              "PeriodicSite: Na+ (5.6000, 2.8000, 8.4000) [0.5000, 0.2500, 0.7500]\n",
              "PeriodicSite: Na+ (5.6000, 8.4000, 2.8000) [0.5000, 0.7500, 0.2500]\n",
              "PeriodicSite: Na+ (5.6000, 8.4000, 8.4000) [0.5000, 0.7500, 0.7500]\n",
              "PeriodicSite: Cl- (2.8000, 2.8000, 2.8000) [0.2500, 0.2500, 0.2500]\n",
              "PeriodicSite: Cl- (2.8000, 2.8000, 8.4000) [0.2500, 0.2500, 0.7500]\n",
              "PeriodicSite: Cl- (2.8000, 8.4000, 2.8000) [0.2500, 0.7500, 0.2500]\n",
              "PeriodicSite: Cl- (2.8000, 8.4000, 8.4000) [0.2500, 0.7500, 0.7500]\n",
              "PeriodicSite: Cl- (8.4000, 2.8000, 2.8000) [0.7500, 0.2500, 0.2500]\n",
              "PeriodicSite: Cl- (8.4000, 2.8000, 8.4000) [0.7500, 0.2500, 0.7500]\n",
              "PeriodicSite: Cl- (8.4000, 8.4000, 2.8000) [0.7500, 0.7500, 0.2500]\n",
              "PeriodicSite: Cl- (8.4000, 8.4000, 8.4000) [0.7500, 0.7500, 0.7500]\n",
              "PeriodicSite: Cl- (0.0000, 0.0000, 2.8000) [0.0000, 0.0000, 0.2500]\n",
              "PeriodicSite: Cl- (0.0000, 0.0000, 8.4000) [0.0000, 0.0000, 0.7500]\n",
              "PeriodicSite: Cl- (0.0000, 5.6000, 2.8000) [0.0000, 0.5000, 0.2500]\n",
              "PeriodicSite: Cl- (0.0000, 5.6000, 8.4000) [0.0000, 0.5000, 0.7500]\n",
              "PeriodicSite: Cl- (5.6000, 0.0000, 2.8000) [0.5000, 0.0000, 0.2500]\n",
              "PeriodicSite: Cl- (5.6000, 0.0000, 8.4000) [0.5000, 0.0000, 0.7500]\n",
              "PeriodicSite: Cl- (5.6000, 5.6000, 2.8000) [0.5000, 0.5000, 0.2500]\n",
              "PeriodicSite: Cl- (5.6000, 5.6000, 8.4000) [0.5000, 0.5000, 0.7500]\n",
              "PeriodicSite: Cl- (0.0000, 2.8000, 0.0000) [0.0000, 0.2500, 0.0000]\n",
              "PeriodicSite: Cl- (0.0000, 2.8000, 5.6000) [0.0000, 0.2500, 0.5000]\n",
              "PeriodicSite: Cl- (0.0000, 8.4000, 0.0000) [0.0000, 0.7500, 0.0000]\n",
              "PeriodicSite: Cl- (0.0000, 8.4000, 5.6000) [0.0000, 0.7500, 0.5000]\n",
              "PeriodicSite: Cl- (5.6000, 2.8000, 0.0000) [0.5000, 0.2500, 0.0000]\n",
              "PeriodicSite: Cl- (5.6000, 2.8000, 5.6000) [0.5000, 0.2500, 0.5000]\n",
              "PeriodicSite: Cl- (5.6000, 8.4000, 0.0000) [0.5000, 0.7500, 0.0000]\n",
              "PeriodicSite: Cl- (5.6000, 8.4000, 5.6000) [0.5000, 0.7500, 0.5000]\n",
              "PeriodicSite: Cl- (2.8000, 0.0000, 0.0000) [0.2500, 0.0000, 0.0000]\n",
              "PeriodicSite: Cl- (2.8000, 0.0000, 5.6000) [0.2500, 0.0000, 0.5000]\n",
              "PeriodicSite: Cl- (2.8000, 5.6000, 0.0000) [0.2500, 0.5000, 0.0000]\n",
              "PeriodicSite: Cl- (2.8000, 5.6000, 5.6000) [0.2500, 0.5000, 0.5000]\n",
              "PeriodicSite: Cl- (8.4000, 0.0000, 0.0000) [0.7500, 0.0000, 0.0000]\n",
              "PeriodicSite: Cl- (8.4000, 0.0000, 5.6000) [0.7500, 0.0000, 0.5000]\n",
              "PeriodicSite: Cl- (8.4000, 5.6000, 0.0000) [0.7500, 0.5000, 0.0000]\n",
              "PeriodicSite: Cl- (8.4000, 5.6000, 5.6000) [0.7500, 0.5000, 0.5000]"
            ]
          },
          "execution_count": 61,
          "metadata": {},
          "output_type": "execute_result"
        }
      ],
      "source": [
        "nacl1_repeated=nacl1*(2,2,2)\n",
        "nacl1_repeated"
      ]
    },
    {
      "cell_type": "code",
      "execution_count": 65,
      "metadata": {},
      "outputs": [
        {
          "data": {
            "text/plain": [
              "0.125"
            ]
          },
          "execution_count": 65,
          "metadata": {},
          "output_type": "execute_result"
        }
      ],
      "source": [
        "nacl1.volume/ nacl1_repeated.volume"
      ]
    },
    {
      "cell_type": "code",
      "execution_count": 66,
      "metadata": {},
      "outputs": [],
      "source": [
        "nacl1.replace(0,'I')"
      ]
    },
    {
      "attachments": {},
      "cell_type": "markdown",
      "metadata": {},
      "source": [
        "replace the Na site with 'I' element at position 0"
      ]
    },
    {
      "cell_type": "code",
      "execution_count": 67,
      "metadata": {},
      "outputs": [
        {
          "data": {
            "text/plain": [
              "Structure Summary\n",
              "Lattice\n",
              "    abc : 5.6 5.6 5.6\n",
              " angles : 90.0 90.0 90.0\n",
              " volume : 175.61599999999996\n",
              "      A : 5.6 0.0 0.0\n",
              "      B : 0.0 5.6 0.0\n",
              "      C : 0.0 0.0 5.6\n",
              "    pbc : True True True\n",
              "PeriodicSite: I (0.0000, 0.0000, 0.0000) [0.0000, 0.0000, 0.0000]\n",
              "PeriodicSite: Na+ (2.8000, 2.8000, 0.0000) [0.5000, 0.5000, 0.0000]\n",
              "PeriodicSite: Na+ (2.8000, 0.0000, 2.8000) [0.5000, 0.0000, 0.5000]\n",
              "PeriodicSite: Na+ (0.0000, 2.8000, 2.8000) [0.0000, 0.5000, 0.5000]\n",
              "PeriodicSite: Cl- (2.8000, 2.8000, 2.8000) [0.5000, 0.5000, 0.5000]\n",
              "PeriodicSite: Cl- (0.0000, 0.0000, 2.8000) [0.0000, 0.0000, 0.5000]\n",
              "PeriodicSite: Cl- (0.0000, 2.8000, 0.0000) [0.0000, 0.5000, 0.0000]\n",
              "PeriodicSite: Cl- (2.8000, 0.0000, 0.0000) [0.5000, 0.0000, 0.0000]"
            ]
          },
          "execution_count": 67,
          "metadata": {},
          "output_type": "execute_result"
        }
      ],
      "source": [
        "nacl1"
      ]
    },
    {
      "cell_type": "code",
      "execution_count": 69,
      "metadata": {},
      "outputs": [
        {
          "data": {
            "text/plain": [
              "Structure Summary\n",
              "Lattice\n",
              "    abc : 5.6 5.6 5.6\n",
              " angles : 90.0 90.0 90.0\n",
              " volume : 175.61599999999996\n",
              "      A : 5.6 0.0 0.0\n",
              "      B : 0.0 5.6 0.0\n",
              "      C : 0.0 0.0 5.6\n",
              "    pbc : True True True\n",
              "PeriodicSite: I (0.0000, 1.1200, 0.0000) [0.0000, 0.2000, 0.0000]\n",
              "PeriodicSite: Na+ (2.8000, 2.8000, 0.0000) [0.5000, 0.5000, 0.0000]\n",
              "PeriodicSite: Na+ (2.8000, 0.0000, 2.8000) [0.5000, 0.0000, 0.5000]\n",
              "PeriodicSite: Na+ (0.0000, 2.8000, 2.8000) [0.0000, 0.5000, 0.5000]\n",
              "PeriodicSite: Cl- (2.8000, 2.8000, 2.8000) [0.5000, 0.5000, 0.5000]\n",
              "PeriodicSite: Cl- (0.0000, 0.0000, 2.8000) [0.0000, 0.0000, 0.5000]\n",
              "PeriodicSite: Cl- (0.0000, 2.8000, 0.0000) [0.0000, 0.5000, 0.0000]\n",
              "PeriodicSite: Cl- (2.8000, 0.0000, 0.0000) [0.5000, 0.0000, 0.0000]"
            ]
          },
          "execution_count": 69,
          "metadata": {},
          "output_type": "execute_result"
        }
      ],
      "source": [
        "nacl1.translate_sites([0],[0,0.1,0])\n",
        "nacl1"
      ]
    },
    {
      "attachments": {},
      "cell_type": "markdown",
      "metadata": {},
      "source": [
        "above info we can see we alter the position of I in the sructure"
      ]
    },
    {
      "cell_type": "code",
      "execution_count": 70,
      "metadata": {},
      "outputs": [
        {
          "name": "stdout",
          "output_type": "stream",
          "text": [
            "Full Formula (Na3 I1 Cl4)\n",
            "Reduced Formula: Na3ICl4\n",
            "abc   :   5.600000   5.600000   5.600000\n",
            "angles:  90.000000  90.000000  90.000000\n",
            "pbc   :       True       True       True\n",
            "Sites (8)\n",
            "  #  SP      a    b    c\n",
            "---  ----  ---  ---  ---\n",
            "  0  I     0    0.2  0\n",
            "  1  Na+   0.5  0.5  0\n",
            "  2  Na+   0.5  0    0.5\n",
            "  3  Na+   0    0.5  0.5\n",
            "  4  Cl-   0.5  0.5  0.5\n",
            "  5  Cl-   0    0    0.5\n",
            "  6  Cl-   0    0.5  0\n",
            "  7  Cl-   0.5  0    0\n"
          ]
        }
      ],
      "source": [
        "print(nacl1)"
      ]
    },
    {
      "cell_type": "code",
      "execution_count": 76,
      "metadata": {},
      "outputs": [],
      "source": [
        "import pymatgen as pmg"
      ]
    },
    {
      "cell_type": "code",
      "execution_count": 89,
      "metadata": {},
      "outputs": [
        {
          "data": {
            "text/plain": [
              "<function pymatgen.vis.structure_vtk.StructureVis.show(self)>"
            ]
          },
          "execution_count": 89,
          "metadata": {},
          "output_type": "execute_result"
        }
      ],
      "source": [
        "pmg.vis.structure_vtk.v"
      ]
    },
    {
      "cell_type": "code",
      "execution_count": 78,
      "metadata": {},
      "outputs": [
        {
          "ename": "NameError",
          "evalue": "name 'vis' is not defined",
          "output_type": "error",
          "traceback": [
            "\u001b[1;31m---------------------------------------------------------------------------\u001b[0m",
            "\u001b[1;31mNameError\u001b[0m                                 Traceback (most recent call last)",
            "\u001b[1;32mc:\\Users\\HP\\Downloads\\zinc_data.ipynb Cell 75\u001b[0m in \u001b[0;36m1\n\u001b[1;32m----> <a href='vscode-notebook-cell:/c%3A/Users/HP/Downloads/zinc_data.ipynb#Y136sZmlsZQ%3D%3D?line=0'>1</a>\u001b[0m vis\n",
            "\u001b[1;31mNameError\u001b[0m: name 'vis' is not defined"
          ]
        }
      ],
      "source": []
    },
    {
      "cell_type": "code",
      "execution_count": 1,
      "metadata": {},
      "outputs": [
        {
          "name": "stderr",
          "output_type": "stream",
          "text": [
            "'create' is not recognized as an internal or external command,\n",
            "operable program or batch file.\n"
          ]
        }
      ],
      "source": [
        "!create env dddd"
      ]
    },
    {
      "cell_type": "code",
      "execution_count": null,
      "metadata": {},
      "outputs": [],
      "source": []
    }
  ],
  "metadata": {
    "colab": {
      "provenance": []
    },
    "kernelspec": {
      "display_name": "Python 3",
      "language": "python",
      "name": "python3"
    },
    "language_info": {
      "codemirror_mode": {
        "name": "ipython",
        "version": 3
      },
      "file_extension": ".py",
      "mimetype": "text/x-python",
      "name": "python",
      "nbconvert_exporter": "python",
      "pygments_lexer": "ipython3",
      "version": "3.10.7"
    },
    "vscode": {
      "interpreter": {
        "hash": "a9cff5a362bc38ef45d817ae74b1af54d6a076e3d773891282bce078b815ba34"
      }
    }
  },
  "nbformat": 4,
  "nbformat_minor": 0
}
